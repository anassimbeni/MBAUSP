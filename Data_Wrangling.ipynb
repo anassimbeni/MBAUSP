{
  "nbformat": 4,
  "nbformat_minor": 0,
  "metadata": {
    "colab": {
      "name": "Data Wrangling.ipynb",
      "provenance": [],
      "collapsed_sections": [],
      "toc_visible": true,
      "authorship_tag": "ABX9TyNQ9KLiuQS6AhPETXs6T2RO",
      "include_colab_link": true
    },
    "kernelspec": {
      "name": "ir",
      "display_name": "R"
    },
    "language_info": {
      "name": "R"
    }
  },
  "cells": [
    {
      "cell_type": "markdown",
      "metadata": {
        "id": "view-in-github",
        "colab_type": "text"
      },
      "source": [
        "<a href=\"https://colab.research.google.com/github/anassimbeni/MBAUSP/blob/main/Data_Wrangling.ipynb\" target=\"_parent\"><img src=\"https://colab.research.google.com/assets/colab-badge.svg\" alt=\"Open In Colab\"/></a>"
      ]
    },
    {
      "cell_type": "markdown",
      "metadata": {
        "id": "v21FNhOJj__G"
      },
      "source": [
        "# MBA USP - Data Wrangling"
      ]
    },
    {
      "cell_type": "markdown",
      "metadata": {
        "id": "nVeWSqpIkVYp"
      },
      "source": [
        "## Definições Básicas"
      ]
    },
    {
      "cell_type": "markdown",
      "metadata": {
        "id": "DUhNm3J4kltH"
      },
      "source": [
        "Para a execução dos scripts das aulas será necessária a utilização de bibliotecas como dplyr e ggplot2 que estão contidas no pacote tidyverse."
      ]
    },
    {
      "cell_type": "markdown",
      "metadata": {
        "id": "prsQkQVek8Jq"
      },
      "source": [
        "*Obs, na utilização do google colab não é necessária realizar a instalação, somente a declaração, porém em softwares como o RStudio se faz necessária instalação através do comando:\n",
        "\n",
        "install.packages(\"tidyverse\")"
      ]
    },
    {
      "cell_type": "code",
      "metadata": {
        "id": "NW0aQP9YO4ac",
        "colab": {
          "base_uri": "https://localhost:8080/"
        },
        "outputId": "c5c21e2f-45a3-474b-bc2d-b48ad577d0dd"
      },
      "source": [
        "library(tidyverse)"
      ],
      "execution_count": null,
      "outputs": [
        {
          "output_type": "stream",
          "name": "stderr",
          "text": [
            "Warning message in system(\"timedatectl\", intern = TRUE):\n",
            "“running command 'timedatectl' had status 1”\n",
            "── \u001b[1mAttaching packages\u001b[22m ─────────────────────────────────────── tidyverse 1.3.1 ──\n",
            "\n",
            "\u001b[32m✔\u001b[39m \u001b[34mggplot2\u001b[39m 3.3.5     \u001b[32m✔\u001b[39m \u001b[34mpurrr  \u001b[39m 0.3.4\n",
            "\u001b[32m✔\u001b[39m \u001b[34mtibble \u001b[39m 3.1.6     \u001b[32m✔\u001b[39m \u001b[34mdplyr  \u001b[39m 1.0.7\n",
            "\u001b[32m✔\u001b[39m \u001b[34mtidyr  \u001b[39m 1.1.4     \u001b[32m✔\u001b[39m \u001b[34mstringr\u001b[39m 1.4.0\n",
            "\u001b[32m✔\u001b[39m \u001b[34mreadr  \u001b[39m 2.1.0     \u001b[32m✔\u001b[39m \u001b[34mforcats\u001b[39m 0.5.1\n",
            "\n",
            "── \u001b[1mConflicts\u001b[22m ────────────────────────────────────────── tidyverse_conflicts() ──\n",
            "\u001b[31m✖\u001b[39m \u001b[34mdplyr\u001b[39m::\u001b[32mfilter()\u001b[39m masks \u001b[34mstats\u001b[39m::filter()\n",
            "\u001b[31m✖\u001b[39m \u001b[34mdplyr\u001b[39m::\u001b[32mlag()\u001b[39m    masks \u001b[34mstats\u001b[39m::lag()\n",
            "\n"
          ]
        }
      ]
    },
    {
      "cell_type": "markdown",
      "metadata": {
        "id": "i3aJ25WglrvA"
      },
      "source": [
        "Realizaremos a leitura de arquivos no formato excel para importar os dados a serem trabalhados, portanto é necessário declarar a biblioteca readxl."
      ]
    },
    {
      "cell_type": "code",
      "metadata": {
        "id": "Q9TFgA9nl-bc"
      },
      "source": [
        "library(readxl)"
      ],
      "execution_count": null,
      "outputs": []
    },
    {
      "cell_type": "markdown",
      "metadata": {
        "id": "kklWTkRDvpX3"
      },
      "source": [
        "### Carregamento de arquivos"
      ]
    },
    {
      "cell_type": "markdown",
      "metadata": {
        "id": "_ypGDrZeuaRf"
      },
      "source": [
        "Para realização das atividades algumas base de dados precisam ser carregadas, estão estão armazenadas no google drive e são localizadas pelo hash \"id\", se ocorrer erros substituir os arquivos."
      ]
    },
    {
      "cell_type": "markdown",
      "metadata": {
        "id": "DV9EuuYAuxM8"
      },
      "source": [
        "**(1.2) Dataset Aula Data Wrangling.xls**"
      ]
    },
    {
      "cell_type": "code",
      "metadata": {
        "id": "CDALVsMFu6YF"
      },
      "source": [
        "system(\"gdown --id 1VAevjCUexLb03jLj10vZsJDvhiue5fsm\")"
      ],
      "execution_count": null,
      "outputs": []
    },
    {
      "cell_type": "markdown",
      "metadata": {
        "id": "pgIg-FUKu-mB"
      },
      "source": [
        "**(1.3) Dataset Aula Data Wrangling (Join).xls**"
      ]
    },
    {
      "cell_type": "code",
      "metadata": {
        "id": "bts-oBZ9u--3"
      },
      "source": [
        "system(\"gdown --id 1dVoBogi3f6QbBHSylz_jqnCqf7r6016Y\")"
      ],
      "execution_count": null,
      "outputs": []
    },
    {
      "cell_type": "markdown",
      "metadata": {
        "id": "UvPd29yFu_RK"
      },
      "source": [
        "**(2.2) WHO COVID-19 Global Table.csv**"
      ]
    },
    {
      "cell_type": "code",
      "metadata": {
        "id": "Ifzigub1u_Lj"
      },
      "source": [
        "system(\"gdown --id 1eEGBKktlrOM11rrQlnXT0IkRCYcR1OYH\")"
      ],
      "execution_count": null,
      "outputs": []
    },
    {
      "cell_type": "markdown",
      "metadata": {
        "id": "ZIQ9QfJtu_F5"
      },
      "source": [
        "**(2.3) WBD PIB per Capita.xls**"
      ]
    },
    {
      "cell_type": "code",
      "metadata": {
        "id": "DL56dWVCu_WW"
      },
      "source": [
        "system(\"gdown --id 18aq9ivWWWGBYLUs5JS1yGuGgQGrwLF_z\")"
      ],
      "execution_count": null,
      "outputs": []
    },
    {
      "cell_type": "markdown",
      "metadata": {
        "id": "dQb4lSrHu_bf"
      },
      "source": [
        "**(4.2) CVM Resultado Wrangling.xlsx**"
      ]
    },
    {
      "cell_type": "code",
      "metadata": {
        "id": "uKrA-006u_gr"
      },
      "source": [
        "system(\"gdown --id 1OSYjHFjW3yIUIMi1sJ-6GJyBuh4-FYSl\")"
      ],
      "execution_count": null,
      "outputs": []
    },
    {
      "cell_type": "markdown",
      "metadata": {
        "id": "Llba82Alv5-d"
      },
      "source": [
        "**(4.3) CVM Dados Cadastrais.xlsx**"
      ]
    },
    {
      "cell_type": "code",
      "metadata": {
        "id": "QSmUeyDSv6VR"
      },
      "source": [
        "system(\"gdown --id 1czRw5avAz-G65eEU_z9LXDeY556R0DUl\")"
      ],
      "execution_count": null,
      "outputs": []
    },
    {
      "cell_type": "markdown",
      "metadata": {
        "id": "k5oGB0LYv6bY"
      },
      "source": [
        "**(5.2) Champions League 2020-2021.csv**"
      ]
    },
    {
      "cell_type": "code",
      "metadata": {
        "id": "1duZNBO-v6gD"
      },
      "source": [
        "system(\"gdown --id 1vkQSzP0Ab_eYOkIlHiMTf--4knUz8Qal\")"
      ],
      "execution_count": null,
      "outputs": []
    },
    {
      "cell_type": "markdown",
      "metadata": {
        "id": "VyweVLwiv6lK"
      },
      "source": [
        "**(6.2) Filmes Streaming.csv**"
      ]
    },
    {
      "cell_type": "code",
      "metadata": {
        "id": "eBW6HKEhv6pT"
      },
      "source": [
        "system(\"gdown --id 1F4AzGq7qyGGcp30hFcNxsMuWhEs8ixw4\")"
      ],
      "execution_count": null,
      "outputs": []
    },
    {
      "cell_type": "markdown",
      "metadata": {
        "id": "_7QLSE9SwGul"
      },
      "source": [
        "**(6.3) Séries Streaming.csv**"
      ]
    },
    {
      "cell_type": "code",
      "metadata": {
        "id": "viX0lcd8wG07"
      },
      "source": [
        "system(\"gdown --id 1mvlIzlMhEFAs-axYjLMmnuxPFgAFd6jK\")"
      ],
      "execution_count": null,
      "outputs": []
    },
    {
      "cell_type": "markdown",
      "metadata": {
        "id": "LEFM0JzomFR8"
      },
      "source": [
        "## Aula I"
      ]
    },
    {
      "cell_type": "markdown",
      "metadata": {
        "id": "JPuy5NNH8GXF"
      },
      "source": [
        "###Lendo arquivos"
      ]
    },
    {
      "cell_type": "markdown",
      "metadata": {
        "id": "HHcHkOj614Cs"
      },
      "source": [
        "**read_excel** realiza a leitura de arquivos excel."
      ]
    },
    {
      "cell_type": "code",
      "metadata": {
        "id": "VrYnQa7Un_k1"
      },
      "source": [
        "dataset_inicial <- read_excel(\"(1.2) Dataset Aula Data Wrangling.xls\")"
      ],
      "execution_count": null,
      "outputs": []
    },
    {
      "cell_type": "markdown",
      "metadata": {
        "id": "6UNGuVOr2DeP"
      },
      "source": [
        "**reas.csv** realiza a leitura de arquivos em csv.\n",
        "\n"
      ]
    },
    {
      "cell_type": "code",
      "metadata": {
        "id": "h92MB7ht2Dj7"
      },
      "source": [
        "dataset_csv <- read.csv(\"(2.2) WHO COVID-19 Global Table.csv\", #<-- Arquivo\n",
        "                        header = TRUE, #<-- O CSV possui cabeçalho\n",
        "                        sep = \",\", #<-- Separador de informações do CSV\n",
        "                        dec = \".\")  #<-- Ponto de separação decimal 10.00"
      ],
      "execution_count": null,
      "outputs": []
    },
    {
      "cell_type": "markdown",
      "metadata": {
        "id": "JIpupGee8Sk_"
      },
      "source": [
        "###Visualizando Dataset"
      ]
    },
    {
      "cell_type": "markdown",
      "metadata": {
        "id": "QAll28K12djY"
      },
      "source": [
        "**View** realiza a visualização do arquivo no formato de tabela para matrizes."
      ]
    },
    {
      "cell_type": "code",
      "metadata": {
        "colab": {
          "base_uri": "https://localhost:8080/",
          "height": 446
        },
        "id": "f_N9M2nU23kl",
        "outputId": "dd729af1-8a30-4b4c-97d6-fa2c4b012650"
      },
      "source": [
        "View(dataset_inicial)"
      ],
      "execution_count": null,
      "outputs": [
        {
          "output_type": "display_data",
          "data": {
            "text/markdown": "\nA tibble: 10 × 6\n\n| Estudante &lt;chr&gt; | Tempo para chegar à escola (minutos) &lt;dbl&gt; | Distância percorrida até a escola (quilômetros) &lt;dbl&gt; | Quantidade de semáforos &lt;dbl&gt; | Período do dia &lt;chr&gt; | Perfil ao volante &lt;chr&gt; |\n|---|---|---|---|---|---|\n| Gabriela    | 15 |  8 | 0 | Manhã | calmo     |\n| Dalila      | 20 |  6 | 1 | Manhã | moderado  |\n| Gustavo     | 20 | 15 | 0 | Manhã | moderado  |\n| Letícia     | 40 | 20 | 1 | Tarde | agressivo |\n| Luiz Ovídio | 50 | 25 | 2 | Tarde | agressivo |\n| Leonor      | 25 | 11 | 1 | Manhã | moderado  |\n| Ana         | 10 |  5 | 0 | Manhã | calmo     |\n| Antônio     | 55 | 32 | 3 | Tarde | calmo     |\n| Júlia       | 35 | 28 | 1 | Manhã | moderado  |\n| Mariana     | 30 | 20 | 1 | Manhã | moderado  |\n\n",
            "text/latex": "A tibble: 10 × 6\n\\begin{tabular}{llllll}\n Estudante & Tempo para chegar à escola (minutos) & Distância percorrida até a escola (quilômetros) & Quantidade de semáforos & Período do dia & Perfil ao volante\\\\\n <chr> & <dbl> & <dbl> & <dbl> & <chr> & <chr>\\\\\n\\hline\n\t Gabriela    & 15 &  8 & 0 & Manhã & calmo    \\\\\n\t Dalila      & 20 &  6 & 1 & Manhã & moderado \\\\\n\t Gustavo     & 20 & 15 & 0 & Manhã & moderado \\\\\n\t Letícia     & 40 & 20 & 1 & Tarde & agressivo\\\\\n\t Luiz Ovídio & 50 & 25 & 2 & Tarde & agressivo\\\\\n\t Leonor      & 25 & 11 & 1 & Manhã & moderado \\\\\n\t Ana         & 10 &  5 & 0 & Manhã & calmo    \\\\\n\t Antônio     & 55 & 32 & 3 & Tarde & calmo    \\\\\n\t Júlia       & 35 & 28 & 1 & Manhã & moderado \\\\\n\t Mariana     & 30 & 20 & 1 & Manhã & moderado \\\\\n\\end{tabular}\n",
            "text/html": [
              "<table class=\"dataframe\">\n",
              "<caption>A tibble: 10 × 6</caption>\n",
              "<thead>\n",
              "\t<tr><th scope=col>Estudante</th><th scope=col>Tempo para chegar à escola (minutos)</th><th scope=col>Distância percorrida até a escola (quilômetros)</th><th scope=col>Quantidade de semáforos</th><th scope=col>Período do dia</th><th scope=col>Perfil ao volante</th></tr>\n",
              "\t<tr><th scope=col>&lt;chr&gt;</th><th scope=col>&lt;dbl&gt;</th><th scope=col>&lt;dbl&gt;</th><th scope=col>&lt;dbl&gt;</th><th scope=col>&lt;chr&gt;</th><th scope=col>&lt;chr&gt;</th></tr>\n",
              "</thead>\n",
              "<tbody>\n",
              "\t<tr><td>Gabriela   </td><td>15</td><td> 8</td><td>0</td><td>Manhã</td><td>calmo    </td></tr>\n",
              "\t<tr><td>Dalila     </td><td>20</td><td> 6</td><td>1</td><td>Manhã</td><td>moderado </td></tr>\n",
              "\t<tr><td>Gustavo    </td><td>20</td><td>15</td><td>0</td><td>Manhã</td><td>moderado </td></tr>\n",
              "\t<tr><td>Letícia    </td><td>40</td><td>20</td><td>1</td><td>Tarde</td><td>agressivo</td></tr>\n",
              "\t<tr><td>Luiz Ovídio</td><td>50</td><td>25</td><td>2</td><td>Tarde</td><td>agressivo</td></tr>\n",
              "\t<tr><td>Leonor     </td><td>25</td><td>11</td><td>1</td><td>Manhã</td><td>moderado </td></tr>\n",
              "\t<tr><td>Ana        </td><td>10</td><td> 5</td><td>0</td><td>Manhã</td><td>calmo    </td></tr>\n",
              "\t<tr><td>Antônio    </td><td>55</td><td>32</td><td>3</td><td>Tarde</td><td>calmo    </td></tr>\n",
              "\t<tr><td>Júlia      </td><td>35</td><td>28</td><td>1</td><td>Manhã</td><td>moderado </td></tr>\n",
              "\t<tr><td>Mariana    </td><td>30</td><td>20</td><td>1</td><td>Manhã</td><td>moderado </td></tr>\n",
              "</tbody>\n",
              "</table>\n"
            ],
            "text/plain": [
              "   Estudante   Tempo para chegar à escola (minutos)\n",
              "1  Gabriela    15                                  \n",
              "2  Dalila      20                                  \n",
              "3  Gustavo     20                                  \n",
              "4  Letícia     40                                  \n",
              "5  Luiz Ovídio 50                                  \n",
              "6  Leonor      25                                  \n",
              "7  Ana         10                                  \n",
              "8  Antônio     55                                  \n",
              "9  Júlia       35                                  \n",
              "10 Mariana     30                                  \n",
              "   Distância percorrida até a escola (quilômetros) Quantidade de semáforos\n",
              "1   8                                              0                      \n",
              "2   6                                              1                      \n",
              "3  15                                              0                      \n",
              "4  20                                              1                      \n",
              "5  25                                              2                      \n",
              "6  11                                              1                      \n",
              "7   5                                              0                      \n",
              "8  32                                              3                      \n",
              "9  28                                              1                      \n",
              "10 20                                              1                      \n",
              "   Período do dia Perfil ao volante\n",
              "1  Manhã          calmo            \n",
              "2  Manhã          moderado         \n",
              "3  Manhã          moderado         \n",
              "4  Tarde          agressivo        \n",
              "5  Tarde          agressivo        \n",
              "6  Manhã          moderado         \n",
              "7  Manhã          calmo            \n",
              "8  Tarde          calmo            \n",
              "9  Manhã          moderado         \n",
              "10 Manhã          moderado         "
            ]
          },
          "metadata": {}
        }
      ]
    },
    {
      "cell_type": "markdown",
      "metadata": {
        "id": "R0NGMW2W28u9"
      },
      "source": [
        "**head** mostra somente as primeiras linhas sendo estas limitadas ao parâmetro n."
      ]
    },
    {
      "cell_type": "code",
      "metadata": {
        "colab": {
          "base_uri": "https://localhost:8080/",
          "height": 290
        },
        "id": "Xn3Woe2o3Tor",
        "outputId": "9ee58831-d94c-41b7-d192-a04b9365daab"
      },
      "source": [
        "head(dataset_inicial, n=5)"
      ],
      "execution_count": null,
      "outputs": [
        {
          "output_type": "display_data",
          "data": {
            "text/plain": [
              "  Estudante   Tempo para chegar à escola (minutos)\n",
              "1 Gabriela    15                                  \n",
              "2 Dalila      20                                  \n",
              "3 Gustavo     20                                  \n",
              "4 Letícia     40                                  \n",
              "5 Luiz Ovídio 50                                  \n",
              "  Distância percorrida até a escola (quilômetros) Quantidade de semáforos\n",
              "1  8                                              0                      \n",
              "2  6                                              1                      \n",
              "3 15                                              0                      \n",
              "4 20                                              1                      \n",
              "5 25                                              2                      \n",
              "  Período do dia Perfil ao volante\n",
              "1 Manhã          calmo            \n",
              "2 Manhã          moderado         \n",
              "3 Manhã          moderado         \n",
              "4 Tarde          agressivo        \n",
              "5 Tarde          agressivo        "
            ],
            "text/latex": "A tibble: 5 × 6\n\\begin{tabular}{llllll}\n Estudante & Tempo para chegar à escola (minutos) & Distância percorrida até a escola (quilômetros) & Quantidade de semáforos & Período do dia & Perfil ao volante\\\\\n <chr> & <dbl> & <dbl> & <dbl> & <chr> & <chr>\\\\\n\\hline\n\t Gabriela    & 15 &  8 & 0 & Manhã & calmo    \\\\\n\t Dalila      & 20 &  6 & 1 & Manhã & moderado \\\\\n\t Gustavo     & 20 & 15 & 0 & Manhã & moderado \\\\\n\t Letícia     & 40 & 20 & 1 & Tarde & agressivo\\\\\n\t Luiz Ovídio & 50 & 25 & 2 & Tarde & agressivo\\\\\n\\end{tabular}\n",
            "text/markdown": "\nA tibble: 5 × 6\n\n| Estudante &lt;chr&gt; | Tempo para chegar à escola (minutos) &lt;dbl&gt; | Distância percorrida até a escola (quilômetros) &lt;dbl&gt; | Quantidade de semáforos &lt;dbl&gt; | Período do dia &lt;chr&gt; | Perfil ao volante &lt;chr&gt; |\n|---|---|---|---|---|---|\n| Gabriela    | 15 |  8 | 0 | Manhã | calmo     |\n| Dalila      | 20 |  6 | 1 | Manhã | moderado  |\n| Gustavo     | 20 | 15 | 0 | Manhã | moderado  |\n| Letícia     | 40 | 20 | 1 | Tarde | agressivo |\n| Luiz Ovídio | 50 | 25 | 2 | Tarde | agressivo |\n\n",
            "text/html": [
              "<table class=\"dataframe\">\n",
              "<caption>A tibble: 5 × 6</caption>\n",
              "<thead>\n",
              "\t<tr><th scope=col>Estudante</th><th scope=col>Tempo para chegar à escola (minutos)</th><th scope=col>Distância percorrida até a escola (quilômetros)</th><th scope=col>Quantidade de semáforos</th><th scope=col>Período do dia</th><th scope=col>Perfil ao volante</th></tr>\n",
              "\t<tr><th scope=col>&lt;chr&gt;</th><th scope=col>&lt;dbl&gt;</th><th scope=col>&lt;dbl&gt;</th><th scope=col>&lt;dbl&gt;</th><th scope=col>&lt;chr&gt;</th><th scope=col>&lt;chr&gt;</th></tr>\n",
              "</thead>\n",
              "<tbody>\n",
              "\t<tr><td>Gabriela   </td><td>15</td><td> 8</td><td>0</td><td>Manhã</td><td>calmo    </td></tr>\n",
              "\t<tr><td>Dalila     </td><td>20</td><td> 6</td><td>1</td><td>Manhã</td><td>moderado </td></tr>\n",
              "\t<tr><td>Gustavo    </td><td>20</td><td>15</td><td>0</td><td>Manhã</td><td>moderado </td></tr>\n",
              "\t<tr><td>Letícia    </td><td>40</td><td>20</td><td>1</td><td>Tarde</td><td>agressivo</td></tr>\n",
              "\t<tr><td>Luiz Ovídio</td><td>50</td><td>25</td><td>2</td><td>Tarde</td><td>agressivo</td></tr>\n",
              "</tbody>\n",
              "</table>\n"
            ]
          },
          "metadata": {}
        }
      ]
    },
    {
      "cell_type": "markdown",
      "metadata": {
        "id": "sD-B3vee3ZId"
      },
      "source": [
        "**tail** semelhante ao head, porém mostra as ultimas linhas limitadas ao parâmetro n."
      ]
    },
    {
      "cell_type": "code",
      "metadata": {
        "colab": {
          "base_uri": "https://localhost:8080/",
          "height": 272
        },
        "id": "LcH9zGYu3rhd",
        "outputId": "691cbcb9-062a-4d62-a324-883514f63ec9"
      },
      "source": [
        "tail(dataset_inicial, n=5)"
      ],
      "execution_count": null,
      "outputs": [
        {
          "output_type": "display_data",
          "data": {
            "text/plain": [
              "  Estudante Tempo para chegar à escola (minutos)\n",
              "1 Leonor    25                                  \n",
              "2 Ana       10                                  \n",
              "3 Antônio   55                                  \n",
              "4 Júlia     35                                  \n",
              "5 Mariana   30                                  \n",
              "  Distância percorrida até a escola (quilômetros) Quantidade de semáforos\n",
              "1 11                                              1                      \n",
              "2  5                                              0                      \n",
              "3 32                                              3                      \n",
              "4 28                                              1                      \n",
              "5 20                                              1                      \n",
              "  Período do dia Perfil ao volante\n",
              "1 Manhã          moderado         \n",
              "2 Manhã          calmo            \n",
              "3 Tarde          calmo            \n",
              "4 Manhã          moderado         \n",
              "5 Manhã          moderado         "
            ],
            "text/latex": "A tibble: 5 × 6\n\\begin{tabular}{llllll}\n Estudante & Tempo para chegar à escola (minutos) & Distância percorrida até a escola (quilômetros) & Quantidade de semáforos & Período do dia & Perfil ao volante\\\\\n <chr> & <dbl> & <dbl> & <dbl> & <chr> & <chr>\\\\\n\\hline\n\t Leonor  & 25 & 11 & 1 & Manhã & moderado\\\\\n\t Ana     & 10 &  5 & 0 & Manhã & calmo   \\\\\n\t Antônio & 55 & 32 & 3 & Tarde & calmo   \\\\\n\t Júlia   & 35 & 28 & 1 & Manhã & moderado\\\\\n\t Mariana & 30 & 20 & 1 & Manhã & moderado\\\\\n\\end{tabular}\n",
            "text/markdown": "\nA tibble: 5 × 6\n\n| Estudante &lt;chr&gt; | Tempo para chegar à escola (minutos) &lt;dbl&gt; | Distância percorrida até a escola (quilômetros) &lt;dbl&gt; | Quantidade de semáforos &lt;dbl&gt; | Período do dia &lt;chr&gt; | Perfil ao volante &lt;chr&gt; |\n|---|---|---|---|---|---|\n| Leonor  | 25 | 11 | 1 | Manhã | moderado |\n| Ana     | 10 |  5 | 0 | Manhã | calmo    |\n| Antônio | 55 | 32 | 3 | Tarde | calmo    |\n| Júlia   | 35 | 28 | 1 | Manhã | moderado |\n| Mariana | 30 | 20 | 1 | Manhã | moderado |\n\n",
            "text/html": [
              "<table class=\"dataframe\">\n",
              "<caption>A tibble: 5 × 6</caption>\n",
              "<thead>\n",
              "\t<tr><th scope=col>Estudante</th><th scope=col>Tempo para chegar à escola (minutos)</th><th scope=col>Distância percorrida até a escola (quilômetros)</th><th scope=col>Quantidade de semáforos</th><th scope=col>Período do dia</th><th scope=col>Perfil ao volante</th></tr>\n",
              "\t<tr><th scope=col>&lt;chr&gt;</th><th scope=col>&lt;dbl&gt;</th><th scope=col>&lt;dbl&gt;</th><th scope=col>&lt;dbl&gt;</th><th scope=col>&lt;chr&gt;</th><th scope=col>&lt;chr&gt;</th></tr>\n",
              "</thead>\n",
              "<tbody>\n",
              "\t<tr><td>Leonor </td><td>25</td><td>11</td><td>1</td><td>Manhã</td><td>moderado</td></tr>\n",
              "\t<tr><td>Ana    </td><td>10</td><td> 5</td><td>0</td><td>Manhã</td><td>calmo   </td></tr>\n",
              "\t<tr><td>Antônio</td><td>55</td><td>32</td><td>3</td><td>Tarde</td><td>calmo   </td></tr>\n",
              "\t<tr><td>Júlia  </td><td>35</td><td>28</td><td>1</td><td>Manhã</td><td>moderado</td></tr>\n",
              "\t<tr><td>Mariana</td><td>30</td><td>20</td><td>1</td><td>Manhã</td><td>moderado</td></tr>\n",
              "</tbody>\n",
              "</table>\n"
            ]
          },
          "metadata": {}
        }
      ]
    },
    {
      "cell_type": "markdown",
      "metadata": {
        "id": "J8OrC_Vz3wSp"
      },
      "source": [
        "**str** mostra a estrutura do dataset."
      ]
    },
    {
      "cell_type": "code",
      "metadata": {
        "colab": {
          "base_uri": "https://localhost:8080/"
        },
        "id": "SJtiIIQv4Bm1",
        "outputId": "25f83d99-60b6-451b-9fcc-1e2fcb6bd408"
      },
      "source": [
        "str(dataset_inicial)"
      ],
      "execution_count": null,
      "outputs": [
        {
          "output_type": "stream",
          "name": "stdout",
          "text": [
            "tibble [10 × 6] (S3: tbl_df/tbl/data.frame)\n",
            " $ Estudante                                      : chr [1:10] \"Gabriela\" \"Dalila\" \"Gustavo\" \"Letícia\" ...\n",
            " $ Tempo para chegar à escola (minutos)           : num [1:10] 15 20 20 40 50 25 10 55 35 30\n",
            " $ Distância percorrida até a escola (quilômetros): num [1:10] 8 6 15 20 25 11 5 32 28 20\n",
            " $ Quantidade de semáforos                        : num [1:10] 0 1 0 1 2 1 0 3 1 1\n",
            " $ Período do dia                                 : chr [1:10] \"Manhã\" \"Manhã\" \"Manhã\" \"Tarde\" ...\n",
            " $ Perfil ao volante                              : chr [1:10] \"calmo\" \"moderado\" \"moderado\" \"agressivo\" ...\n"
          ]
        }
      ]
    },
    {
      "cell_type": "markdown",
      "metadata": {
        "id": "nEoPzSk64lm7"
      },
      "source": [
        "**glimpse** semelhante ao str porém a visualização é mais organizada."
      ]
    },
    {
      "cell_type": "code",
      "metadata": {
        "colab": {
          "base_uri": "https://localhost:8080/"
        },
        "id": "27nH_p-R4lxf",
        "outputId": "c6fbd29a-5a3a-4858-8e54-f5bf0d27144c"
      },
      "source": [
        "glimpse(dataset_inicial)"
      ],
      "execution_count": null,
      "outputs": [
        {
          "output_type": "stream",
          "name": "stdout",
          "text": [
            "Rows: 10\n",
            "Columns: 6\n",
            "$ Estudante                                         \u001b[3m\u001b[90m<chr>\u001b[39m\u001b[23m \"Gabriela\", \"Dalila\"…\n",
            "$ `Tempo para chegar à escola (minutos)`            \u001b[3m\u001b[90m<dbl>\u001b[39m\u001b[23m 15, 20, 20, 40, 50, …\n",
            "$ `Distância percorrida até a escola (quilômetros)` \u001b[3m\u001b[90m<dbl>\u001b[39m\u001b[23m 8, 6, 15, 20, 25, 11…\n",
            "$ `Quantidade de semáforos`                         \u001b[3m\u001b[90m<dbl>\u001b[39m\u001b[23m 0, 1, 0, 1, 2, 1, 0,…\n",
            "$ `Período do dia`                                  \u001b[3m\u001b[90m<chr>\u001b[39m\u001b[23m \"Manhã\", \"Manhã\", \"M…\n",
            "$ `Perfil ao volante`                               \u001b[3m\u001b[90m<chr>\u001b[39m\u001b[23m \"calmo\", \"moderado\",…\n"
          ]
        }
      ]
    },
    {
      "cell_type": "markdown",
      "metadata": {
        "id": "F851WH2K5NC_"
      },
      "source": [
        "**print** apresenta o dateset no console, porém é resumido se conter muitos dados."
      ]
    },
    {
      "cell_type": "code",
      "metadata": {
        "colab": {
          "base_uri": "https://localhost:8080/"
        },
        "id": "tr3NUvH65NMH",
        "outputId": "886b0f90-683b-435d-f63d-bbdf0fcb4c9c"
      },
      "source": [
        "print(dataset_inicial)"
      ],
      "execution_count": null,
      "outputs": [
        {
          "output_type": "stream",
          "name": "stdout",
          "text": [
            "\u001b[90m# A tibble: 10 × 6\u001b[39m\n",
            "   Estudante `Tempo para che… `Distância perc… `Quantidade de … `Período do dia`\n",
            "   \u001b[3m\u001b[90m<chr>\u001b[39m\u001b[23m                \u001b[3m\u001b[90m<dbl>\u001b[39m\u001b[23m            \u001b[3m\u001b[90m<dbl>\u001b[39m\u001b[23m            \u001b[3m\u001b[90m<dbl>\u001b[39m\u001b[23m \u001b[3m\u001b[90m<chr>\u001b[39m\u001b[23m           \n",
            "\u001b[90m 1\u001b[39m Gabriela                15                8                0 Manhã           \n",
            "\u001b[90m 2\u001b[39m Dalila                  20                6                1 Manhã           \n",
            "\u001b[90m 3\u001b[39m Gustavo                 20               15                0 Manhã           \n",
            "\u001b[90m 4\u001b[39m Letícia                 40               20                1 Tarde           \n",
            "\u001b[90m 5\u001b[39m Luiz Oví…               50               25                2 Tarde           \n",
            "\u001b[90m 6\u001b[39m Leonor                  25               11                1 Manhã           \n",
            "\u001b[90m 7\u001b[39m Ana                     10                5                0 Manhã           \n",
            "\u001b[90m 8\u001b[39m Antônio                 55               32                3 Tarde           \n",
            "\u001b[90m 9\u001b[39m Júlia                   35               28                1 Manhã           \n",
            "\u001b[90m10\u001b[39m Mariana                 30               20                1 Manhã           \n",
            "\u001b[90m# … with 1 more variable: Perfil ao volante <chr>\u001b[39m\n"
          ]
        }
      ]
    },
    {
      "cell_type": "markdown",
      "metadata": {
        "id": "V75YjxT55olT"
      },
      "source": [
        "**dim** informa a dimenção do dataset (linhas, colunas)."
      ]
    },
    {
      "cell_type": "code",
      "metadata": {
        "colab": {
          "base_uri": "https://localhost:8080/",
          "height": 34
        },
        "id": "Wilw37k05ods",
        "outputId": "6dc04a33-e707-4a43-d798-8aa088e93b2f"
      },
      "source": [
        "dim(dataset_inicial)"
      ],
      "execution_count": null,
      "outputs": [
        {
          "output_type": "display_data",
          "data": {
            "text/plain": [
              "[1] 10  6"
            ],
            "text/latex": "\\begin{enumerate*}\n\\item 10\n\\item 6\n\\end{enumerate*}\n",
            "text/markdown": "1. 10\n2. 6\n\n\n",
            "text/html": [
              "<style>\n",
              ".list-inline {list-style: none; margin:0; padding: 0}\n",
              ".list-inline>li {display: inline-block}\n",
              ".list-inline>li:not(:last-child)::after {content: \"\\00b7\"; padding: 0 .5ex}\n",
              "</style>\n",
              "<ol class=list-inline><li>10</li><li>6</li></ol>\n"
            ]
          },
          "metadata": {}
        }
      ]
    },
    {
      "cell_type": "markdown",
      "metadata": {
        "id": "anMp0R3B6CBP"
      },
      "source": [
        "**names** informa o títulos das colunas (chamadas de variáveis em um dataset)."
      ]
    },
    {
      "cell_type": "code",
      "metadata": {
        "colab": {
          "base_uri": "https://localhost:8080/",
          "height": 52
        },
        "id": "wqFOg9E953B_",
        "outputId": "1b91d220-faef-4887-a7dd-a1d86b77ba6b"
      },
      "source": [
        "names(dataset_inicial)"
      ],
      "execution_count": null,
      "outputs": [
        {
          "output_type": "display_data",
          "data": {
            "text/plain": [
              "[1] \"Estudante\"                                      \n",
              "[2] \"Tempo para chegar à escola (minutos)\"           \n",
              "[3] \"Distância percorrida até a escola (quilômetros)\"\n",
              "[4] \"Quantidade de semáforos\"                        \n",
              "[5] \"Período do dia\"                                 \n",
              "[6] \"Perfil ao volante\"                              "
            ],
            "text/latex": "\\begin{enumerate*}\n\\item 'Estudante'\n\\item 'Tempo para chegar à escola (minutos)'\n\\item 'Distância percorrida até a escola (quilômetros)'\n\\item 'Quantidade de semáforos'\n\\item 'Período do dia'\n\\item 'Perfil ao volante'\n\\end{enumerate*}\n",
            "text/markdown": "1. 'Estudante'\n2. 'Tempo para chegar à escola (minutos)'\n3. 'Distância percorrida até a escola (quilômetros)'\n4. 'Quantidade de semáforos'\n5. 'Período do dia'\n6. 'Perfil ao volante'\n\n\n",
            "text/html": [
              "<style>\n",
              ".list-inline {list-style: none; margin:0; padding: 0}\n",
              ".list-inline>li {display: inline-block}\n",
              ".list-inline>li:not(:last-child)::after {content: \"\\00b7\"; padding: 0 .5ex}\n",
              "</style>\n",
              "<ol class=list-inline><li>'Estudante'</li><li>'Tempo para chegar à escola (minutos)'</li><li>'Distância percorrida até a escola (quilômetros)'</li><li>'Quantidade de semáforos'</li><li>'Período do dia'</li><li>'Perfil ao volante'</li></ol>\n"
            ]
          },
          "metadata": {}
        }
      ]
    },
    {
      "cell_type": "markdown",
      "metadata": {
        "id": "5UFmSU4C6O8V"
      },
      "source": [
        "**$** Para especificar uma variável do dataset o utilizamos como separador."
      ]
    },
    {
      "cell_type": "code",
      "metadata": {
        "colab": {
          "base_uri": "https://localhost:8080/",
          "height": 34
        },
        "id": "-FOdXAhb6OdJ",
        "outputId": "35c40b91-e446-4af9-a1c7-f398bea803f1"
      },
      "source": [
        "dataset_inicial$Estudante"
      ],
      "execution_count": null,
      "outputs": [
        {
          "output_type": "display_data",
          "data": {
            "text/plain": [
              " [1] \"Gabriela\"    \"Dalila\"      \"Gustavo\"     \"Letícia\"     \"Luiz Ovídio\"\n",
              " [6] \"Leonor\"      \"Ana\"         \"Antônio\"     \"Júlia\"       \"Mariana\"    "
            ],
            "text/latex": "\\begin{enumerate*}\n\\item 'Gabriela'\n\\item 'Dalila'\n\\item 'Gustavo'\n\\item 'Letícia'\n\\item 'Luiz Ovídio'\n\\item 'Leonor'\n\\item 'Ana'\n\\item 'Antônio'\n\\item 'Júlia'\n\\item 'Mariana'\n\\end{enumerate*}\n",
            "text/markdown": "1. 'Gabriela'\n2. 'Dalila'\n3. 'Gustavo'\n4. 'Letícia'\n5. 'Luiz Ovídio'\n6. 'Leonor'\n7. 'Ana'\n8. 'Antônio'\n9. 'Júlia'\n10. 'Mariana'\n\n\n",
            "text/html": [
              "<style>\n",
              ".list-inline {list-style: none; margin:0; padding: 0}\n",
              ".list-inline>li {display: inline-block}\n",
              ".list-inline>li:not(:last-child)::after {content: \"\\00b7\"; padding: 0 .5ex}\n",
              "</style>\n",
              "<ol class=list-inline><li>'Gabriela'</li><li>'Dalila'</li><li>'Gustavo'</li><li>'Letícia'</li><li>'Luiz Ovídio'</li><li>'Leonor'</li><li>'Ana'</li><li>'Antônio'</li><li>'Júlia'</li><li>'Mariana'</li></ol>\n"
            ]
          },
          "metadata": {}
        }
      ]
    },
    {
      "cell_type": "markdown",
      "metadata": {
        "id": "cXxb8UrL7JDR"
      },
      "source": [
        "**c** é utilizado para declarar um vetor."
      ]
    },
    {
      "cell_type": "code",
      "metadata": {
        "colab": {
          "base_uri": "https://localhost:8080/",
          "height": 34
        },
        "id": "YzDG1YZS7JZ7",
        "outputId": "8d8df07e-f1f2-4ab2-d2e1-fcc9c66a2d4e"
      },
      "source": [
        "vetor <- c(\"a\", \"b\", \"c\")\n",
        "vetor"
      ],
      "execution_count": null,
      "outputs": [
        {
          "output_type": "display_data",
          "data": {
            "text/plain": [
              "[1] \"a\" \"b\" \"c\""
            ],
            "text/latex": "\\begin{enumerate*}\n\\item 'a'\n\\item 'b'\n\\item 'c'\n\\end{enumerate*}\n",
            "text/markdown": "1. 'a'\n2. 'b'\n3. 'c'\n\n\n",
            "text/html": [
              "<style>\n",
              ".list-inline {list-style: none; margin:0; padding: 0}\n",
              ".list-inline>li {display: inline-block}\n",
              ".list-inline>li:not(:last-child)::after {content: \"\\00b7\"; padding: 0 .5ex}\n",
              "</style>\n",
              "<ol class=list-inline><li>'a'</li><li>'b'</li><li>'c'</li></ol>\n"
            ]
          },
          "metadata": {}
        }
      ]
    },
    {
      "cell_type": "markdown",
      "metadata": {
        "id": "W3qGAfbg8bcd"
      },
      "source": [
        "###Alterando Variáveis"
      ]
    },
    {
      "cell_type": "markdown",
      "metadata": {
        "id": "pEeRsI2u7r9Q"
      },
      "source": [
        "**atribuição de vetor + names** ao atribuir um vetor de strings a um vetor names do dataset, as variaveis serão renomeadas. "
      ]
    },
    {
      "cell_type": "code",
      "metadata": {
        "colab": {
          "base_uri": "https://localhost:8080/",
          "height": 192
        },
        "id": "sNFIyLSk7sgY",
        "outputId": "1b00ac54-7474-4ec3-d987-26ac40130089"
      },
      "source": [
        "novos_nomes <- c(\"observacoes\",\n",
        "                 \"tempo\",\n",
        "                 \"distancia\",\n",
        "                 \"semaforos\",\n",
        "                 \"periodo\",\n",
        "                 \"perfil\")\n",
        "\n",
        "base_renomeada <- dataset_inicial\n",
        "\n",
        "names(base_renomeada) <- novos_nomes\n",
        "\n",
        "head(base_renomeada, n=3)"
      ],
      "execution_count": null,
      "outputs": [
        {
          "output_type": "display_data",
          "data": {
            "text/plain": [
              "  observacoes tempo distancia semaforos periodo perfil  \n",
              "1 Gabriela    15     8        0         Manhã   calmo   \n",
              "2 Dalila      20     6        1         Manhã   moderado\n",
              "3 Gustavo     20    15        0         Manhã   moderado"
            ],
            "text/latex": "A tibble: 3 × 6\n\\begin{tabular}{llllll}\n observacoes & tempo & distancia & semaforos & periodo & perfil\\\\\n <chr> & <dbl> & <dbl> & <dbl> & <chr> & <chr>\\\\\n\\hline\n\t Gabriela & 15 &  8 & 0 & Manhã & calmo   \\\\\n\t Dalila   & 20 &  6 & 1 & Manhã & moderado\\\\\n\t Gustavo  & 20 & 15 & 0 & Manhã & moderado\\\\\n\\end{tabular}\n",
            "text/markdown": "\nA tibble: 3 × 6\n\n| observacoes &lt;chr&gt; | tempo &lt;dbl&gt; | distancia &lt;dbl&gt; | semaforos &lt;dbl&gt; | periodo &lt;chr&gt; | perfil &lt;chr&gt; |\n|---|---|---|---|---|---|\n| Gabriela | 15 |  8 | 0 | Manhã | calmo    |\n| Dalila   | 20 |  6 | 1 | Manhã | moderado |\n| Gustavo  | 20 | 15 | 0 | Manhã | moderado |\n\n",
            "text/html": [
              "<table class=\"dataframe\">\n",
              "<caption>A tibble: 3 × 6</caption>\n",
              "<thead>\n",
              "\t<tr><th scope=col>observacoes</th><th scope=col>tempo</th><th scope=col>distancia</th><th scope=col>semaforos</th><th scope=col>periodo</th><th scope=col>perfil</th></tr>\n",
              "\t<tr><th scope=col>&lt;chr&gt;</th><th scope=col>&lt;dbl&gt;</th><th scope=col>&lt;dbl&gt;</th><th scope=col>&lt;dbl&gt;</th><th scope=col>&lt;chr&gt;</th><th scope=col>&lt;chr&gt;</th></tr>\n",
              "</thead>\n",
              "<tbody>\n",
              "\t<tr><td>Gabriela</td><td>15</td><td> 8</td><td>0</td><td>Manhã</td><td>calmo   </td></tr>\n",
              "\t<tr><td>Dalila  </td><td>20</td><td> 6</td><td>1</td><td>Manhã</td><td>moderado</td></tr>\n",
              "\t<tr><td>Gustavo </td><td>20</td><td>15</td><td>0</td><td>Manhã</td><td>moderado</td></tr>\n",
              "</tbody>\n",
              "</table>\n"
            ]
          },
          "metadata": {}
        }
      ]
    },
    {
      "cell_type": "markdown",
      "metadata": {
        "id": "97nNKX9V99XC"
      },
      "source": [
        "**rename** é utilizada para renomear as variáveis, sendo que nos parâmetros a esquerda da igualdade temos os novos nomes e a direita os antigos ou a posição no dataset."
      ]
    },
    {
      "cell_type": "code",
      "metadata": {
        "colab": {
          "base_uri": "https://localhost:8080/",
          "height": 192
        },
        "id": "yrWRkhAC99mp",
        "outputId": "341a86ec-6adf-4efb-8c56-1f122a988150"
      },
      "source": [
        "base_renomeada <- dataset_inicial\n",
        "\n",
        "base_renomeada <- rename(dataset_inicial, \n",
        "                    observacoes = \"Estudante\",\n",
        "                    tempo = \"Tempo para chegar à escola (minutos)\",\n",
        "                    distancia = \"Distância percorrida até a escola (quilômetros)\",\n",
        "                    semaforos = \"Quantidade de semáforos\",\n",
        "                    periodo = \"Período do dia\",\n",
        "                    perfil = \"Perfil ao volante\")\n",
        "\n",
        "head(base_renomeada, n=3)"
      ],
      "execution_count": null,
      "outputs": [
        {
          "output_type": "display_data",
          "data": {
            "text/plain": [
              "  observacoes tempo distancia semaforos periodo perfil  \n",
              "1 Gabriela    15     8        0         Manhã   calmo   \n",
              "2 Dalila      20     6        1         Manhã   moderado\n",
              "3 Gustavo     20    15        0         Manhã   moderado"
            ],
            "text/latex": "A tibble: 3 × 6\n\\begin{tabular}{llllll}\n observacoes & tempo & distancia & semaforos & periodo & perfil\\\\\n <chr> & <dbl> & <dbl> & <dbl> & <chr> & <chr>\\\\\n\\hline\n\t Gabriela & 15 &  8 & 0 & Manhã & calmo   \\\\\n\t Dalila   & 20 &  6 & 1 & Manhã & moderado\\\\\n\t Gustavo  & 20 & 15 & 0 & Manhã & moderado\\\\\n\\end{tabular}\n",
            "text/markdown": "\nA tibble: 3 × 6\n\n| observacoes &lt;chr&gt; | tempo &lt;dbl&gt; | distancia &lt;dbl&gt; | semaforos &lt;dbl&gt; | periodo &lt;chr&gt; | perfil &lt;chr&gt; |\n|---|---|---|---|---|---|\n| Gabriela | 15 |  8 | 0 | Manhã | calmo    |\n| Dalila   | 20 |  6 | 1 | Manhã | moderado |\n| Gustavo  | 20 | 15 | 0 | Manhã | moderado |\n\n",
            "text/html": [
              "<table class=\"dataframe\">\n",
              "<caption>A tibble: 3 × 6</caption>\n",
              "<thead>\n",
              "\t<tr><th scope=col>observacoes</th><th scope=col>tempo</th><th scope=col>distancia</th><th scope=col>semaforos</th><th scope=col>periodo</th><th scope=col>perfil</th></tr>\n",
              "\t<tr><th scope=col>&lt;chr&gt;</th><th scope=col>&lt;dbl&gt;</th><th scope=col>&lt;dbl&gt;</th><th scope=col>&lt;dbl&gt;</th><th scope=col>&lt;chr&gt;</th><th scope=col>&lt;chr&gt;</th></tr>\n",
              "</thead>\n",
              "<tbody>\n",
              "\t<tr><td>Gabriela</td><td>15</td><td> 8</td><td>0</td><td>Manhã</td><td>calmo   </td></tr>\n",
              "\t<tr><td>Dalila  </td><td>20</td><td> 6</td><td>1</td><td>Manhã</td><td>moderado</td></tr>\n",
              "\t<tr><td>Gustavo </td><td>20</td><td>15</td><td>0</td><td>Manhã</td><td>moderado</td></tr>\n",
              "</tbody>\n",
              "</table>\n"
            ]
          },
          "metadata": {}
        }
      ]
    },
    {
      "cell_type": "code",
      "metadata": {
        "colab": {
          "base_uri": "https://localhost:8080/",
          "height": 192
        },
        "id": "SuIa_8uC_Jwg",
        "outputId": "bc3539fb-4b85-4b10-defd-a23f6588d813"
      },
      "source": [
        "base_renomeada <- dataset_inicial\n",
        "\n",
        "base_renomeada <- rename(dataset_inicial, \n",
        "                    observacoes = 1,\n",
        "                    tempo = 2,\n",
        "                    distancia = 3,\n",
        "                    semaforos = 4,\n",
        "                    periodo = 5,\n",
        "                    perfil = 6)\n",
        "\n",
        "head(base_renomeada, n=3)"
      ],
      "execution_count": null,
      "outputs": [
        {
          "output_type": "display_data",
          "data": {
            "text/plain": [
              "  observacoes tempo distancia semaforos periodo perfil  \n",
              "1 Gabriela    15     8        0         Manhã   calmo   \n",
              "2 Dalila      20     6        1         Manhã   moderado\n",
              "3 Gustavo     20    15        0         Manhã   moderado"
            ],
            "text/latex": "A tibble: 3 × 6\n\\begin{tabular}{llllll}\n observacoes & tempo & distancia & semaforos & periodo & perfil\\\\\n <chr> & <dbl> & <dbl> & <dbl> & <chr> & <chr>\\\\\n\\hline\n\t Gabriela & 15 &  8 & 0 & Manhã & calmo   \\\\\n\t Dalila   & 20 &  6 & 1 & Manhã & moderado\\\\\n\t Gustavo  & 20 & 15 & 0 & Manhã & moderado\\\\\n\\end{tabular}\n",
            "text/markdown": "\nA tibble: 3 × 6\n\n| observacoes &lt;chr&gt; | tempo &lt;dbl&gt; | distancia &lt;dbl&gt; | semaforos &lt;dbl&gt; | periodo &lt;chr&gt; | perfil &lt;chr&gt; |\n|---|---|---|---|---|---|\n| Gabriela | 15 |  8 | 0 | Manhã | calmo    |\n| Dalila   | 20 |  6 | 1 | Manhã | moderado |\n| Gustavo  | 20 | 15 | 0 | Manhã | moderado |\n\n",
            "text/html": [
              "<table class=\"dataframe\">\n",
              "<caption>A tibble: 3 × 6</caption>\n",
              "<thead>\n",
              "\t<tr><th scope=col>observacoes</th><th scope=col>tempo</th><th scope=col>distancia</th><th scope=col>semaforos</th><th scope=col>periodo</th><th scope=col>perfil</th></tr>\n",
              "\t<tr><th scope=col>&lt;chr&gt;</th><th scope=col>&lt;dbl&gt;</th><th scope=col>&lt;dbl&gt;</th><th scope=col>&lt;dbl&gt;</th><th scope=col>&lt;chr&gt;</th><th scope=col>&lt;chr&gt;</th></tr>\n",
              "</thead>\n",
              "<tbody>\n",
              "\t<tr><td>Gabriela</td><td>15</td><td> 8</td><td>0</td><td>Manhã</td><td>calmo   </td></tr>\n",
              "\t<tr><td>Dalila  </td><td>20</td><td> 6</td><td>1</td><td>Manhã</td><td>moderado</td></tr>\n",
              "\t<tr><td>Gustavo </td><td>20</td><td>15</td><td>0</td><td>Manhã</td><td>moderado</td></tr>\n",
              "</tbody>\n",
              "</table>\n"
            ]
          },
          "metadata": {}
        }
      ]
    },
    {
      "cell_type": "markdown",
      "metadata": {
        "id": "VwOW4Git_zy4"
      },
      "source": [
        "**%>%** Pipe é utilizado de diversas formas, como atribuição de variáveis de forma dinâmica e concatenar funções."
      ]
    },
    {
      "cell_type": "markdown",
      "metadata": {
        "id": "qMNTn4uXBI5w"
      },
      "source": [
        "*Obs: no caso da utilização do pipe o primeiro parâmetro da função é retirado para fora da mesma."
      ]
    },
    {
      "cell_type": "code",
      "metadata": {
        "colab": {
          "base_uri": "https://localhost:8080/",
          "height": 192
        },
        "id": "3kgg1jiFANre",
        "outputId": "86c25c06-bb88-4445-e16c-9358eae19cb5"
      },
      "source": [
        "base_renomeada <- dataset_inicial\n",
        "\n",
        "base_renomeada <- base_renomeada %>% rename(\n",
        "                    observacoes = 1,\n",
        "                    tempo = 2,\n",
        "                    distancia = 3,\n",
        "                    semaforos = 4,\n",
        "                    periodo = 5,\n",
        "                    perfil = 6)\n",
        "\n",
        "head(base_renomeada, n=3)"
      ],
      "execution_count": null,
      "outputs": [
        {
          "output_type": "display_data",
          "data": {
            "text/plain": [
              "  observacoes tempo distancia semaforos periodo perfil  \n",
              "1 Gabriela    15     8        0         Manhã   calmo   \n",
              "2 Dalila      20     6        1         Manhã   moderado\n",
              "3 Gustavo     20    15        0         Manhã   moderado"
            ],
            "text/latex": "A tibble: 3 × 6\n\\begin{tabular}{llllll}\n observacoes & tempo & distancia & semaforos & periodo & perfil\\\\\n <chr> & <dbl> & <dbl> & <dbl> & <chr> & <chr>\\\\\n\\hline\n\t Gabriela & 15 &  8 & 0 & Manhã & calmo   \\\\\n\t Dalila   & 20 &  6 & 1 & Manhã & moderado\\\\\n\t Gustavo  & 20 & 15 & 0 & Manhã & moderado\\\\\n\\end{tabular}\n",
            "text/markdown": "\nA tibble: 3 × 6\n\n| observacoes &lt;chr&gt; | tempo &lt;dbl&gt; | distancia &lt;dbl&gt; | semaforos &lt;dbl&gt; | periodo &lt;chr&gt; | perfil &lt;chr&gt; |\n|---|---|---|---|---|---|\n| Gabriela | 15 |  8 | 0 | Manhã | calmo    |\n| Dalila   | 20 |  6 | 1 | Manhã | moderado |\n| Gustavo  | 20 | 15 | 0 | Manhã | moderado |\n\n",
            "text/html": [
              "<table class=\"dataframe\">\n",
              "<caption>A tibble: 3 × 6</caption>\n",
              "<thead>\n",
              "\t<tr><th scope=col>observacoes</th><th scope=col>tempo</th><th scope=col>distancia</th><th scope=col>semaforos</th><th scope=col>periodo</th><th scope=col>perfil</th></tr>\n",
              "\t<tr><th scope=col>&lt;chr&gt;</th><th scope=col>&lt;dbl&gt;</th><th scope=col>&lt;dbl&gt;</th><th scope=col>&lt;dbl&gt;</th><th scope=col>&lt;chr&gt;</th><th scope=col>&lt;chr&gt;</th></tr>\n",
              "</thead>\n",
              "<tbody>\n",
              "\t<tr><td>Gabriela</td><td>15</td><td> 8</td><td>0</td><td>Manhã</td><td>calmo   </td></tr>\n",
              "\t<tr><td>Dalila  </td><td>20</td><td> 6</td><td>1</td><td>Manhã</td><td>moderado</td></tr>\n",
              "\t<tr><td>Gustavo </td><td>20</td><td>15</td><td>0</td><td>Manhã</td><td>moderado</td></tr>\n",
              "</tbody>\n",
              "</table>\n"
            ]
          },
          "metadata": {}
        }
      ]
    },
    {
      "cell_type": "markdown",
      "metadata": {
        "id": "hqAGyHMxBX-M"
      },
      "source": [
        "**mutate** possui duas funcionalidades principais:\n",
        "\n",
        "1.   Incluir variáveis no dataset;\n",
        "2.   Transformar o conteudo das variáveis;\n",
        "\n"
      ]
    },
    {
      "cell_type": "code",
      "metadata": {
        "colab": {
          "base_uri": "https://localhost:8080/",
          "height": 286
        },
        "id": "Aa2WwGVdBYlK",
        "outputId": "0c748884-c520-4d3e-ff35-cf1268cb1c3d"
      },
      "source": [
        "nova_variavel = c(1,2,3,4,5,6,7,8,9,10)\n",
        "\n",
        "base_renomeada_adicionada <- mutate(base_renomeada,\n",
        "                                    nova_variavel, #<--Adicionando variável\n",
        "                                    tempo_double = tempo*2) #<--Adicionando coluna à partir da modificação de outra coluna\n",
        "\n",
        "head(base_renomeada_adicionada)\n",
        " "
      ],
      "execution_count": null,
      "outputs": [
        {
          "output_type": "display_data",
          "data": {
            "text/plain": [
              "  observacoes tempo distancia semaforos periodo perfil    nova_variavel\n",
              "1 Gabriela    15     8        0         Manhã   calmo     1            \n",
              "2 Dalila      20     6        1         Manhã   moderado  2            \n",
              "3 Gustavo     20    15        0         Manhã   moderado  3            \n",
              "4 Letícia     40    20        1         Tarde   agressivo 4            \n",
              "5 Luiz Ovídio 50    25        2         Tarde   agressivo 5            \n",
              "6 Leonor      25    11        1         Manhã   moderado  6            \n",
              "  tempo_double\n",
              "1  30         \n",
              "2  40         \n",
              "3  40         \n",
              "4  80         \n",
              "5 100         \n",
              "6  50         "
            ],
            "text/latex": "A tibble: 6 × 8\n\\begin{tabular}{llllllll}\n observacoes & tempo & distancia & semaforos & periodo & perfil & nova\\_variavel & tempo\\_double\\\\\n <chr> & <dbl> & <dbl> & <dbl> & <chr> & <chr> & <dbl> & <dbl>\\\\\n\\hline\n\t Gabriela    & 15 &  8 & 0 & Manhã & calmo     & 1 &  30\\\\\n\t Dalila      & 20 &  6 & 1 & Manhã & moderado  & 2 &  40\\\\\n\t Gustavo     & 20 & 15 & 0 & Manhã & moderado  & 3 &  40\\\\\n\t Letícia     & 40 & 20 & 1 & Tarde & agressivo & 4 &  80\\\\\n\t Luiz Ovídio & 50 & 25 & 2 & Tarde & agressivo & 5 & 100\\\\\n\t Leonor      & 25 & 11 & 1 & Manhã & moderado  & 6 &  50\\\\\n\\end{tabular}\n",
            "text/markdown": "\nA tibble: 6 × 8\n\n| observacoes &lt;chr&gt; | tempo &lt;dbl&gt; | distancia &lt;dbl&gt; | semaforos &lt;dbl&gt; | periodo &lt;chr&gt; | perfil &lt;chr&gt; | nova_variavel &lt;dbl&gt; | tempo_double &lt;dbl&gt; |\n|---|---|---|---|---|---|---|---|\n| Gabriela    | 15 |  8 | 0 | Manhã | calmo     | 1 |  30 |\n| Dalila      | 20 |  6 | 1 | Manhã | moderado  | 2 |  40 |\n| Gustavo     | 20 | 15 | 0 | Manhã | moderado  | 3 |  40 |\n| Letícia     | 40 | 20 | 1 | Tarde | agressivo | 4 |  80 |\n| Luiz Ovídio | 50 | 25 | 2 | Tarde | agressivo | 5 | 100 |\n| Leonor      | 25 | 11 | 1 | Manhã | moderado  | 6 |  50 |\n\n",
            "text/html": [
              "<table class=\"dataframe\">\n",
              "<caption>A tibble: 6 × 8</caption>\n",
              "<thead>\n",
              "\t<tr><th scope=col>observacoes</th><th scope=col>tempo</th><th scope=col>distancia</th><th scope=col>semaforos</th><th scope=col>periodo</th><th scope=col>perfil</th><th scope=col>nova_variavel</th><th scope=col>tempo_double</th></tr>\n",
              "\t<tr><th scope=col>&lt;chr&gt;</th><th scope=col>&lt;dbl&gt;</th><th scope=col>&lt;dbl&gt;</th><th scope=col>&lt;dbl&gt;</th><th scope=col>&lt;chr&gt;</th><th scope=col>&lt;chr&gt;</th><th scope=col>&lt;dbl&gt;</th><th scope=col>&lt;dbl&gt;</th></tr>\n",
              "</thead>\n",
              "<tbody>\n",
              "\t<tr><td>Gabriela   </td><td>15</td><td> 8</td><td>0</td><td>Manhã</td><td>calmo    </td><td>1</td><td> 30</td></tr>\n",
              "\t<tr><td>Dalila     </td><td>20</td><td> 6</td><td>1</td><td>Manhã</td><td>moderado </td><td>2</td><td> 40</td></tr>\n",
              "\t<tr><td>Gustavo    </td><td>20</td><td>15</td><td>0</td><td>Manhã</td><td>moderado </td><td>3</td><td> 40</td></tr>\n",
              "\t<tr><td>Letícia    </td><td>40</td><td>20</td><td>1</td><td>Tarde</td><td>agressivo</td><td>4</td><td> 80</td></tr>\n",
              "\t<tr><td>Luiz Ovídio</td><td>50</td><td>25</td><td>2</td><td>Tarde</td><td>agressivo</td><td>5</td><td>100</td></tr>\n",
              "\t<tr><td>Leonor     </td><td>25</td><td>11</td><td>1</td><td>Manhã</td><td>moderado </td><td>6</td><td> 50</td></tr>\n",
              "</tbody>\n",
              "</table>\n"
            ]
          },
          "metadata": {}
        }
      ]
    },
    {
      "cell_type": "markdown",
      "metadata": {
        "id": "dR8fKU-rD4Jb"
      },
      "source": [
        "**rename** e **mutate** combinados por **pipe**"
      ]
    },
    {
      "cell_type": "code",
      "metadata": {
        "colab": {
          "base_uri": "https://localhost:8080/",
          "height": 286
        },
        "id": "zwSlXw1UEGXi",
        "outputId": "cd75474e-c0ba-4c37-ee33-b52e4dd36bae"
      },
      "source": [
        "nova_variavel = c(1,2,3,4,5,6,7,8,9,10)\n",
        "\n",
        "base_renomeada_modificada <- base_renomeada %>% rename(obs = observacoes,\n",
        "                     temp = tempo,\n",
        "                     dist = distancia,\n",
        "                     sem = semaforos,\n",
        "                     per = periodo,\n",
        "                     perf = perfil) %>% \n",
        "              mutate(nova_variavel,\n",
        "                     temp_double = temp*2) \n",
        "\n",
        "head(base_renomeada_modificada)"
      ],
      "execution_count": null,
      "outputs": [
        {
          "output_type": "display_data",
          "data": {
            "text/plain": [
              "  obs         temp dist sem per   perf      nova_variavel temp_double\n",
              "1 Gabriela    15    8   0   Manhã calmo     1              30        \n",
              "2 Dalila      20    6   1   Manhã moderado  2              40        \n",
              "3 Gustavo     20   15   0   Manhã moderado  3              40        \n",
              "4 Letícia     40   20   1   Tarde agressivo 4              80        \n",
              "5 Luiz Ovídio 50   25   2   Tarde agressivo 5             100        \n",
              "6 Leonor      25   11   1   Manhã moderado  6              50        "
            ],
            "text/latex": "A tibble: 6 × 8\n\\begin{tabular}{llllllll}\n obs & temp & dist & sem & per & perf & nova\\_variavel & temp\\_double\\\\\n <chr> & <dbl> & <dbl> & <dbl> & <chr> & <chr> & <dbl> & <dbl>\\\\\n\\hline\n\t Gabriela    & 15 &  8 & 0 & Manhã & calmo     & 1 &  30\\\\\n\t Dalila      & 20 &  6 & 1 & Manhã & moderado  & 2 &  40\\\\\n\t Gustavo     & 20 & 15 & 0 & Manhã & moderado  & 3 &  40\\\\\n\t Letícia     & 40 & 20 & 1 & Tarde & agressivo & 4 &  80\\\\\n\t Luiz Ovídio & 50 & 25 & 2 & Tarde & agressivo & 5 & 100\\\\\n\t Leonor      & 25 & 11 & 1 & Manhã & moderado  & 6 &  50\\\\\n\\end{tabular}\n",
            "text/markdown": "\nA tibble: 6 × 8\n\n| obs &lt;chr&gt; | temp &lt;dbl&gt; | dist &lt;dbl&gt; | sem &lt;dbl&gt; | per &lt;chr&gt; | perf &lt;chr&gt; | nova_variavel &lt;dbl&gt; | temp_double &lt;dbl&gt; |\n|---|---|---|---|---|---|---|---|\n| Gabriela    | 15 |  8 | 0 | Manhã | calmo     | 1 |  30 |\n| Dalila      | 20 |  6 | 1 | Manhã | moderado  | 2 |  40 |\n| Gustavo     | 20 | 15 | 0 | Manhã | moderado  | 3 |  40 |\n| Letícia     | 40 | 20 | 1 | Tarde | agressivo | 4 |  80 |\n| Luiz Ovídio | 50 | 25 | 2 | Tarde | agressivo | 5 | 100 |\n| Leonor      | 25 | 11 | 1 | Manhã | moderado  | 6 |  50 |\n\n",
            "text/html": [
              "<table class=\"dataframe\">\n",
              "<caption>A tibble: 6 × 8</caption>\n",
              "<thead>\n",
              "\t<tr><th scope=col>obs</th><th scope=col>temp</th><th scope=col>dist</th><th scope=col>sem</th><th scope=col>per</th><th scope=col>perf</th><th scope=col>nova_variavel</th><th scope=col>temp_double</th></tr>\n",
              "\t<tr><th scope=col>&lt;chr&gt;</th><th scope=col>&lt;dbl&gt;</th><th scope=col>&lt;dbl&gt;</th><th scope=col>&lt;dbl&gt;</th><th scope=col>&lt;chr&gt;</th><th scope=col>&lt;chr&gt;</th><th scope=col>&lt;dbl&gt;</th><th scope=col>&lt;dbl&gt;</th></tr>\n",
              "</thead>\n",
              "<tbody>\n",
              "\t<tr><td>Gabriela   </td><td>15</td><td> 8</td><td>0</td><td>Manhã</td><td>calmo    </td><td>1</td><td> 30</td></tr>\n",
              "\t<tr><td>Dalila     </td><td>20</td><td> 6</td><td>1</td><td>Manhã</td><td>moderado </td><td>2</td><td> 40</td></tr>\n",
              "\t<tr><td>Gustavo    </td><td>20</td><td>15</td><td>0</td><td>Manhã</td><td>moderado </td><td>3</td><td> 40</td></tr>\n",
              "\t<tr><td>Letícia    </td><td>40</td><td>20</td><td>1</td><td>Tarde</td><td>agressivo</td><td>4</td><td> 80</td></tr>\n",
              "\t<tr><td>Luiz Ovídio</td><td>50</td><td>25</td><td>2</td><td>Tarde</td><td>agressivo</td><td>5</td><td>100</td></tr>\n",
              "\t<tr><td>Leonor     </td><td>25</td><td>11</td><td>1</td><td>Manhã</td><td>moderado </td><td>6</td><td> 50</td></tr>\n",
              "</tbody>\n",
              "</table>\n"
            ]
          },
          "metadata": {}
        }
      ]
    },
    {
      "cell_type": "markdown",
      "metadata": {
        "id": "rUYd45MKJgf1"
      },
      "source": [
        "**[ ]** seleção para remover variáveis do dataset"
      ]
    },
    {
      "cell_type": "code",
      "metadata": {
        "colab": {
          "base_uri": "https://localhost:8080/",
          "height": 192
        },
        "id": "1beRGNxgJgqr",
        "outputId": "edf575cb-3354-4c12-91f4-61715c005461"
      },
      "source": [
        "base_renomeada_excluida <- base_renomeada[,-c(1)] #<-- Exclui a variável pela ordem\n",
        "head(base_renomeada_excluida, n=3)"
      ],
      "execution_count": null,
      "outputs": [
        {
          "output_type": "display_data",
          "data": {
            "text/plain": [
              "  tempo distancia semaforos periodo perfil  \n",
              "1 15     8        0         Manhã   calmo   \n",
              "2 20     6        1         Manhã   moderado\n",
              "3 20    15        0         Manhã   moderado"
            ],
            "text/latex": "A tibble: 3 × 5\n\\begin{tabular}{lllll}\n tempo & distancia & semaforos & periodo & perfil\\\\\n <dbl> & <dbl> & <dbl> & <chr> & <chr>\\\\\n\\hline\n\t 15 &  8 & 0 & Manhã & calmo   \\\\\n\t 20 &  6 & 1 & Manhã & moderado\\\\\n\t 20 & 15 & 0 & Manhã & moderado\\\\\n\\end{tabular}\n",
            "text/markdown": "\nA tibble: 3 × 5\n\n| tempo &lt;dbl&gt; | distancia &lt;dbl&gt; | semaforos &lt;dbl&gt; | periodo &lt;chr&gt; | perfil &lt;chr&gt; |\n|---|---|---|---|---|\n| 15 |  8 | 0 | Manhã | calmo    |\n| 20 |  6 | 1 | Manhã | moderado |\n| 20 | 15 | 0 | Manhã | moderado |\n\n",
            "text/html": [
              "<table class=\"dataframe\">\n",
              "<caption>A tibble: 3 × 5</caption>\n",
              "<thead>\n",
              "\t<tr><th scope=col>tempo</th><th scope=col>distancia</th><th scope=col>semaforos</th><th scope=col>periodo</th><th scope=col>perfil</th></tr>\n",
              "\t<tr><th scope=col>&lt;dbl&gt;</th><th scope=col>&lt;dbl&gt;</th><th scope=col>&lt;dbl&gt;</th><th scope=col>&lt;chr&gt;</th><th scope=col>&lt;chr&gt;</th></tr>\n",
              "</thead>\n",
              "<tbody>\n",
              "\t<tr><td>15</td><td> 8</td><td>0</td><td>Manhã</td><td>calmo   </td></tr>\n",
              "\t<tr><td>20</td><td> 6</td><td>1</td><td>Manhã</td><td>moderado</td></tr>\n",
              "\t<tr><td>20</td><td>15</td><td>0</td><td>Manhã</td><td>moderado</td></tr>\n",
              "</tbody>\n",
              "</table>\n"
            ]
          },
          "metadata": {}
        }
      ]
    },
    {
      "cell_type": "code",
      "metadata": {
        "colab": {
          "base_uri": "https://localhost:8080/",
          "height": 255
        },
        "id": "BTo2N7mTX0eC",
        "outputId": "00257493-2dcb-478f-87d2-0a85ad105e8b"
      },
      "source": [
        "base_renomeada_extraida <- base_renomeada[3:7, 1:2] #<-- Extraida linha 3 a 7 das colunas 1 a 2\n",
        "base_renomeada_extraida"
      ],
      "execution_count": null,
      "outputs": [
        {
          "output_type": "display_data",
          "data": {
            "text/plain": [
              "  observacoes tempo\n",
              "1 Gustavo     20   \n",
              "2 Letícia     40   \n",
              "3 Luiz Ovídio 50   \n",
              "4 Leonor      25   \n",
              "5 Ana         10   "
            ],
            "text/latex": "A tibble: 5 × 2\n\\begin{tabular}{ll}\n observacoes & tempo\\\\\n <chr> & <dbl>\\\\\n\\hline\n\t Gustavo     & 20\\\\\n\t Letícia     & 40\\\\\n\t Luiz Ovídio & 50\\\\\n\t Leonor      & 25\\\\\n\t Ana         & 10\\\\\n\\end{tabular}\n",
            "text/markdown": "\nA tibble: 5 × 2\n\n| observacoes &lt;chr&gt; | tempo &lt;dbl&gt; |\n|---|---|\n| Gustavo     | 20 |\n| Letícia     | 40 |\n| Luiz Ovídio | 50 |\n| Leonor      | 25 |\n| Ana         | 10 |\n\n",
            "text/html": [
              "<table class=\"dataframe\">\n",
              "<caption>A tibble: 5 × 2</caption>\n",
              "<thead>\n",
              "\t<tr><th scope=col>observacoes</th><th scope=col>tempo</th></tr>\n",
              "\t<tr><th scope=col>&lt;chr&gt;</th><th scope=col>&lt;dbl&gt;</th></tr>\n",
              "</thead>\n",
              "<tbody>\n",
              "\t<tr><td>Gustavo    </td><td>20</td></tr>\n",
              "\t<tr><td>Letícia    </td><td>40</td></tr>\n",
              "\t<tr><td>Luiz Ovídio</td><td>50</td></tr>\n",
              "\t<tr><td>Leonor     </td><td>25</td></tr>\n",
              "\t<tr><td>Ana        </td><td>10</td></tr>\n",
              "</tbody>\n",
              "</table>\n"
            ]
          },
          "metadata": {}
        }
      ]
    },
    {
      "cell_type": "markdown",
      "metadata": {
        "id": "W4W5-IopX0Qq"
      },
      "source": [
        ""
      ]
    },
    {
      "cell_type": "markdown",
      "metadata": {
        "id": "mchVUBVzFkb_"
      },
      "source": [
        "###Visualização Dataset Detalhada"
      ]
    },
    {
      "cell_type": "code",
      "metadata": {
        "id": "H2-cMMwXGxAf"
      },
      "source": [
        "base_covid <- dataset_csv %>% rename(nome = 1,\n",
        "                                    regiao = 2,\n",
        "                                    casos_total = 3,\n",
        "                                    casos_relativo = 4,\n",
        "                                    casos_semana = 5,\n",
        "                                    casos_semana_relativo = 6,\n",
        "                                    casos_dia = 7,\n",
        "                                    mortes_total = 8,\n",
        "                                    mortes_relativo = 9,\n",
        "                                    mortes_semana = 10,\n",
        "                                    mortes_semana_relativo = 11,\n",
        "                                    mortes_dia = 12,\n",
        "                                    tipo_transmissao = 13)"
      ],
      "execution_count": null,
      "outputs": []
    },
    {
      "cell_type": "markdown",
      "metadata": {
        "id": "G5gTd6PWGJQX"
      },
      "source": [
        "**table** Define uma vizualização e contabilização em formato de tabela, podendo realizar alterções através de parâmetros da função."
      ]
    },
    {
      "cell_type": "code",
      "metadata": {
        "colab": {
          "base_uri": "https://localhost:8080/",
          "height": 139
        },
        "id": "GxoVkSIqGpm0",
        "outputId": "0349f533-0e7e-4a45-f33c-9e30cab456ce"
      },
      "source": [
        "table(base_covid$tipo_transmissao)"
      ],
      "execution_count": null,
      "outputs": [
        {
          "output_type": "display_data",
          "data": {
            "text/plain": [
              "\n",
              "                            Clusters of cases Community transmission \n",
              "                     1                     39                    151 \n",
              "              No cases         Not applicable                Pending \n",
              "                    23                      1                      3 \n",
              "        Sporadic cases \n",
              "                    20 "
            ]
          },
          "metadata": {}
        }
      ]
    },
    {
      "cell_type": "markdown",
      "metadata": {
        "id": "wbtMxbs8Hlkh"
      },
      "source": [
        "**unique** Informa os casos únicos da variável selecionada, sem a contagem como vista na função table."
      ]
    },
    {
      "cell_type": "code",
      "metadata": {
        "colab": {
          "base_uri": "https://localhost:8080/",
          "height": 34
        },
        "id": "C_sq2EFkI0Lf",
        "outputId": "e391e223-b38d-4860-f757-97850e27d959"
      },
      "source": [
        "unique(base_covid$tipo_transmissao)"
      ],
      "execution_count": null,
      "outputs": [
        {
          "output_type": "display_data",
          "data": {
            "text/plain": [
              "[1] \"\"                       \"Community transmission\" \"Clusters of cases\"     \n",
              "[4] \"Sporadic cases\"         \"Pending\"                \"No cases\"              \n",
              "[7] \"Not applicable\"        "
            ],
            "text/latex": "\\begin{enumerate*}\n\\item ''\n\\item 'Community transmission'\n\\item 'Clusters of cases'\n\\item 'Sporadic cases'\n\\item 'Pending'\n\\item 'No cases'\n\\item 'Not applicable'\n\\end{enumerate*}\n",
            "text/markdown": "1. ''\n2. 'Community transmission'\n3. 'Clusters of cases'\n4. 'Sporadic cases'\n5. 'Pending'\n6. 'No cases'\n7. 'Not applicable'\n\n\n",
            "text/html": [
              "<style>\n",
              ".list-inline {list-style: none; margin:0; padding: 0}\n",
              ".list-inline>li {display: inline-block}\n",
              ".list-inline>li:not(:last-child)::after {content: \"\\00b7\"; padding: 0 .5ex}\n",
              "</style>\n",
              "<ol class=list-inline><li>''</li><li>'Community transmission'</li><li>'Clusters of cases'</li><li>'Sporadic cases'</li><li>'Pending'</li><li>'No cases'</li><li>'Not applicable'</li></ol>\n"
            ]
          },
          "metadata": {}
        }
      ]
    },
    {
      "cell_type": "markdown",
      "metadata": {
        "id": "Y24-ew49Tntf"
      },
      "source": [
        "**recode** com o mutate é utilizado para modificações das variáveis podendo trocar detalhes dos valores."
      ]
    },
    {
      "cell_type": "code",
      "metadata": {
        "colab": {
          "base_uri": "https://localhost:8080/",
          "height": 255
        },
        "id": "b737uFGXUXXA",
        "outputId": "1560b74f-ce0e-4779-b7b2-e3c9e95c7951"
      },
      "source": [
        "base_renomeada_recode <- mutate(base_renomeada, perfil_en = recode(base_renomeada$perfil,\n",
        "                                \"calmo\" = \"easy\",\n",
        "                                \"moderado\" = \"medium\",\n",
        "                                \"agressivo\" = \"hard\"))\n",
        "head(base_renomeada_recode, n=5)"
      ],
      "execution_count": null,
      "outputs": [
        {
          "output_type": "display_data",
          "data": {
            "text/plain": [
              "  observacoes tempo distancia semaforos periodo perfil    perfil_en\n",
              "1 Gabriela    15     8        0         Manhã   calmo     easy     \n",
              "2 Dalila      20     6        1         Manhã   moderado  medium   \n",
              "3 Gustavo     20    15        0         Manhã   moderado  medium   \n",
              "4 Letícia     40    20        1         Tarde   agressivo hard     \n",
              "5 Luiz Ovídio 50    25        2         Tarde   agressivo hard     "
            ],
            "text/latex": "A tibble: 5 × 7\n\\begin{tabular}{lllllll}\n observacoes & tempo & distancia & semaforos & periodo & perfil & perfil\\_en\\\\\n <chr> & <dbl> & <dbl> & <dbl> & <chr> & <chr> & <chr>\\\\\n\\hline\n\t Gabriela    & 15 &  8 & 0 & Manhã & calmo     & easy  \\\\\n\t Dalila      & 20 &  6 & 1 & Manhã & moderado  & medium\\\\\n\t Gustavo     & 20 & 15 & 0 & Manhã & moderado  & medium\\\\\n\t Letícia     & 40 & 20 & 1 & Tarde & agressivo & hard  \\\\\n\t Luiz Ovídio & 50 & 25 & 2 & Tarde & agressivo & hard  \\\\\n\\end{tabular}\n",
            "text/markdown": "\nA tibble: 5 × 7\n\n| observacoes &lt;chr&gt; | tempo &lt;dbl&gt; | distancia &lt;dbl&gt; | semaforos &lt;dbl&gt; | periodo &lt;chr&gt; | perfil &lt;chr&gt; | perfil_en &lt;chr&gt; |\n|---|---|---|---|---|---|---|\n| Gabriela    | 15 |  8 | 0 | Manhã | calmo     | easy   |\n| Dalila      | 20 |  6 | 1 | Manhã | moderado  | medium |\n| Gustavo     | 20 | 15 | 0 | Manhã | moderado  | medium |\n| Letícia     | 40 | 20 | 1 | Tarde | agressivo | hard   |\n| Luiz Ovídio | 50 | 25 | 2 | Tarde | agressivo | hard   |\n\n",
            "text/html": [
              "<table class=\"dataframe\">\n",
              "<caption>A tibble: 5 × 7</caption>\n",
              "<thead>\n",
              "\t<tr><th scope=col>observacoes</th><th scope=col>tempo</th><th scope=col>distancia</th><th scope=col>semaforos</th><th scope=col>periodo</th><th scope=col>perfil</th><th scope=col>perfil_en</th></tr>\n",
              "\t<tr><th scope=col>&lt;chr&gt;</th><th scope=col>&lt;dbl&gt;</th><th scope=col>&lt;dbl&gt;</th><th scope=col>&lt;dbl&gt;</th><th scope=col>&lt;chr&gt;</th><th scope=col>&lt;chr&gt;</th><th scope=col>&lt;chr&gt;</th></tr>\n",
              "</thead>\n",
              "<tbody>\n",
              "\t<tr><td>Gabriela   </td><td>15</td><td> 8</td><td>0</td><td>Manhã</td><td>calmo    </td><td>easy  </td></tr>\n",
              "\t<tr><td>Dalila     </td><td>20</td><td> 6</td><td>1</td><td>Manhã</td><td>moderado </td><td>medium</td></tr>\n",
              "\t<tr><td>Gustavo    </td><td>20</td><td>15</td><td>0</td><td>Manhã</td><td>moderado </td><td>medium</td></tr>\n",
              "\t<tr><td>Letícia    </td><td>40</td><td>20</td><td>1</td><td>Tarde</td><td>agressivo</td><td>hard  </td></tr>\n",
              "\t<tr><td>Luiz Ovídio</td><td>50</td><td>25</td><td>2</td><td>Tarde</td><td>agressivo</td><td>hard  </td></tr>\n",
              "</tbody>\n",
              "</table>\n"
            ]
          },
          "metadata": {}
        }
      ]
    },
    {
      "cell_type": "markdown",
      "metadata": {
        "id": "az0HJFCMV5H6"
      },
      "source": [
        "**transmute** inclui variáveis no dataset, excluindo as existentes, é necessário informar quais variáveis devem permanecer"
      ]
    },
    {
      "cell_type": "code",
      "metadata": {
        "colab": {
          "base_uri": "https://localhost:8080/",
          "height": 192
        },
        "id": "kRG29AdyV0a2",
        "outputId": "7a2e0204-0c4d-410d-bccc-c782874f8f2b"
      },
      "source": [
        "base_transmute <- transmute(base_renomeada, observacoes, tempo)\n",
        "\n",
        "head(base_transmute, n=3)"
      ],
      "execution_count": null,
      "outputs": [
        {
          "output_type": "display_data",
          "data": {
            "text/plain": [
              "  observacoes tempo\n",
              "1 Gabriela    15   \n",
              "2 Dalila      20   \n",
              "3 Gustavo     20   "
            ],
            "text/latex": "A tibble: 3 × 2\n\\begin{tabular}{ll}\n observacoes & tempo\\\\\n <chr> & <dbl>\\\\\n\\hline\n\t Gabriela & 15\\\\\n\t Dalila   & 20\\\\\n\t Gustavo  & 20\\\\\n\\end{tabular}\n",
            "text/markdown": "\nA tibble: 3 × 2\n\n| observacoes &lt;chr&gt; | tempo &lt;dbl&gt; |\n|---|---|\n| Gabriela | 15 |\n| Dalila   | 20 |\n| Gustavo  | 20 |\n\n",
            "text/html": [
              "<table class=\"dataframe\">\n",
              "<caption>A tibble: 3 × 2</caption>\n",
              "<thead>\n",
              "\t<tr><th scope=col>observacoes</th><th scope=col>tempo</th></tr>\n",
              "\t<tr><th scope=col>&lt;chr&gt;</th><th scope=col>&lt;dbl&gt;</th></tr>\n",
              "</thead>\n",
              "<tbody>\n",
              "\t<tr><td>Gabriela</td><td>15</td></tr>\n",
              "\t<tr><td>Dalila  </td><td>20</td></tr>\n",
              "\t<tr><td>Gustavo </td><td>20</td></tr>\n",
              "</tbody>\n",
              "</table>\n"
            ]
          },
          "metadata": {}
        }
      ]
    },
    {
      "cell_type": "markdown",
      "metadata": {
        "id": "drBBfwzVXrv1"
      },
      "source": [
        "**select** seleciona parte do Dataset."
      ]
    },
    {
      "cell_type": "code",
      "metadata": {
        "colab": {
          "base_uri": "https://localhost:8080/",
          "height": 192
        },
        "id": "_IgS_at0XsXs",
        "outputId": "857bef4c-5719-42d1-e7e8-69c9e0d4d760"
      },
      "source": [
        "base_select <- select(base_renomeada, observacoes, tempo)\n",
        "head(base_select, n=3)"
      ],
      "execution_count": null,
      "outputs": [
        {
          "output_type": "display_data",
          "data": {
            "text/plain": [
              "  observacoes tempo\n",
              "1 Gabriela    15   \n",
              "2 Dalila      20   \n",
              "3 Gustavo     20   "
            ],
            "text/latex": "A tibble: 3 × 2\n\\begin{tabular}{ll}\n observacoes & tempo\\\\\n <chr> & <dbl>\\\\\n\\hline\n\t Gabriela & 15\\\\\n\t Dalila   & 20\\\\\n\t Gustavo  & 20\\\\\n\\end{tabular}\n",
            "text/markdown": "\nA tibble: 3 × 2\n\n| observacoes &lt;chr&gt; | tempo &lt;dbl&gt; |\n|---|---|\n| Gabriela | 15 |\n| Dalila   | 20 |\n| Gustavo  | 20 |\n\n",
            "text/html": [
              "<table class=\"dataframe\">\n",
              "<caption>A tibble: 3 × 2</caption>\n",
              "<thead>\n",
              "\t<tr><th scope=col>observacoes</th><th scope=col>tempo</th></tr>\n",
              "\t<tr><th scope=col>&lt;chr&gt;</th><th scope=col>&lt;dbl&gt;</th></tr>\n",
              "</thead>\n",
              "<tbody>\n",
              "\t<tr><td>Gabriela</td><td>15</td></tr>\n",
              "\t<tr><td>Dalila  </td><td>20</td></tr>\n",
              "\t<tr><td>Gustavo </td><td>20</td></tr>\n",
              "</tbody>\n",
              "</table>\n"
            ]
          },
          "metadata": {}
        }
      ]
    },
    {
      "cell_type": "code",
      "metadata": {
        "colab": {
          "base_uri": "https://localhost:8080/",
          "height": 192
        },
        "id": "lvwTNc7vYokB",
        "outputId": "f51b8740-806a-4cdd-daf4-16585b0cd41d"
      },
      "source": [
        "base_select <- select(base_renomeada,  everything(), -perfil, -tempo)\n",
        "head(base_select, n=3)"
      ],
      "execution_count": null,
      "outputs": [
        {
          "output_type": "display_data",
          "data": {
            "text/plain": [
              "  observacoes distancia semaforos periodo\n",
              "1 Gabriela     8        0         Manhã  \n",
              "2 Dalila       6        1         Manhã  \n",
              "3 Gustavo     15        0         Manhã  "
            ],
            "text/latex": "A tibble: 3 × 4\n\\begin{tabular}{llll}\n observacoes & distancia & semaforos & periodo\\\\\n <chr> & <dbl> & <dbl> & <chr>\\\\\n\\hline\n\t Gabriela &  8 & 0 & Manhã\\\\\n\t Dalila   &  6 & 1 & Manhã\\\\\n\t Gustavo  & 15 & 0 & Manhã\\\\\n\\end{tabular}\n",
            "text/markdown": "\nA tibble: 3 × 4\n\n| observacoes &lt;chr&gt; | distancia &lt;dbl&gt; | semaforos &lt;dbl&gt; | periodo &lt;chr&gt; |\n|---|---|---|---|\n| Gabriela |  8 | 0 | Manhã |\n| Dalila   |  6 | 1 | Manhã |\n| Gustavo  | 15 | 0 | Manhã |\n\n",
            "text/html": [
              "<table class=\"dataframe\">\n",
              "<caption>A tibble: 3 × 4</caption>\n",
              "<thead>\n",
              "\t<tr><th scope=col>observacoes</th><th scope=col>distancia</th><th scope=col>semaforos</th><th scope=col>periodo</th></tr>\n",
              "\t<tr><th scope=col>&lt;chr&gt;</th><th scope=col>&lt;dbl&gt;</th><th scope=col>&lt;dbl&gt;</th><th scope=col>&lt;chr&gt;</th></tr>\n",
              "</thead>\n",
              "<tbody>\n",
              "\t<tr><td>Gabriela</td><td> 8</td><td>0</td><td>Manhã</td></tr>\n",
              "\t<tr><td>Dalila  </td><td> 6</td><td>1</td><td>Manhã</td></tr>\n",
              "\t<tr><td>Gustavo </td><td>15</td><td>0</td><td>Manhã</td></tr>\n",
              "</tbody>\n",
              "</table>\n"
            ]
          },
          "metadata": {}
        }
      ]
    },
    {
      "cell_type": "code",
      "metadata": {
        "colab": {
          "base_uri": "https://localhost:8080/",
          "height": 192
        },
        "id": "2bWX5-rsY4uy",
        "outputId": "cc692efe-af64-47e9-da36-3572e6796750"
      },
      "source": [
        "base_select <- select(base_renomeada, observacoes:distancia)\n",
        "head(base_select, n=3)"
      ],
      "execution_count": null,
      "outputs": [
        {
          "output_type": "display_data",
          "data": {
            "text/plain": [
              "  observacoes tempo distancia\n",
              "1 Gabriela    15     8       \n",
              "2 Dalila      20     6       \n",
              "3 Gustavo     20    15       "
            ],
            "text/latex": "A tibble: 3 × 3\n\\begin{tabular}{lll}\n observacoes & tempo & distancia\\\\\n <chr> & <dbl> & <dbl>\\\\\n\\hline\n\t Gabriela & 15 &  8\\\\\n\t Dalila   & 20 &  6\\\\\n\t Gustavo  & 20 & 15\\\\\n\\end{tabular}\n",
            "text/markdown": "\nA tibble: 3 × 3\n\n| observacoes &lt;chr&gt; | tempo &lt;dbl&gt; | distancia &lt;dbl&gt; |\n|---|---|---|\n| Gabriela | 15 |  8 |\n| Dalila   | 20 |  6 |\n| Gustavo  | 20 | 15 |\n\n",
            "text/html": [
              "<table class=\"dataframe\">\n",
              "<caption>A tibble: 3 × 3</caption>\n",
              "<thead>\n",
              "\t<tr><th scope=col>observacoes</th><th scope=col>tempo</th><th scope=col>distancia</th></tr>\n",
              "\t<tr><th scope=col>&lt;chr&gt;</th><th scope=col>&lt;dbl&gt;</th><th scope=col>&lt;dbl&gt;</th></tr>\n",
              "</thead>\n",
              "<tbody>\n",
              "\t<tr><td>Gabriela</td><td>15</td><td> 8</td></tr>\n",
              "\t<tr><td>Dalila  </td><td>20</td><td> 6</td></tr>\n",
              "\t<tr><td>Gustavo </td><td>20</td><td>15</td></tr>\n",
              "</tbody>\n",
              "</table>\n"
            ]
          },
          "metadata": {}
        }
      ]
    },
    {
      "cell_type": "code",
      "metadata": {
        "colab": {
          "base_uri": "https://localhost:8080/",
          "height": 192
        },
        "id": "9g8fOfgXY5xn",
        "outputId": "9f80dee0-f1ba-494e-8832-82ec1addae59"
      },
      "source": [
        "base_select <- select(base_renomeada, starts_with(\"p\"))\n",
        "head(base_select, n=3)"
      ],
      "execution_count": null,
      "outputs": [
        {
          "output_type": "display_data",
          "data": {
            "text/plain": [
              "  periodo perfil  \n",
              "1 Manhã   calmo   \n",
              "2 Manhã   moderado\n",
              "3 Manhã   moderado"
            ],
            "text/latex": "A tibble: 3 × 2\n\\begin{tabular}{ll}\n periodo & perfil\\\\\n <chr> & <chr>\\\\\n\\hline\n\t Manhã & calmo   \\\\\n\t Manhã & moderado\\\\\n\t Manhã & moderado\\\\\n\\end{tabular}\n",
            "text/markdown": "\nA tibble: 3 × 2\n\n| periodo &lt;chr&gt; | perfil &lt;chr&gt; |\n|---|---|\n| Manhã | calmo    |\n| Manhã | moderado |\n| Manhã | moderado |\n\n",
            "text/html": [
              "<table class=\"dataframe\">\n",
              "<caption>A tibble: 3 × 2</caption>\n",
              "<thead>\n",
              "\t<tr><th scope=col>periodo</th><th scope=col>perfil</th></tr>\n",
              "\t<tr><th scope=col>&lt;chr&gt;</th><th scope=col>&lt;chr&gt;</th></tr>\n",
              "</thead>\n",
              "<tbody>\n",
              "\t<tr><td>Manhã</td><td>calmo   </td></tr>\n",
              "\t<tr><td>Manhã</td><td>moderado</td></tr>\n",
              "\t<tr><td>Manhã</td><td>moderado</td></tr>\n",
              "</tbody>\n",
              "</table>\n"
            ]
          },
          "metadata": {}
        }
      ]
    },
    {
      "cell_type": "markdown",
      "metadata": {
        "id": "kHhKeB2iZHpt"
      },
      "source": [
        "**relocate** reordena as variáveis."
      ]
    },
    {
      "cell_type": "code",
      "metadata": {
        "colab": {
          "base_uri": "https://localhost:8080/",
          "height": 192
        },
        "id": "7V4-VMGYZG6c",
        "outputId": "c9ff9c07-57fa-4cca-d708-497e3746deb4"
      },
      "source": [
        "base_relocate <- relocate(base_renomeada, perfil, .after = observacoes)\n",
        "head(base_relocate, n=3)"
      ],
      "execution_count": null,
      "outputs": [
        {
          "output_type": "display_data",
          "data": {
            "text/plain": [
              "  observacoes perfil   tempo distancia semaforos periodo\n",
              "1 Gabriela    calmo    15     8        0         Manhã  \n",
              "2 Dalila      moderado 20     6        1         Manhã  \n",
              "3 Gustavo     moderado 20    15        0         Manhã  "
            ],
            "text/latex": "A tibble: 3 × 6\n\\begin{tabular}{llllll}\n observacoes & perfil & tempo & distancia & semaforos & periodo\\\\\n <chr> & <chr> & <dbl> & <dbl> & <dbl> & <chr>\\\\\n\\hline\n\t Gabriela & calmo    & 15 &  8 & 0 & Manhã\\\\\n\t Dalila   & moderado & 20 &  6 & 1 & Manhã\\\\\n\t Gustavo  & moderado & 20 & 15 & 0 & Manhã\\\\\n\\end{tabular}\n",
            "text/markdown": "\nA tibble: 3 × 6\n\n| observacoes &lt;chr&gt; | perfil &lt;chr&gt; | tempo &lt;dbl&gt; | distancia &lt;dbl&gt; | semaforos &lt;dbl&gt; | periodo &lt;chr&gt; |\n|---|---|---|---|---|---|\n| Gabriela | calmo    | 15 |  8 | 0 | Manhã |\n| Dalila   | moderado | 20 |  6 | 1 | Manhã |\n| Gustavo  | moderado | 20 | 15 | 0 | Manhã |\n\n",
            "text/html": [
              "<table class=\"dataframe\">\n",
              "<caption>A tibble: 3 × 6</caption>\n",
              "<thead>\n",
              "\t<tr><th scope=col>observacoes</th><th scope=col>perfil</th><th scope=col>tempo</th><th scope=col>distancia</th><th scope=col>semaforos</th><th scope=col>periodo</th></tr>\n",
              "\t<tr><th scope=col>&lt;chr&gt;</th><th scope=col>&lt;chr&gt;</th><th scope=col>&lt;dbl&gt;</th><th scope=col>&lt;dbl&gt;</th><th scope=col>&lt;dbl&gt;</th><th scope=col>&lt;chr&gt;</th></tr>\n",
              "</thead>\n",
              "<tbody>\n",
              "\t<tr><td>Gabriela</td><td>calmo   </td><td>15</td><td> 8</td><td>0</td><td>Manhã</td></tr>\n",
              "\t<tr><td>Dalila  </td><td>moderado</td><td>20</td><td> 6</td><td>1</td><td>Manhã</td></tr>\n",
              "\t<tr><td>Gustavo </td><td>moderado</td><td>20</td><td>15</td><td>0</td><td>Manhã</td></tr>\n",
              "</tbody>\n",
              "</table>\n"
            ]
          },
          "metadata": {}
        }
      ]
    },
    {
      "cell_type": "code",
      "metadata": {
        "colab": {
          "base_uri": "https://localhost:8080/",
          "height": 192
        },
        "id": "VTjG1kdSZ3TZ",
        "outputId": "552fe1e3-997c-413e-8ca7-58463fd0b0cc"
      },
      "source": [
        "base_relocate <- relocate(base_renomeada, perfil, .before = observacoes)\n",
        "head(base_relocate, n=3)"
      ],
      "execution_count": null,
      "outputs": [
        {
          "output_type": "display_data",
          "data": {
            "text/plain": [
              "  perfil   observacoes tempo distancia semaforos periodo\n",
              "1 calmo    Gabriela    15     8        0         Manhã  \n",
              "2 moderado Dalila      20     6        1         Manhã  \n",
              "3 moderado Gustavo     20    15        0         Manhã  "
            ],
            "text/latex": "A tibble: 3 × 6\n\\begin{tabular}{llllll}\n perfil & observacoes & tempo & distancia & semaforos & periodo\\\\\n <chr> & <chr> & <dbl> & <dbl> & <dbl> & <chr>\\\\\n\\hline\n\t calmo    & Gabriela & 15 &  8 & 0 & Manhã\\\\\n\t moderado & Dalila   & 20 &  6 & 1 & Manhã\\\\\n\t moderado & Gustavo  & 20 & 15 & 0 & Manhã\\\\\n\\end{tabular}\n",
            "text/markdown": "\nA tibble: 3 × 6\n\n| perfil &lt;chr&gt; | observacoes &lt;chr&gt; | tempo &lt;dbl&gt; | distancia &lt;dbl&gt; | semaforos &lt;dbl&gt; | periodo &lt;chr&gt; |\n|---|---|---|---|---|---|\n| calmo    | Gabriela | 15 |  8 | 0 | Manhã |\n| moderado | Dalila   | 20 |  6 | 1 | Manhã |\n| moderado | Gustavo  | 20 | 15 | 0 | Manhã |\n\n",
            "text/html": [
              "<table class=\"dataframe\">\n",
              "<caption>A tibble: 3 × 6</caption>\n",
              "<thead>\n",
              "\t<tr><th scope=col>perfil</th><th scope=col>observacoes</th><th scope=col>tempo</th><th scope=col>distancia</th><th scope=col>semaforos</th><th scope=col>periodo</th></tr>\n",
              "\t<tr><th scope=col>&lt;chr&gt;</th><th scope=col>&lt;chr&gt;</th><th scope=col>&lt;dbl&gt;</th><th scope=col>&lt;dbl&gt;</th><th scope=col>&lt;dbl&gt;</th><th scope=col>&lt;chr&gt;</th></tr>\n",
              "</thead>\n",
              "<tbody>\n",
              "\t<tr><td>calmo   </td><td>Gabriela</td><td>15</td><td> 8</td><td>0</td><td>Manhã</td></tr>\n",
              "\t<tr><td>moderado</td><td>Dalila  </td><td>20</td><td> 6</td><td>1</td><td>Manhã</td></tr>\n",
              "\t<tr><td>moderado</td><td>Gustavo </td><td>20</td><td>15</td><td>0</td><td>Manhã</td></tr>\n",
              "</tbody>\n",
              "</table>\n"
            ]
          },
          "metadata": {}
        }
      ]
    },
    {
      "cell_type": "markdown",
      "metadata": {
        "id": "bHfPOKr9aQ1d"
      },
      "source": [
        "**pull** seleciona parte do Dataset gerando um vetor."
      ]
    },
    {
      "cell_type": "code",
      "metadata": {
        "colab": {
          "base_uri": "https://localhost:8080/",
          "height": 34
        },
        "id": "8O2bbHg6aXso",
        "outputId": "0c18565c-e9ab-4492-ca72-99ee9feb2d70"
      },
      "source": [
        "base_pull <- pull(base_renomeada, var=1)\n",
        "head(base_pull, n=3) #<-- variável observacoes"
      ],
      "execution_count": null,
      "outputs": [
        {
          "output_type": "display_data",
          "data": {
            "text/plain": [
              "[1] \"Gabriela\" \"Dalila\"   \"Gustavo\" "
            ],
            "text/latex": "\\begin{enumerate*}\n\\item 'Gabriela'\n\\item 'Dalila'\n\\item 'Gustavo'\n\\end{enumerate*}\n",
            "text/markdown": "1. 'Gabriela'\n2. 'Dalila'\n3. 'Gustavo'\n\n\n",
            "text/html": [
              "<style>\n",
              ".list-inline {list-style: none; margin:0; padding: 0}\n",
              ".list-inline>li {display: inline-block}\n",
              ".list-inline>li:not(:last-child)::after {content: \"\\00b7\"; padding: 0 .5ex}\n",
              "</style>\n",
              "<ol class=list-inline><li>'Gabriela'</li><li>'Dalila'</li><li>'Gustavo'</li></ol>\n"
            ]
          },
          "metadata": {}
        }
      ]
    },
    {
      "cell_type": "markdown",
      "metadata": {
        "id": "0Sb7VxWYWwXY"
      },
      "source": [
        "###Operadores de Manipulação"
      ]
    },
    {
      "cell_type": "markdown",
      "metadata": {
        "id": "XEBc6OmHJKBV"
      },
      "source": [
        "**cut** divide o dataset em intervalos.\n",
        "cut(x, breaks, labels = NULL, include.lowest = FALSE, right = TRUE)\n",
        "\n",
        "\n",
        "x =  o vetor numérico que deve ser transformado;\n",
        "\n",
        "breaks = numero de intervalos;\n",
        "\n",
        "labels = rótulos lógicos anexados ao resultado;"
      ]
    },
    {
      "cell_type": "code",
      "metadata": {
        "colab": {
          "base_uri": "https://localhost:8080/",
          "height": 52
        },
        "id": "Udo5bLbhJJlk",
        "outputId": "f4dd192e-f919-4387-f5cb-248139ae9115"
      },
      "source": [
        "to_cut <- c(0,1,2,3,4)\n",
        "cut(to_cut, c(-Inf, 1,3, Inf), c(\"Group1\", \"Group2\", \"Group3\")) #<-- -infinito até 1 = Group1, >1 até 3 = Group2, >3 até +Infinito = Group3"
      ],
      "execution_count": null,
      "outputs": [
        {
          "output_type": "display_data",
          "data": {
            "text/plain": [
              "[1] Group1 Group1 Group2 Group2 Group3\n",
              "Levels: Group1 Group2 Group3"
            ],
            "text/latex": "\\begin{enumerate*}\n\\item Group1\n\\item Group1\n\\item Group2\n\\item Group2\n\\item Group3\n\\end{enumerate*}\n\n\\emph{Levels}: \\begin{enumerate*}\n\\item 'Group1'\n\\item 'Group2'\n\\item 'Group3'\n\\end{enumerate*}\n",
            "text/markdown": "1. Group1\n2. Group1\n3. Group2\n4. Group2\n5. Group3\n\n\n\n**Levels**: 1. 'Group1'\n2. 'Group2'\n3. 'Group3'\n\n\n",
            "text/html": [
              "<style>\n",
              ".list-inline {list-style: none; margin:0; padding: 0}\n",
              ".list-inline>li {display: inline-block}\n",
              ".list-inline>li:not(:last-child)::after {content: \"\\00b7\"; padding: 0 .5ex}\n",
              "</style>\n",
              "<ol class=list-inline><li>Group1</li><li>Group1</li><li>Group2</li><li>Group2</li><li>Group3</li></ol>\n",
              "\n",
              "<details>\n",
              "\t<summary style=display:list-item;cursor:pointer>\n",
              "\t\t<strong>Levels</strong>:\n",
              "\t</summary>\n",
              "\t<style>\n",
              "\t.list-inline {list-style: none; margin:0; padding: 0}\n",
              "\t.list-inline>li {display: inline-block}\n",
              "\t.list-inline>li:not(:last-child)::after {content: \"\\00b7\"; padding: 0 .5ex}\n",
              "\t</style>\n",
              "\t<ol class=list-inline><li>'Group1'</li><li>'Group2'</li><li>'Group3'</li></ol>\n",
              "</details>"
            ]
          },
          "metadata": {}
        }
      ]
    },
    {
      "cell_type": "markdown",
      "metadata": {
        "id": "qKS7tw2_QWw2"
      },
      "source": [
        "**quantile** obtem os divisores percentis de um dataset."
      ]
    },
    {
      "cell_type": "code",
      "metadata": {
        "colab": {
          "base_uri": "https://localhost:8080/",
          "height": 34
        },
        "id": "cjlpucSiQtCs",
        "outputId": "a14c4031-16f4-451a-b50f-31fd913ac724"
      },
      "source": [
        "to_quantile <- c(0,1,2,3,4,5,6,7,8,9,10,11,12,13,14,15,16,17,18,19,20)\n",
        "quantile(to_quantile,\n",
        "          type = 5,\n",
        "          probs = c(0.25, 0.50, 0.75)) #<-- divisores (0-25%) 1º (25%-50%), 2º (50%-75%), 3º (75%-100%)"
      ],
      "execution_count": null,
      "outputs": [
        {
          "output_type": "display_data",
          "data": {
            "text/plain": [
              "  25%   50%   75% \n",
              " 4.75 10.00 15.25 "
            ],
            "text/latex": "\\begin{description*}\n\\item[25\\textbackslash{}\\%] 4.75\n\\item[50\\textbackslash{}\\%] 10\n\\item[75\\textbackslash{}\\%] 15.25\n\\end{description*}\n",
            "text/markdown": "25%\n:   4.7550%\n:   1075%\n:   15.25\n\n",
            "text/html": [
              "<style>\n",
              ".dl-inline {width: auto; margin:0; padding: 0}\n",
              ".dl-inline>dt, .dl-inline>dd {float: none; width: auto; display: inline-block}\n",
              ".dl-inline>dt::after {content: \":\\0020\"; padding-right: .5ex}\n",
              ".dl-inline>dt:not(:first-of-type) {padding-left: .5ex}\n",
              "</style><dl class=dl-inline><dt>25%</dt><dd>4.75</dd><dt>50%</dt><dd>10</dd><dt>75%</dt><dd>15.25</dd></dl>\n"
            ]
          },
          "metadata": {}
        }
      ]
    },
    {
      "cell_type": "markdown",
      "metadata": {
        "id": "yodbVQApW4pb"
      },
      "source": [
        "**median** realiza a mediana."
      ]
    },
    {
      "cell_type": "code",
      "metadata": {
        "colab": {
          "base_uri": "https://localhost:8080/",
          "height": 34
        },
        "id": "Zj0eQiYnXTPu",
        "outputId": "59e22593-40fc-446e-ba92-997ade501c93"
      },
      "source": [
        "to_median <- c(0,110)\n",
        "median(to_median)"
      ],
      "execution_count": null,
      "outputs": [
        {
          "output_type": "display_data",
          "data": {
            "text/plain": [
              "[1] 55"
            ],
            "text/latex": "55",
            "text/markdown": "55",
            "text/html": [
              "55"
            ]
          },
          "metadata": {}
        }
      ]
    },
    {
      "cell_type": "markdown",
      "metadata": {
        "id": "XM4hkN7_b5ab"
      },
      "source": [
        "case_when"
      ]
    },
    {
      "cell_type": "code",
      "metadata": {
        "colab": {
          "base_uri": "https://localhost:8080/",
          "height": 34
        },
        "id": "m_OS3i-Ab57v",
        "outputId": "93559262-b25b-4014-f6a7-004218f68860"
      },
      "source": [
        "to_case_when <- c(1,2,3,4,5,6)\n",
        "case_when(to_case_when < 3 ~ \"menor\",to_case_when == 3 ~ \"igual\", to_case_when > 3 ~ \"maior\") #<-- comparação se o numero é menor, igual ou maior a 3"
      ],
      "execution_count": null,
      "outputs": [
        {
          "output_type": "display_data",
          "data": {
            "text/plain": [
              "[1] \"menor\" \"menor\" \"igual\" \"maior\" \"maior\" \"maior\""
            ],
            "text/latex": "\\begin{enumerate*}\n\\item 'menor'\n\\item 'menor'\n\\item 'igual'\n\\item 'maior'\n\\item 'maior'\n\\item 'maior'\n\\end{enumerate*}\n",
            "text/markdown": "1. 'menor'\n2. 'menor'\n3. 'igual'\n4. 'maior'\n5. 'maior'\n6. 'maior'\n\n\n",
            "text/html": [
              "<style>\n",
              ".list-inline {list-style: none; margin:0; padding: 0}\n",
              ".list-inline>li {display: inline-block}\n",
              ".list-inline>li:not(:last-child)::after {content: \"\\00b7\"; padding: 0 .5ex}\n",
              "</style>\n",
              "<ol class=list-inline><li>'menor'</li><li>'menor'</li><li>'igual'</li><li>'maior'</li><li>'maior'</li><li>'maior'</li></ol>\n"
            ]
          },
          "metadata": {}
        }
      ]
    },
    {
      "cell_type": "markdown",
      "metadata": {
        "id": "DGcw24PHhb6q"
      },
      "source": [
        "## Aula II"
      ]
    },
    {
      "cell_type": "markdown",
      "metadata": {
        "id": "aJL4HCxGwlNF"
      },
      "source": [
        "###Estatísticas Descritivas"
      ]
    },
    {
      "cell_type": "markdown",
      "metadata": {
        "id": "C_6f3iZ8uVNW"
      },
      "source": [
        "**summarise** gera estatísticas descritivas do dataset. Sendo a esquerda da igualdade o nome dado a descritiva e a direita o comando da descritiva."
      ]
    },
    {
      "cell_type": "code",
      "metadata": {
        "colab": {
          "base_uri": "https://localhost:8080/",
          "height": 129
        },
        "id": "p-_hSJDrub56",
        "outputId": "6b18f4d9-8cb1-4c54-e2be-3b3d4ac395a5"
      },
      "source": [
        "descritivas_summarise <- summarise(base_renomeada,\n",
        "                                  observações = n(), # <--quantidade de linhas\n",
        "                                  média=mean(tempo), # <--média\n",
        "                                  mediana=median(tempo), # <--mediana\n",
        "                                  desv_pad=sd(tempo), # <-- desvio padrão\n",
        "                                  mínimo=min(tempo), # <-- mínimo\n",
        "                                  máximo=max(tempo), # <-- máximo\n",
        "                                  quartil_75=quantile(tempo,type=5, 0.75)) # <-- divisor para o quartil 75%\n",
        "\n",
        "descritivas_summarise"
      ],
      "execution_count": null,
      "outputs": [
        {
          "output_type": "display_data",
          "data": {
            "text/plain": [
              "  observações média mediana desv_pad mínimo máximo quartil_75\n",
              "1 10          30    27.5    14.90712 10     55     40        "
            ],
            "text/latex": "A tibble: 1 × 7\n\\begin{tabular}{lllllll}\n observações & média & mediana & desv\\_pad & mínimo & máximo & quartil\\_75\\\\\n <int> & <dbl> & <dbl> & <dbl> & <dbl> & <dbl> & <dbl>\\\\\n\\hline\n\t 10 & 30 & 27.5 & 14.90712 & 10 & 55 & 40\\\\\n\\end{tabular}\n",
            "text/markdown": "\nA tibble: 1 × 7\n\n| observações &lt;int&gt; | média &lt;dbl&gt; | mediana &lt;dbl&gt; | desv_pad &lt;dbl&gt; | mínimo &lt;dbl&gt; | máximo &lt;dbl&gt; | quartil_75 &lt;dbl&gt; |\n|---|---|---|---|---|---|---|\n| 10 | 30 | 27.5 | 14.90712 | 10 | 55 | 40 |\n\n",
            "text/html": [
              "<table class=\"dataframe\">\n",
              "<caption>A tibble: 1 × 7</caption>\n",
              "<thead>\n",
              "\t<tr><th scope=col>observações</th><th scope=col>média</th><th scope=col>mediana</th><th scope=col>desv_pad</th><th scope=col>mínimo</th><th scope=col>máximo</th><th scope=col>quartil_75</th></tr>\n",
              "\t<tr><th scope=col>&lt;int&gt;</th><th scope=col>&lt;dbl&gt;</th><th scope=col>&lt;dbl&gt;</th><th scope=col>&lt;dbl&gt;</th><th scope=col>&lt;dbl&gt;</th><th scope=col>&lt;dbl&gt;</th><th scope=col>&lt;dbl&gt;</th></tr>\n",
              "</thead>\n",
              "<tbody>\n",
              "\t<tr><td>10</td><td>30</td><td>27.5</td><td>14.90712</td><td>10</td><td>55</td><td>40</td></tr>\n",
              "</tbody>\n",
              "</table>\n"
            ]
          },
          "metadata": {}
        }
      ]
    },
    {
      "cell_type": "markdown",
      "metadata": {
        "id": "3EQT0C967H-y"
      },
      "source": [
        "Obs: podemos passar o parâmetro **na.rm = T** para remover valores NA do cálculo, ex: média=mean(tempo, na.rm = T)"
      ]
    },
    {
      "cell_type": "markdown",
      "metadata": {
        "id": "wTG3NoCov9yb"
      },
      "source": [
        "### Agrupamentos"
      ]
    },
    {
      "cell_type": "markdown",
      "metadata": {
        "id": "TSiTMDW_xP7M"
      },
      "source": [
        "**group_by** realiza o agrupamentos (grupos) do dataset por critérios."
      ]
    },
    {
      "cell_type": "code",
      "metadata": {
        "colab": {
          "base_uri": "https://localhost:8080/",
          "height": 192
        },
        "id": "1a6dBCx2xb00",
        "outputId": "4fc1a2ef-ec45-4ebf-bbc4-7314a4ac1964"
      },
      "source": [
        "base_agrupada <- group_by(base_renomeada, periodo)\n",
        "head(base_agrupada, n=3)"
      ],
      "execution_count": null,
      "outputs": [
        {
          "output_type": "display_data",
          "data": {
            "text/plain": [
              "  observacoes tempo distancia semaforos periodo perfil  \n",
              "1 Gabriela    15     8        0         Manhã   calmo   \n",
              "2 Dalila      20     6        1         Manhã   moderado\n",
              "3 Gustavo     20    15        0         Manhã   moderado"
            ],
            "text/latex": "A grouped\\_df: 3 × 6\n\\begin{tabular}{llllll}\n observacoes & tempo & distancia & semaforos & periodo & perfil\\\\\n <chr> & <dbl> & <dbl> & <dbl> & <chr> & <chr>\\\\\n\\hline\n\t Gabriela & 15 &  8 & 0 & Manhã & calmo   \\\\\n\t Dalila   & 20 &  6 & 1 & Manhã & moderado\\\\\n\t Gustavo  & 20 & 15 & 0 & Manhã & moderado\\\\\n\\end{tabular}\n",
            "text/markdown": "\nA grouped_df: 3 × 6\n\n| observacoes &lt;chr&gt; | tempo &lt;dbl&gt; | distancia &lt;dbl&gt; | semaforos &lt;dbl&gt; | periodo &lt;chr&gt; | perfil &lt;chr&gt; |\n|---|---|---|---|---|---|\n| Gabriela | 15 |  8 | 0 | Manhã | calmo    |\n| Dalila   | 20 |  6 | 1 | Manhã | moderado |\n| Gustavo  | 20 | 15 | 0 | Manhã | moderado |\n\n",
            "text/html": [
              "<table class=\"dataframe\">\n",
              "<caption>A grouped_df: 3 × 6</caption>\n",
              "<thead>\n",
              "\t<tr><th scope=col>observacoes</th><th scope=col>tempo</th><th scope=col>distancia</th><th scope=col>semaforos</th><th scope=col>periodo</th><th scope=col>perfil</th></tr>\n",
              "\t<tr><th scope=col>&lt;chr&gt;</th><th scope=col>&lt;dbl&gt;</th><th scope=col>&lt;dbl&gt;</th><th scope=col>&lt;dbl&gt;</th><th scope=col>&lt;chr&gt;</th><th scope=col>&lt;chr&gt;</th></tr>\n",
              "</thead>\n",
              "<tbody>\n",
              "\t<tr><td>Gabriela</td><td>15</td><td> 8</td><td>0</td><td>Manhã</td><td>calmo   </td></tr>\n",
              "\t<tr><td>Dalila  </td><td>20</td><td> 6</td><td>1</td><td>Manhã</td><td>moderado</td></tr>\n",
              "\t<tr><td>Gustavo </td><td>20</td><td>15</td><td>0</td><td>Manhã</td><td>moderado</td></tr>\n",
              "</tbody>\n",
              "</table>\n"
            ]
          },
          "metadata": {}
        }
      ]
    },
    {
      "cell_type": "markdown",
      "metadata": {
        "id": "Yg3wetGwyGmy"
      },
      "source": [
        "*Obs: visualmente nada mudou, além da informação grouped_df, pois criar grupos não altera a base de dados, porém se realizarmos qualquer medida descritiva, esta será separada por grupos."
      ]
    },
    {
      "cell_type": "code",
      "metadata": {
        "colab": {
          "base_uri": "https://localhost:8080/",
          "height": 161
        },
        "id": "CIMxsygEye33",
        "outputId": "28ae5fd3-7c6e-496c-8684-0f96b9d628ae"
      },
      "source": [
        "descritivas_summarise_agrupada <- summarise(base_agrupada,\n",
        "                                  observações = n(),\n",
        "                                  média=mean(tempo),\n",
        "                                  mediana=median(tempo),\n",
        "                                  desv_pad=sd(tempo),\n",
        "                                  mínimo=min(tempo),\n",
        "                                  máximo=max(tempo),\n",
        "                                  quartil_75=quantile(tempo,type=5, 0.75))\n",
        "\n",
        "descritivas_summarise_agrupada"
      ],
      "execution_count": null,
      "outputs": [
        {
          "output_type": "display_data",
          "data": {
            "text/plain": [
              "  periodo observações média    mediana desv_pad mínimo máximo quartil_75\n",
              "1 Manhã   7           22.14286 20      8.591247 10     35     28.75     \n",
              "2 Tarde   3           48.33333 50      7.637626 40     55     53.75     "
            ],
            "text/latex": "A tibble: 2 × 8\n\\begin{tabular}{llllllll}\n periodo & observações & média & mediana & desv\\_pad & mínimo & máximo & quartil\\_75\\\\\n <chr> & <int> & <dbl> & <dbl> & <dbl> & <dbl> & <dbl> & <dbl>\\\\\n\\hline\n\t Manhã & 7 & 22.14286 & 20 & 8.591247 & 10 & 35 & 28.75\\\\\n\t Tarde & 3 & 48.33333 & 50 & 7.637626 & 40 & 55 & 53.75\\\\\n\\end{tabular}\n",
            "text/markdown": "\nA tibble: 2 × 8\n\n| periodo &lt;chr&gt; | observações &lt;int&gt; | média &lt;dbl&gt; | mediana &lt;dbl&gt; | desv_pad &lt;dbl&gt; | mínimo &lt;dbl&gt; | máximo &lt;dbl&gt; | quartil_75 &lt;dbl&gt; |\n|---|---|---|---|---|---|---|---|\n| Manhã | 7 | 22.14286 | 20 | 8.591247 | 10 | 35 | 28.75 |\n| Tarde | 3 | 48.33333 | 50 | 7.637626 | 40 | 55 | 53.75 |\n\n",
            "text/html": [
              "<table class=\"dataframe\">\n",
              "<caption>A tibble: 2 × 8</caption>\n",
              "<thead>\n",
              "\t<tr><th scope=col>periodo</th><th scope=col>observações</th><th scope=col>média</th><th scope=col>mediana</th><th scope=col>desv_pad</th><th scope=col>mínimo</th><th scope=col>máximo</th><th scope=col>quartil_75</th></tr>\n",
              "\t<tr><th scope=col>&lt;chr&gt;</th><th scope=col>&lt;int&gt;</th><th scope=col>&lt;dbl&gt;</th><th scope=col>&lt;dbl&gt;</th><th scope=col>&lt;dbl&gt;</th><th scope=col>&lt;dbl&gt;</th><th scope=col>&lt;dbl&gt;</th><th scope=col>&lt;dbl&gt;</th></tr>\n",
              "</thead>\n",
              "<tbody>\n",
              "\t<tr><td>Manhã</td><td>7</td><td>22.14286</td><td>20</td><td>8.591247</td><td>10</td><td>35</td><td>28.75</td></tr>\n",
              "\t<tr><td>Tarde</td><td>3</td><td>48.33333</td><td>50</td><td>7.637626</td><td>40</td><td>55</td><td>53.75</td></tr>\n",
              "</tbody>\n",
              "</table>\n"
            ]
          },
          "metadata": {}
        }
      ]
    },
    {
      "cell_type": "markdown",
      "metadata": {
        "id": "E8OdcUZa3tOM"
      },
      "source": [
        "**ungroup** + **droplevels** realizam o desagrupamento de um dataset."
      ]
    },
    {
      "cell_type": "code",
      "metadata": {
        "colab": {
          "base_uri": "https://localhost:8080/",
          "height": 192
        },
        "id": "09Z-SA2U3tac",
        "outputId": "a7441b7b-18a6-4244-95bc-3fd35309ce2f"
      },
      "source": [
        "base_desagrupada <- ungroup(base_agrupada) # <-- desagrupa a base\n",
        "base_desagrupada <- droplevels(base_desagrupada) # <-- remove os níveis de agrupamento não utilizados garantindo o retorno a forma 'original'\n",
        "head(base_desagrupada, n=3)"
      ],
      "execution_count": null,
      "outputs": [
        {
          "output_type": "display_data",
          "data": {
            "text/plain": [
              "  observacoes tempo distancia semaforos periodo perfil  \n",
              "1 Gabriela    15     8        0         Manhã   calmo   \n",
              "2 Dalila      20     6        1         Manhã   moderado\n",
              "3 Gustavo     20    15        0         Manhã   moderado"
            ],
            "text/latex": "A tibble: 3 × 6\n\\begin{tabular}{llllll}\n observacoes & tempo & distancia & semaforos & periodo & perfil\\\\\n <chr> & <dbl> & <dbl> & <dbl> & <chr> & <chr>\\\\\n\\hline\n\t Gabriela & 15 &  8 & 0 & Manhã & calmo   \\\\\n\t Dalila   & 20 &  6 & 1 & Manhã & moderado\\\\\n\t Gustavo  & 20 & 15 & 0 & Manhã & moderado\\\\\n\\end{tabular}\n",
            "text/markdown": "\nA tibble: 3 × 6\n\n| observacoes &lt;chr&gt; | tempo &lt;dbl&gt; | distancia &lt;dbl&gt; | semaforos &lt;dbl&gt; | periodo &lt;chr&gt; | perfil &lt;chr&gt; |\n|---|---|---|---|---|---|\n| Gabriela | 15 |  8 | 0 | Manhã | calmo    |\n| Dalila   | 20 |  6 | 1 | Manhã | moderado |\n| Gustavo  | 20 | 15 | 0 | Manhã | moderado |\n\n",
            "text/html": [
              "<table class=\"dataframe\">\n",
              "<caption>A tibble: 3 × 6</caption>\n",
              "<thead>\n",
              "\t<tr><th scope=col>observacoes</th><th scope=col>tempo</th><th scope=col>distancia</th><th scope=col>semaforos</th><th scope=col>periodo</th><th scope=col>perfil</th></tr>\n",
              "\t<tr><th scope=col>&lt;chr&gt;</th><th scope=col>&lt;dbl&gt;</th><th scope=col>&lt;dbl&gt;</th><th scope=col>&lt;dbl&gt;</th><th scope=col>&lt;chr&gt;</th><th scope=col>&lt;chr&gt;</th></tr>\n",
              "</thead>\n",
              "<tbody>\n",
              "\t<tr><td>Gabriela</td><td>15</td><td> 8</td><td>0</td><td>Manhã</td><td>calmo   </td></tr>\n",
              "\t<tr><td>Dalila  </td><td>20</td><td> 6</td><td>1</td><td>Manhã</td><td>moderado</td></tr>\n",
              "\t<tr><td>Gustavo </td><td>20</td><td>15</td><td>0</td><td>Manhã</td><td>moderado</td></tr>\n",
              "</tbody>\n",
              "</table>\n"
            ]
          },
          "metadata": {}
        }
      ]
    },
    {
      "cell_type": "markdown",
      "metadata": {
        "id": "5pqEauZyCnRB"
      },
      "source": [
        "###Filtros"
      ]
    },
    {
      "cell_type": "markdown",
      "metadata": {
        "id": "FRYMy-G8Dbzb"
      },
      "source": [
        "filtros podem ser realizados sem nenhuma função descritiva, utilizando o acesso a objeto [ ]. [linhas, colunas]"
      ]
    },
    {
      "cell_type": "code",
      "metadata": {
        "colab": {
          "base_uri": "https://localhost:8080/",
          "height": 192
        },
        "id": "-5BD3-ffDbW9",
        "outputId": "e0be1f74-1c91-4103-9d71-499eccdf56fe"
      },
      "source": [
        "base_filtrada <- base_renomeada[base_renomeada$periodo=='Tarde',]\n",
        "head(base_filtrada, n=3)"
      ],
      "execution_count": null,
      "outputs": [
        {
          "output_type": "display_data",
          "data": {
            "text/plain": [
              "  observacoes tempo distancia semaforos periodo perfil   \n",
              "1 Letícia     40    20        1         Tarde   agressivo\n",
              "2 Luiz Ovídio 50    25        2         Tarde   agressivo\n",
              "3 Antônio     55    32        3         Tarde   calmo    "
            ],
            "text/latex": "A tibble: 3 × 6\n\\begin{tabular}{llllll}\n observacoes & tempo & distancia & semaforos & periodo & perfil\\\\\n <chr> & <dbl> & <dbl> & <dbl> & <chr> & <chr>\\\\\n\\hline\n\t Letícia     & 40 & 20 & 1 & Tarde & agressivo\\\\\n\t Luiz Ovídio & 50 & 25 & 2 & Tarde & agressivo\\\\\n\t Antônio     & 55 & 32 & 3 & Tarde & calmo    \\\\\n\\end{tabular}\n",
            "text/markdown": "\nA tibble: 3 × 6\n\n| observacoes &lt;chr&gt; | tempo &lt;dbl&gt; | distancia &lt;dbl&gt; | semaforos &lt;dbl&gt; | periodo &lt;chr&gt; | perfil &lt;chr&gt; |\n|---|---|---|---|---|---|\n| Letícia     | 40 | 20 | 1 | Tarde | agressivo |\n| Luiz Ovídio | 50 | 25 | 2 | Tarde | agressivo |\n| Antônio     | 55 | 32 | 3 | Tarde | calmo     |\n\n",
            "text/html": [
              "<table class=\"dataframe\">\n",
              "<caption>A tibble: 3 × 6</caption>\n",
              "<thead>\n",
              "\t<tr><th scope=col>observacoes</th><th scope=col>tempo</th><th scope=col>distancia</th><th scope=col>semaforos</th><th scope=col>periodo</th><th scope=col>perfil</th></tr>\n",
              "\t<tr><th scope=col>&lt;chr&gt;</th><th scope=col>&lt;dbl&gt;</th><th scope=col>&lt;dbl&gt;</th><th scope=col>&lt;dbl&gt;</th><th scope=col>&lt;chr&gt;</th><th scope=col>&lt;chr&gt;</th></tr>\n",
              "</thead>\n",
              "<tbody>\n",
              "\t<tr><td>Letícia    </td><td>40</td><td>20</td><td>1</td><td>Tarde</td><td>agressivo</td></tr>\n",
              "\t<tr><td>Luiz Ovídio</td><td>50</td><td>25</td><td>2</td><td>Tarde</td><td>agressivo</td></tr>\n",
              "\t<tr><td>Antônio    </td><td>55</td><td>32</td><td>3</td><td>Tarde</td><td>calmo    </td></tr>\n",
              "</tbody>\n",
              "</table>\n"
            ]
          },
          "metadata": {}
        }
      ]
    },
    {
      "cell_type": "markdown",
      "metadata": {
        "id": "7ZCibPMhCpf9"
      },
      "source": [
        "**filter** realiza filtros no dataset à partir de critérios estabelecidos"
      ]
    },
    {
      "cell_type": "code",
      "metadata": {
        "colab": {
          "base_uri": "https://localhost:8080/",
          "height": 192
        },
        "id": "Ordiy_nyCvmX",
        "outputId": "ebb6b8af-128d-4274-d51f-6769ef7c7246"
      },
      "source": [
        "base_filtrada <- filter(base_renomeada, periodo == 'Tarde')\n",
        "head(base_filtrada, n=3)"
      ],
      "execution_count": null,
      "outputs": [
        {
          "output_type": "display_data",
          "data": {
            "text/plain": [
              "  observacoes tempo distancia semaforos periodo perfil   \n",
              "1 Letícia     40    20        1         Tarde   agressivo\n",
              "2 Luiz Ovídio 50    25        2         Tarde   agressivo\n",
              "3 Antônio     55    32        3         Tarde   calmo    "
            ],
            "text/latex": "A tibble: 3 × 6\n\\begin{tabular}{llllll}\n observacoes & tempo & distancia & semaforos & periodo & perfil\\\\\n <chr> & <dbl> & <dbl> & <dbl> & <chr> & <chr>\\\\\n\\hline\n\t Letícia     & 40 & 20 & 1 & Tarde & agressivo\\\\\n\t Luiz Ovídio & 50 & 25 & 2 & Tarde & agressivo\\\\\n\t Antônio     & 55 & 32 & 3 & Tarde & calmo    \\\\\n\\end{tabular}\n",
            "text/markdown": "\nA tibble: 3 × 6\n\n| observacoes &lt;chr&gt; | tempo &lt;dbl&gt; | distancia &lt;dbl&gt; | semaforos &lt;dbl&gt; | periodo &lt;chr&gt; | perfil &lt;chr&gt; |\n|---|---|---|---|---|---|\n| Letícia     | 40 | 20 | 1 | Tarde | agressivo |\n| Luiz Ovídio | 50 | 25 | 2 | Tarde | agressivo |\n| Antônio     | 55 | 32 | 3 | Tarde | calmo     |\n\n",
            "text/html": [
              "<table class=\"dataframe\">\n",
              "<caption>A tibble: 3 × 6</caption>\n",
              "<thead>\n",
              "\t<tr><th scope=col>observacoes</th><th scope=col>tempo</th><th scope=col>distancia</th><th scope=col>semaforos</th><th scope=col>periodo</th><th scope=col>perfil</th></tr>\n",
              "\t<tr><th scope=col>&lt;chr&gt;</th><th scope=col>&lt;dbl&gt;</th><th scope=col>&lt;dbl&gt;</th><th scope=col>&lt;dbl&gt;</th><th scope=col>&lt;chr&gt;</th><th scope=col>&lt;chr&gt;</th></tr>\n",
              "</thead>\n",
              "<tbody>\n",
              "\t<tr><td>Letícia    </td><td>40</td><td>20</td><td>1</td><td>Tarde</td><td>agressivo</td></tr>\n",
              "\t<tr><td>Luiz Ovídio</td><td>50</td><td>25</td><td>2</td><td>Tarde</td><td>agressivo</td></tr>\n",
              "\t<tr><td>Antônio    </td><td>55</td><td>32</td><td>3</td><td>Tarde</td><td>calmo    </td></tr>\n",
              "</tbody>\n",
              "</table>\n"
            ]
          },
          "metadata": {}
        }
      ]
    },
    {
      "cell_type": "markdown",
      "metadata": {
        "id": "6yRbIr8QE4Xr"
      },
      "source": [
        "**slice** realiza a seleção de linhas usando posições, e possui variações:\n",
        "\n",
        "*   slice\n",
        "*   slice_head\n",
        "*   slice_tail\n",
        "*   slice_min\n",
        "*   slice_max\n",
        "\n",
        "\n",
        "\n"
      ]
    },
    {
      "cell_type": "code",
      "metadata": {
        "colab": {
          "base_uri": "https://localhost:8080/",
          "height": 161
        },
        "id": "QuBYZxbFFtur",
        "outputId": "3bd4378f-649b-4b90-e614-a1aff6e94f7d"
      },
      "source": [
        "slice(base_renomeada, 2:3) # <-- linhas 2 e 3"
      ],
      "execution_count": null,
      "outputs": [
        {
          "output_type": "display_data",
          "data": {
            "text/plain": [
              "  observacoes tempo distancia semaforos periodo perfil  \n",
              "1 Dalila      20     6        1         Manhã   moderado\n",
              "2 Gustavo     20    15        0         Manhã   moderado"
            ],
            "text/latex": "A tibble: 2 × 6\n\\begin{tabular}{llllll}\n observacoes & tempo & distancia & semaforos & periodo & perfil\\\\\n <chr> & <dbl> & <dbl> & <dbl> & <chr> & <chr>\\\\\n\\hline\n\t Dalila  & 20 &  6 & 1 & Manhã & moderado\\\\\n\t Gustavo & 20 & 15 & 0 & Manhã & moderado\\\\\n\\end{tabular}\n",
            "text/markdown": "\nA tibble: 2 × 6\n\n| observacoes &lt;chr&gt; | tempo &lt;dbl&gt; | distancia &lt;dbl&gt; | semaforos &lt;dbl&gt; | periodo &lt;chr&gt; | perfil &lt;chr&gt; |\n|---|---|---|---|---|---|\n| Dalila  | 20 |  6 | 1 | Manhã | moderado |\n| Gustavo | 20 | 15 | 0 | Manhã | moderado |\n\n",
            "text/html": [
              "<table class=\"dataframe\">\n",
              "<caption>A tibble: 2 × 6</caption>\n",
              "<thead>\n",
              "\t<tr><th scope=col>observacoes</th><th scope=col>tempo</th><th scope=col>distancia</th><th scope=col>semaforos</th><th scope=col>periodo</th><th scope=col>perfil</th></tr>\n",
              "\t<tr><th scope=col>&lt;chr&gt;</th><th scope=col>&lt;dbl&gt;</th><th scope=col>&lt;dbl&gt;</th><th scope=col>&lt;dbl&gt;</th><th scope=col>&lt;chr&gt;</th><th scope=col>&lt;chr&gt;</th></tr>\n",
              "</thead>\n",
              "<tbody>\n",
              "\t<tr><td>Dalila </td><td>20</td><td> 6</td><td>1</td><td>Manhã</td><td>moderado</td></tr>\n",
              "\t<tr><td>Gustavo</td><td>20</td><td>15</td><td>0</td><td>Manhã</td><td>moderado</td></tr>\n",
              "</tbody>\n",
              "</table>\n"
            ]
          },
          "metadata": {}
        }
      ]
    },
    {
      "cell_type": "code",
      "metadata": {
        "colab": {
          "base_uri": "https://localhost:8080/",
          "height": 161
        },
        "id": "5AILmnK9F6yj",
        "outputId": "92bb274c-5723-40b5-f091-f7d5e4d98eeb"
      },
      "source": [
        "slice_max(base_renomeada, order_by = distancia, prop = 0.20) # <-- 20% maiores distâncias"
      ],
      "execution_count": null,
      "outputs": [
        {
          "output_type": "display_data",
          "data": {
            "text/plain": [
              "  observacoes tempo distancia semaforos periodo perfil  \n",
              "1 Antônio     55    32        3         Tarde   calmo   \n",
              "2 Júlia       35    28        1         Manhã   moderado"
            ],
            "text/latex": "A tibble: 2 × 6\n\\begin{tabular}{llllll}\n observacoes & tempo & distancia & semaforos & periodo & perfil\\\\\n <chr> & <dbl> & <dbl> & <dbl> & <chr> & <chr>\\\\\n\\hline\n\t Antônio & 55 & 32 & 3 & Tarde & calmo   \\\\\n\t Júlia   & 35 & 28 & 1 & Manhã & moderado\\\\\n\\end{tabular}\n",
            "text/markdown": "\nA tibble: 2 × 6\n\n| observacoes &lt;chr&gt; | tempo &lt;dbl&gt; | distancia &lt;dbl&gt; | semaforos &lt;dbl&gt; | periodo &lt;chr&gt; | perfil &lt;chr&gt; |\n|---|---|---|---|---|---|\n| Antônio | 55 | 32 | 3 | Tarde | calmo    |\n| Júlia   | 35 | 28 | 1 | Manhã | moderado |\n\n",
            "text/html": [
              "<table class=\"dataframe\">\n",
              "<caption>A tibble: 2 × 6</caption>\n",
              "<thead>\n",
              "\t<tr><th scope=col>observacoes</th><th scope=col>tempo</th><th scope=col>distancia</th><th scope=col>semaforos</th><th scope=col>periodo</th><th scope=col>perfil</th></tr>\n",
              "\t<tr><th scope=col>&lt;chr&gt;</th><th scope=col>&lt;dbl&gt;</th><th scope=col>&lt;dbl&gt;</th><th scope=col>&lt;dbl&gt;</th><th scope=col>&lt;chr&gt;</th><th scope=col>&lt;chr&gt;</th></tr>\n",
              "</thead>\n",
              "<tbody>\n",
              "\t<tr><td>Antônio</td><td>55</td><td>32</td><td>3</td><td>Tarde</td><td>calmo   </td></tr>\n",
              "\t<tr><td>Júlia  </td><td>35</td><td>28</td><td>1</td><td>Manhã</td><td>moderado</td></tr>\n",
              "</tbody>\n",
              "</table>\n"
            ]
          },
          "metadata": {}
        }
      ]
    },
    {
      "cell_type": "markdown",
      "metadata": {
        "id": "n2lXkPuK8Z4S"
      },
      "source": [
        "###Junção de Datasets"
      ]
    },
    {
      "cell_type": "markdown",
      "metadata": {
        "id": "aPlXq5BN8qhy"
      },
      "source": [
        "**bind_rows** une de forma simples os datasets, a ordem das variáveis precisa ser a mesma nos datasets."
      ]
    },
    {
      "cell_type": "code",
      "metadata": {
        "colab": {
          "base_uri": "https://localhost:8080/",
          "height": 241
        },
        "id": "BKAjZ80i8ra6",
        "outputId": "a04a1a5d-e571-47cd-986d-c3bc5cd07d3f"
      },
      "source": [
        "dataset1 <- data.frame(nome = c('Ana', 'Bruna'), idade = c(20,21))\n",
        "\n",
        "dataset2 <- data.frame(nome = c('Claudia', 'Daniela'), idade = c(40,41))\n",
        "\n",
        "bind_rows(dataset1, dataset2)"
      ],
      "execution_count": null,
      "outputs": [
        {
          "output_type": "display_data",
          "data": {
            "text/plain": [
              "  nome    idade\n",
              "1 Ana     20   \n",
              "2 Bruna   21   \n",
              "3 Claudia 40   \n",
              "4 Daniela 41   "
            ],
            "text/latex": "A data.frame: 4 × 2\n\\begin{tabular}{ll}\n nome & idade\\\\\n <chr> & <dbl>\\\\\n\\hline\n\t Ana     & 20\\\\\n\t Bruna   & 21\\\\\n\t Claudia & 40\\\\\n\t Daniela & 41\\\\\n\\end{tabular}\n",
            "text/markdown": "\nA data.frame: 4 × 2\n\n| nome &lt;chr&gt; | idade &lt;dbl&gt; |\n|---|---|\n| Ana     | 20 |\n| Bruna   | 21 |\n| Claudia | 40 |\n| Daniela | 41 |\n\n",
            "text/html": [
              "<table class=\"dataframe\">\n",
              "<caption>A data.frame: 4 × 2</caption>\n",
              "<thead>\n",
              "\t<tr><th scope=col>nome</th><th scope=col>idade</th></tr>\n",
              "\t<tr><th scope=col>&lt;chr&gt;</th><th scope=col>&lt;dbl&gt;</th></tr>\n",
              "</thead>\n",
              "<tbody>\n",
              "\t<tr><td>Ana    </td><td>20</td></tr>\n",
              "\t<tr><td>Bruna  </td><td>21</td></tr>\n",
              "\t<tr><td>Claudia</td><td>40</td></tr>\n",
              "\t<tr><td>Daniela</td><td>41</td></tr>\n",
              "</tbody>\n",
              "</table>\n"
            ]
          },
          "metadata": {}
        }
      ]
    },
    {
      "cell_type": "markdown",
      "metadata": {
        "id": "F22du-9PnVkR"
      },
      "source": [
        "**bind_cols** une de forma simples os datasets, a order das observações precisa ser a mesma nos datasets."
      ]
    },
    {
      "cell_type": "code",
      "metadata": {
        "colab": {
          "base_uri": "https://localhost:8080/",
          "height": 241
        },
        "id": "UYvXxwtLoHiX",
        "outputId": "6d9a8aba-016b-4325-9a29-bbb1abe44e24"
      },
      "source": [
        "dataset1 <- data.frame(nome = c('Ana', 'Bruna', 'Claudia', 'Daniela'))\n",
        "\n",
        "dataset2 <- data.frame(idade = c(20,21,40,41))\n",
        "\n",
        "bind_cols(dataset1, dataset2)"
      ],
      "execution_count": null,
      "outputs": [
        {
          "output_type": "display_data",
          "data": {
            "text/plain": [
              "  nome    idade\n",
              "1 Ana     20   \n",
              "2 Bruna   21   \n",
              "3 Claudia 40   \n",
              "4 Daniela 41   "
            ],
            "text/latex": "A data.frame: 4 × 2\n\\begin{tabular}{ll}\n nome & idade\\\\\n <chr> & <dbl>\\\\\n\\hline\n\t Ana     & 20\\\\\n\t Bruna   & 21\\\\\n\t Claudia & 40\\\\\n\t Daniela & 41\\\\\n\\end{tabular}\n",
            "text/markdown": "\nA data.frame: 4 × 2\n\n| nome &lt;chr&gt; | idade &lt;dbl&gt; |\n|---|---|\n| Ana     | 20 |\n| Bruna   | 21 |\n| Claudia | 40 |\n| Daniela | 41 |\n\n",
            "text/html": [
              "<table class=\"dataframe\">\n",
              "<caption>A data.frame: 4 × 2</caption>\n",
              "<thead>\n",
              "\t<tr><th scope=col>nome</th><th scope=col>idade</th></tr>\n",
              "\t<tr><th scope=col>&lt;chr&gt;</th><th scope=col>&lt;dbl&gt;</th></tr>\n",
              "</thead>\n",
              "<tbody>\n",
              "\t<tr><td>Ana    </td><td>20</td></tr>\n",
              "\t<tr><td>Bruna  </td><td>21</td></tr>\n",
              "\t<tr><td>Claudia</td><td>40</td></tr>\n",
              "\t<tr><td>Daniela</td><td>41</td></tr>\n",
              "</tbody>\n",
              "</table>\n"
            ]
          },
          "metadata": {}
        }
      ]
    },
    {
      "cell_type": "markdown",
      "metadata": {
        "id": "eS6SxDu4MIB4"
      },
      "source": [
        "**join** realiza a junção de datasets de diversas maneiras como intersecção, união, entre outros. Pussindo variações:\n",
        "\n",
        "*   inner_join\n",
        "*   left_join\n",
        "*   right_join\n",
        "*   full_join\n",
        "*   semi_join\n",
        "*   anti_join\n",
        "\n",
        "\n"
      ]
    },
    {
      "cell_type": "markdown",
      "metadata": {
        "id": "BhlUwy5xmjB-"
      },
      "source": [
        "![Group 1.png](data:image/png;base64,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)"
      ]
    },
    {
      "cell_type": "code",
      "metadata": {
        "colab": {
          "base_uri": "https://localhost:8080/",
          "height": 192
        },
        "id": "NTe5MWAKMIlL",
        "outputId": "6b711ed3-cb91-4a6a-9a19-0650ab86d086"
      },
      "source": [
        "dataset_merge <- read_excel(\"(1.3) Dataset Aula Data Wrangling (Join).xls\") # <-- Declarado o segundo dataset\n",
        "base_renomeada_merge <- rename(dataset_merge, observacoes=Estudante) # <-- Renomeada variável para observacoes, para realização do join\n",
        "base_merged <- left_join(base_renomeada, base_renomeada_merge, by = \"observacoes\")\n",
        " # ^-- junção dos datasets pela união na variável observacoes, trazendo dados de 'base_renomeada_merge' para 'base_renomeada' que esta a esquerda\n",
        "head(base_merged, n=3)"
      ],
      "execution_count": null,
      "outputs": [
        {
          "output_type": "display_data",
          "data": {
            "text/plain": [
              "  observacoes tempo distancia semaforos periodo perfil   Gênero   \n",
              "1 Gabriela    15     8        0         Manhã   calmo    Feminino \n",
              "2 Dalila      20     6        1         Manhã   moderado Feminino \n",
              "3 Gustavo     20    15        0         Manhã   moderado Masculino"
            ],
            "text/latex": "A tibble: 3 × 7\n\\begin{tabular}{lllllll}\n observacoes & tempo & distancia & semaforos & periodo & perfil & Gênero\\\\\n <chr> & <dbl> & <dbl> & <dbl> & <chr> & <chr> & <chr>\\\\\n\\hline\n\t Gabriela & 15 &  8 & 0 & Manhã & calmo    & Feminino \\\\\n\t Dalila   & 20 &  6 & 1 & Manhã & moderado & Feminino \\\\\n\t Gustavo  & 20 & 15 & 0 & Manhã & moderado & Masculino\\\\\n\\end{tabular}\n",
            "text/markdown": "\nA tibble: 3 × 7\n\n| observacoes &lt;chr&gt; | tempo &lt;dbl&gt; | distancia &lt;dbl&gt; | semaforos &lt;dbl&gt; | periodo &lt;chr&gt; | perfil &lt;chr&gt; | Gênero &lt;chr&gt; |\n|---|---|---|---|---|---|---|\n| Gabriela | 15 |  8 | 0 | Manhã | calmo    | Feminino  |\n| Dalila   | 20 |  6 | 1 | Manhã | moderado | Feminino  |\n| Gustavo  | 20 | 15 | 0 | Manhã | moderado | Masculino |\n\n",
            "text/html": [
              "<table class=\"dataframe\">\n",
              "<caption>A tibble: 3 × 7</caption>\n",
              "<thead>\n",
              "\t<tr><th scope=col>observacoes</th><th scope=col>tempo</th><th scope=col>distancia</th><th scope=col>semaforos</th><th scope=col>periodo</th><th scope=col>perfil</th><th scope=col>Gênero</th></tr>\n",
              "\t<tr><th scope=col>&lt;chr&gt;</th><th scope=col>&lt;dbl&gt;</th><th scope=col>&lt;dbl&gt;</th><th scope=col>&lt;dbl&gt;</th><th scope=col>&lt;chr&gt;</th><th scope=col>&lt;chr&gt;</th><th scope=col>&lt;chr&gt;</th></tr>\n",
              "</thead>\n",
              "<tbody>\n",
              "\t<tr><td>Gabriela</td><td>15</td><td> 8</td><td>0</td><td>Manhã</td><td>calmo   </td><td>Feminino </td></tr>\n",
              "\t<tr><td>Dalila  </td><td>20</td><td> 6</td><td>1</td><td>Manhã</td><td>moderado</td><td>Feminino </td></tr>\n",
              "\t<tr><td>Gustavo </td><td>20</td><td>15</td><td>0</td><td>Manhã</td><td>moderado</td><td>Masculino</td></tr>\n",
              "</tbody>\n",
              "</table>\n"
            ]
          },
          "metadata": {}
        }
      ]
    },
    {
      "cell_type": "markdown",
      "metadata": {
        "id": "D-WTUthuy7l3"
      },
      "source": [
        "###Operadores de Manipulação"
      ]
    },
    {
      "cell_type": "markdown",
      "metadata": {
        "id": "z3iNMohHzDrv"
      },
      "source": [
        "**n()** informa o número de observações em um grupo"
      ]
    },
    {
      "cell_type": "code",
      "metadata": {
        "colab": {
          "base_uri": "https://localhost:8080/",
          "height": 129
        },
        "id": "ABAUhkkszMus",
        "outputId": "7125bfab-4608-49a8-b1be-f64fd4299d1e"
      },
      "source": [
        "summarise(base_renomeada,\n",
        "          observações = n())"
      ],
      "execution_count": null,
      "outputs": [
        {
          "output_type": "display_data",
          "data": {
            "text/plain": [
              "  observações\n",
              "1 10         "
            ],
            "text/latex": "A tibble: 1 × 1\n\\begin{tabular}{l}\n observações\\\\\n <int>\\\\\n\\hline\n\t 10\\\\\n\\end{tabular}\n",
            "text/markdown": "\nA tibble: 1 × 1\n\n| observações &lt;int&gt; |\n|---|\n| 10 |\n\n",
            "text/html": [
              "<table class=\"dataframe\">\n",
              "<caption>A tibble: 1 × 1</caption>\n",
              "<thead>\n",
              "\t<tr><th scope=col>observações</th></tr>\n",
              "\t<tr><th scope=col>&lt;int&gt;</th></tr>\n",
              "</thead>\n",
              "<tbody>\n",
              "\t<tr><td>10</td></tr>\n",
              "</tbody>\n",
              "</table>\n"
            ]
          },
          "metadata": {}
        }
      ]
    },
    {
      "cell_type": "markdown",
      "metadata": {
        "id": "cf_WoodjzNEb"
      },
      "source": [
        "**mean** informa a média"
      ]
    },
    {
      "cell_type": "code",
      "metadata": {
        "colab": {
          "base_uri": "https://localhost:8080/",
          "height": 34
        },
        "id": "hRlWvBSezNZ7",
        "outputId": "ea4f5b0c-9834-49df-a33f-279dd0a6222c"
      },
      "source": [
        "mean( c(0,110) )\n"
      ],
      "execution_count": null,
      "outputs": [
        {
          "output_type": "display_data",
          "data": {
            "text/plain": [
              "[1] 55"
            ],
            "text/latex": "55",
            "text/markdown": "55",
            "text/html": [
              "55"
            ]
          },
          "metadata": {}
        }
      ]
    },
    {
      "cell_type": "markdown",
      "metadata": {
        "id": "96td8xkkzOIR"
      },
      "source": [
        "**median** informa a mediana"
      ]
    },
    {
      "cell_type": "code",
      "metadata": {
        "colab": {
          "base_uri": "https://localhost:8080/",
          "height": 34
        },
        "id": "pI_BwSg0zOrP",
        "outputId": "d96084e5-3e2a-4ace-ebe6-4ec86162167c"
      },
      "source": [
        "median( c(0,110) )"
      ],
      "execution_count": null,
      "outputs": [
        {
          "output_type": "display_data",
          "data": {
            "text/plain": [
              "[1] 55"
            ],
            "text/latex": "55",
            "text/markdown": "55",
            "text/html": [
              "55"
            ]
          },
          "metadata": {}
        }
      ]
    },
    {
      "cell_type": "markdown",
      "metadata": {
        "id": "21f2XNK3zPNQ"
      },
      "source": [
        "**sd** informa o desvio padrão"
      ]
    },
    {
      "cell_type": "code",
      "metadata": {
        "colab": {
          "base_uri": "https://localhost:8080/",
          "height": 34
        },
        "id": "sk2u00jEzPfZ",
        "outputId": "1c4e1433-6bfb-49a5-839b-727aa1b96b25"
      },
      "source": [
        "sd( c(0,110) )"
      ],
      "execution_count": null,
      "outputs": [
        {
          "output_type": "display_data",
          "data": {
            "text/plain": [
              "[1] 77.78175"
            ],
            "text/latex": "77.7817459305202",
            "text/markdown": "77.7817459305202",
            "text/html": [
              "77.7817459305202"
            ]
          },
          "metadata": {}
        }
      ]
    },
    {
      "cell_type": "markdown",
      "metadata": {
        "id": "-XrXkaRs2inW"
      },
      "source": [
        "**min** informa o valor mínimo"
      ]
    },
    {
      "cell_type": "code",
      "metadata": {
        "colab": {
          "base_uri": "https://localhost:8080/",
          "height": 34
        },
        "id": "HHkz5aSl2i3R",
        "outputId": "780f093b-35c5-4668-e227-207621943432"
      },
      "source": [
        "min( c(0,110) )"
      ],
      "execution_count": null,
      "outputs": [
        {
          "output_type": "display_data",
          "data": {
            "text/plain": [
              "[1] 0"
            ],
            "text/latex": "0",
            "text/markdown": "0",
            "text/html": [
              "0"
            ]
          },
          "metadata": {}
        }
      ]
    },
    {
      "cell_type": "markdown",
      "metadata": {
        "id": "4KPNJ-HT2kHF"
      },
      "source": [
        "**max** informa o valor máximo"
      ]
    },
    {
      "cell_type": "code",
      "metadata": {
        "colab": {
          "base_uri": "https://localhost:8080/",
          "height": 34
        },
        "id": "LY-lEw9o2kYD",
        "outputId": "fe8a2f95-1348-4717-af60-7512b6ef7813"
      },
      "source": [
        "max ( c(0,110) )"
      ],
      "execution_count": null,
      "outputs": [
        {
          "output_type": "display_data",
          "data": {
            "text/plain": [
              "[1] 110"
            ],
            "text/latex": "110",
            "text/markdown": "110",
            "text/html": [
              "110"
            ]
          },
          "metadata": {}
        }
      ]
    },
    {
      "cell_type": "markdown",
      "metadata": {
        "id": "ghEiQsoS5vna"
      },
      "source": [
        "**arrange** ordena de forma crescente ou decrecente o dataset"
      ]
    },
    {
      "cell_type": "code",
      "metadata": {
        "colab": {
          "base_uri": "https://localhost:8080/",
          "height": 192
        },
        "id": "oAsU9tEB5v1f",
        "outputId": "2a0e6dd8-cae3-4b8e-bbcd-d12fdfc69b72"
      },
      "source": [
        "base_ordenada <- arrange(base_renomeada, tempo)\n",
        "head(base_ordenada, n=3)"
      ],
      "execution_count": null,
      "outputs": [
        {
          "output_type": "display_data",
          "data": {
            "text/plain": [
              "  observacoes tempo distancia semaforos periodo perfil  \n",
              "1 Ana         10    5         0         Manhã   calmo   \n",
              "2 Gabriela    15    8         0         Manhã   calmo   \n",
              "3 Dalila      20    6         1         Manhã   moderado"
            ],
            "text/latex": "A tibble: 3 × 6\n\\begin{tabular}{llllll}\n observacoes & tempo & distancia & semaforos & periodo & perfil\\\\\n <chr> & <dbl> & <dbl> & <dbl> & <chr> & <chr>\\\\\n\\hline\n\t Ana      & 10 & 5 & 0 & Manhã & calmo   \\\\\n\t Gabriela & 15 & 8 & 0 & Manhã & calmo   \\\\\n\t Dalila   & 20 & 6 & 1 & Manhã & moderado\\\\\n\\end{tabular}\n",
            "text/markdown": "\nA tibble: 3 × 6\n\n| observacoes &lt;chr&gt; | tempo &lt;dbl&gt; | distancia &lt;dbl&gt; | semaforos &lt;dbl&gt; | periodo &lt;chr&gt; | perfil &lt;chr&gt; |\n|---|---|---|---|---|---|\n| Ana      | 10 | 5 | 0 | Manhã | calmo    |\n| Gabriela | 15 | 8 | 0 | Manhã | calmo    |\n| Dalila   | 20 | 6 | 1 | Manhã | moderado |\n\n",
            "text/html": [
              "<table class=\"dataframe\">\n",
              "<caption>A tibble: 3 × 6</caption>\n",
              "<thead>\n",
              "\t<tr><th scope=col>observacoes</th><th scope=col>tempo</th><th scope=col>distancia</th><th scope=col>semaforos</th><th scope=col>periodo</th><th scope=col>perfil</th></tr>\n",
              "\t<tr><th scope=col>&lt;chr&gt;</th><th scope=col>&lt;dbl&gt;</th><th scope=col>&lt;dbl&gt;</th><th scope=col>&lt;dbl&gt;</th><th scope=col>&lt;chr&gt;</th><th scope=col>&lt;chr&gt;</th></tr>\n",
              "</thead>\n",
              "<tbody>\n",
              "\t<tr><td>Ana     </td><td>10</td><td>5</td><td>0</td><td>Manhã</td><td>calmo   </td></tr>\n",
              "\t<tr><td>Gabriela</td><td>15</td><td>8</td><td>0</td><td>Manhã</td><td>calmo   </td></tr>\n",
              "\t<tr><td>Dalila  </td><td>20</td><td>6</td><td>1</td><td>Manhã</td><td>moderado</td></tr>\n",
              "</tbody>\n",
              "</table>\n"
            ]
          },
          "metadata": {}
        }
      ]
    },
    {
      "cell_type": "code",
      "metadata": {
        "colab": {
          "base_uri": "https://localhost:8080/",
          "height": 192
        },
        "id": "faey4Q296SeN",
        "outputId": "a1d5cb93-5439-43da-9c49-2437f28419f6"
      },
      "source": [
        "base_ordenada <- arrange(base_renomeada, desc(tempo))\n",
        "head(base_ordenada, n=3)"
      ],
      "execution_count": null,
      "outputs": [
        {
          "output_type": "display_data",
          "data": {
            "text/plain": [
              "  observacoes tempo distancia semaforos periodo perfil   \n",
              "1 Antônio     55    32        3         Tarde   calmo    \n",
              "2 Luiz Ovídio 50    25        2         Tarde   agressivo\n",
              "3 Letícia     40    20        1         Tarde   agressivo"
            ],
            "text/latex": "A tibble: 3 × 6\n\\begin{tabular}{llllll}\n observacoes & tempo & distancia & semaforos & periodo & perfil\\\\\n <chr> & <dbl> & <dbl> & <dbl> & <chr> & <chr>\\\\\n\\hline\n\t Antônio     & 55 & 32 & 3 & Tarde & calmo    \\\\\n\t Luiz Ovídio & 50 & 25 & 2 & Tarde & agressivo\\\\\n\t Letícia     & 40 & 20 & 1 & Tarde & agressivo\\\\\n\\end{tabular}\n",
            "text/markdown": "\nA tibble: 3 × 6\n\n| observacoes &lt;chr&gt; | tempo &lt;dbl&gt; | distancia &lt;dbl&gt; | semaforos &lt;dbl&gt; | periodo &lt;chr&gt; | perfil &lt;chr&gt; |\n|---|---|---|---|---|---|\n| Antônio     | 55 | 32 | 3 | Tarde | calmo     |\n| Luiz Ovídio | 50 | 25 | 2 | Tarde | agressivo |\n| Letícia     | 40 | 20 | 1 | Tarde | agressivo |\n\n",
            "text/html": [
              "<table class=\"dataframe\">\n",
              "<caption>A tibble: 3 × 6</caption>\n",
              "<thead>\n",
              "\t<tr><th scope=col>observacoes</th><th scope=col>tempo</th><th scope=col>distancia</th><th scope=col>semaforos</th><th scope=col>periodo</th><th scope=col>perfil</th></tr>\n",
              "\t<tr><th scope=col>&lt;chr&gt;</th><th scope=col>&lt;dbl&gt;</th><th scope=col>&lt;dbl&gt;</th><th scope=col>&lt;dbl&gt;</th><th scope=col>&lt;chr&gt;</th><th scope=col>&lt;chr&gt;</th></tr>\n",
              "</thead>\n",
              "<tbody>\n",
              "\t<tr><td>Antônio    </td><td>55</td><td>32</td><td>3</td><td>Tarde</td><td>calmo    </td></tr>\n",
              "\t<tr><td>Luiz Ovídio</td><td>50</td><td>25</td><td>2</td><td>Tarde</td><td>agressivo</td></tr>\n",
              "\t<tr><td>Letícia    </td><td>40</td><td>20</td><td>1</td><td>Tarde</td><td>agressivo</td></tr>\n",
              "</tbody>\n",
              "</table>\n"
            ]
          },
          "metadata": {}
        }
      ]
    },
    {
      "cell_type": "markdown",
      "metadata": {
        "id": "q9KZiWhy_cwp"
      },
      "source": [
        "**as.numeric** transforma variáveis string em tipo numérico."
      ]
    },
    {
      "cell_type": "code",
      "metadata": {
        "colab": {
          "base_uri": "https://localhost:8080/",
          "height": 34
        },
        "id": "3EG5Wrtc_dyO",
        "outputId": "0a0b7a92-4167-42dd-aa7e-d7b9168727bf"
      },
      "source": [
        "as.numeric('1')"
      ],
      "execution_count": null,
      "outputs": [
        {
          "output_type": "display_data",
          "data": {
            "text/plain": [
              "[1] 1"
            ],
            "text/latex": "1",
            "text/markdown": "1",
            "text/html": [
              "1"
            ]
          },
          "metadata": {}
        }
      ]
    },
    {
      "cell_type": "markdown",
      "metadata": {
        "id": "7DHBlQxm_qrf"
      },
      "source": [
        "**str_sub** realiza a seleção em uma string retirando a parte desejada."
      ]
    },
    {
      "cell_type": "code",
      "metadata": {
        "colab": {
          "base_uri": "https://localhost:8080/",
          "height": 34
        },
        "id": "KRuPsDoT_dCH",
        "outputId": "0ea91a07-7c1b-48fd-c1a9-520ec97e8234"
      },
      "source": [
        "str_sub('MBAUSP', 4, 6)"
      ],
      "execution_count": null,
      "outputs": [
        {
          "output_type": "display_data",
          "data": {
            "text/plain": [
              "[1] \"USP\""
            ],
            "text/latex": "'USP'",
            "text/markdown": "'USP'",
            "text/html": [
              "'USP'"
            ]
          },
          "metadata": {}
        }
      ]
    },
    {
      "cell_type": "markdown",
      "metadata": {
        "id": "6ATa-NmOBb6_"
      },
      "source": [
        "**replace** realiza substituições das informações segundo critérios estabelecidos."
      ]
    },
    {
      "cell_type": "code",
      "metadata": {
        "colab": {
          "base_uri": "https://localhost:8080/",
          "height": 178
        },
        "id": "_iOhN5DyAzYJ",
        "outputId": "1dd88849-1a2f-4fd2-c136-35e89fbe3885"
      },
      "source": [
        "dataset1 <- data.frame(nome = c('Ana', 'Brna'), idade = c(14,21))\n",
        "mutate(dataset1, nome = replace(nome, nome=='Brna', 'Bruna'))"
      ],
      "execution_count": null,
      "outputs": [
        {
          "output_type": "display_data",
          "data": {
            "text/plain": [
              "  nome  idade\n",
              "1 Ana   14   \n",
              "2 Bruna 21   "
            ],
            "text/latex": "A data.frame: 2 × 2\n\\begin{tabular}{ll}\n nome & idade\\\\\n <chr> & <dbl>\\\\\n\\hline\n\t Ana   & 14\\\\\n\t Bruna & 21\\\\\n\\end{tabular}\n",
            "text/markdown": "\nA data.frame: 2 × 2\n\n| nome &lt;chr&gt; | idade &lt;dbl&gt; |\n|---|---|\n| Ana   | 14 |\n| Bruna | 21 |\n\n",
            "text/html": [
              "<table class=\"dataframe\">\n",
              "<caption>A data.frame: 2 × 2</caption>\n",
              "<thead>\n",
              "\t<tr><th scope=col>nome</th><th scope=col>idade</th></tr>\n",
              "\t<tr><th scope=col>&lt;chr&gt;</th><th scope=col>&lt;dbl&gt;</th></tr>\n",
              "</thead>\n",
              "<tbody>\n",
              "\t<tr><td>Ana  </td><td>14</td></tr>\n",
              "\t<tr><td>Bruna</td><td>21</td></tr>\n",
              "</tbody>\n",
              "</table>\n"
            ]
          },
          "metadata": {}
        }
      ]
    },
    {
      "cell_type": "markdown",
      "metadata": {
        "id": "O1Gpv08kX00w"
      },
      "source": [
        "**data.frame** cria um dataframe."
      ]
    },
    {
      "cell_type": "code",
      "metadata": {
        "colab": {
          "base_uri": "https://localhost:8080/",
          "height": 178
        },
        "id": "Oq-FK5PLX0WK",
        "outputId": "20212665-4740-4841-cabc-47f3835237a2"
      },
      "source": [
        "data.frame(nome = c('Ana', 'Bruna'), idade = c(20,21))"
      ],
      "execution_count": null,
      "outputs": [
        {
          "output_type": "display_data",
          "data": {
            "text/plain": [
              "  nome  idade\n",
              "1 Ana   20   \n",
              "2 Bruna 21   "
            ],
            "text/latex": "A data.frame: 2 × 2\n\\begin{tabular}{ll}\n nome & idade\\\\\n <chr> & <dbl>\\\\\n\\hline\n\t Ana   & 20\\\\\n\t Bruna & 21\\\\\n\\end{tabular}\n",
            "text/markdown": "\nA data.frame: 2 × 2\n\n| nome &lt;chr&gt; | idade &lt;dbl&gt; |\n|---|---|\n| Ana   | 20 |\n| Bruna | 21 |\n\n",
            "text/html": [
              "<table class=\"dataframe\">\n",
              "<caption>A data.frame: 2 × 2</caption>\n",
              "<thead>\n",
              "\t<tr><th scope=col>nome</th><th scope=col>idade</th></tr>\n",
              "\t<tr><th scope=col>&lt;chr&gt;</th><th scope=col>&lt;dbl&gt;</th></tr>\n",
              "</thead>\n",
              "<tbody>\n",
              "\t<tr><td>Ana  </td><td>20</td></tr>\n",
              "\t<tr><td>Bruna</td><td>21</td></tr>\n",
              "</tbody>\n",
              "</table>\n"
            ]
          },
          "metadata": {}
        }
      ]
    },
    {
      "cell_type": "markdown",
      "metadata": {
        "id": "cwyoxMCk1WsA"
      },
      "source": [
        "##Aula III"
      ]
    },
    {
      "cell_type": "markdown",
      "metadata": {
        "id": "Y35OprlGN453"
      },
      "source": [
        "###Markdown"
      ]
    },
    {
      "cell_type": "markdown",
      "metadata": {
        "id": "WngQXILOOuQT"
      },
      "source": [
        "As **divisões** São realizadas utilizando hashtags ( # ) antes do trecho , aplicando níveis e subníveis."
      ]
    },
    {
      "cell_type": "markdown",
      "metadata": {
        "id": "C9iSqN5jPAex"
      },
      "source": [
        "O **negrito** é escrito utilizando dois asteriscos ( ** ) iniciando e finalizando o trecho.\n",
        "\n",
        "**Exemplo**"
      ]
    },
    {
      "cell_type": "markdown",
      "metadata": {
        "id": "_cjtpva2PQGj"
      },
      "source": [
        "O **itálico** é escrito utilizando um asterisco ( * ) iniciando e finalizando o trecho. \n",
        "\n",
        "*Exemplo*"
      ]
    },
    {
      "cell_type": "markdown",
      "metadata": {
        "id": "YhCy1oFXVtCI"
      },
      "source": [
        "O **taxado** é escrito utilizando dois tils (~) antes e depois do trecho. \n",
        "\n",
        "~~Exemplo~~"
      ]
    },
    {
      "cell_type": "markdown",
      "metadata": {
        "id": "ZnGrqULOPtU-"
      },
      "source": [
        "O **blockquote** ou recuo do texto é realizado pelo sinal de maior ( > ).\n",
        "\n",
        "> Exemplo\n",
        "\n"
      ]
    },
    {
      "cell_type": "markdown",
      "metadata": {
        "id": "-Y3yrDQUQJ88"
      },
      "source": [
        "A **lista ordenada** é realizada utilizando números com pontos no início do trecho.\n",
        "\n",
        "1. Exemplo"
      ]
    },
    {
      "cell_type": "markdown",
      "metadata": {
        "id": "z_fnPewhQ3v4"
      },
      "source": [
        "A **lista não ordenada** é realizada utilizando hífen ( - ) no início do trecho.\n",
        "\n",
        "- Exemplo"
      ]
    },
    {
      "cell_type": "markdown",
      "metadata": {
        "id": "bxnHNC9NXYAu"
      },
      "source": [
        "A **lista de tarefas** é realizada utilizando hífen ( - ) em conjunto com colchetes ( [ ] ).\n",
        "\n",
        "- [x] Exemplo de tarefa realizada.\n",
        "- [ ] Exemplo de tarefa não realizada."
      ]
    },
    {
      "cell_type": "markdown",
      "metadata": {
        "id": "WJTyXQFtRINO"
      },
      "source": [
        "O **trecho de código** é descrito entre crazes ( ` ).\n",
        "\n",
        "`print()`"
      ]
    },
    {
      "cell_type": "markdown",
      "metadata": {
        "id": "d3V0hYXlRjLR"
      },
      "source": [
        "Uma **linha horizontal** utilizada para divisão de seções, é criada utilizando três hífens (-).\n",
        "\n",
        "Exemplo:\n",
        "\n",
        "---"
      ]
    },
    {
      "cell_type": "markdown",
      "metadata": {
        "id": "KGaev0xBR5tB"
      },
      "source": [
        "Um **link** é criado utilizando colchetes ( [ ] ) para o título e parenteses ( ( ) ) para o endereço do link.\n",
        "\n",
        "Exemplo: [Google](https://www.google.com.br/)"
      ]
    },
    {
      "cell_type": "markdown",
      "metadata": {
        "id": "owyEaCSESfeI"
      },
      "source": [
        "Uma **imagem** é adicionada utilizando colchetes ( [ ] ) para o título e parenteses ( ( ) ) para o endereço da imagem.\n",
        "\n",
        "Exemplo: \n",
        "\n",
        "![Google Logo](https://www.google.com.br/logos/doodles/2021/seasonal-holidays-2021-6753651837109324-law.gif)"
      ]
    },
    {
      "cell_type": "markdown",
      "metadata": {
        "id": "Q5lhCaeXT65E"
      },
      "source": [
        "Uma **tabela** é adicionada utilizando pipes ( | ) para sepação de colunas e hífes ( - ) para separação dos cabeçalhos da tabela.\n",
        "\n",
        "| Coluna 1 | Coluna 3 | Coluna 2 |\n",
        "|:--- | :---: | ---: |\n",
        "| texto1 | texto2 | texto3 |\n",
        "| texto1 | texto2 | texto3 |"
      ]
    },
    {
      "cell_type": "markdown",
      "metadata": {
        "id": "7DCdBmVNVKHF"
      },
      "source": [
        "Um **bloco de código** é adicionado utilizando três crazes ( ` ) ao início e ao final do bloco, podendo ester ser estilizado adicionando a informação do tipo de código ao bloco.\n",
        "\n",
        "```json\n",
        "{\n",
        "  \"firstName\": \"John\",\n",
        "  \"lastName\": \"Smith\",\n",
        "  \"age\": 25\n",
        "}\n",
        "```"
      ]
    },
    {
      "cell_type": "markdown",
      "metadata": {
        "id": "vGXF5eGYXUUk"
      },
      "source": [
        "As **espressões mátematicas** são adicionadas utilizando cifrões no início e ao término da expressão.\n",
        "\n",
        "$ a + b^2 /c $"
      ]
    },
    {
      "cell_type": "markdown",
      "metadata": {
        "id": "DkG42rcBcwns"
      },
      "source": [
        "###Operadores de Manipulação"
      ]
    },
    {
      "cell_type": "markdown",
      "metadata": {
        "id": "AlwwOqMAdpRv"
      },
      "source": [
        "**na_if** realiza a substituição de valores correspondentes por *NA*."
      ]
    },
    {
      "cell_type": "code",
      "metadata": {
        "colab": {
          "base_uri": "https://localhost:8080/",
          "height": 178
        },
        "id": "7uo60oRyd1oV",
        "outputId": "70a51f30-9a48-4ed2-8dcf-b36068208098"
      },
      "source": [
        "dataset1 <- data.frame(nome = c('Ana', ''), idade = c(14,21))\n",
        "dataset1$nome <- na_if(dataset1$nome, '')\n",
        "\n",
        "dataset1"
      ],
      "execution_count": null,
      "outputs": [
        {
          "output_type": "display_data",
          "data": {
            "text/plain": [
              "  nome idade\n",
              "1 Ana  14   \n",
              "2 NA   21   "
            ],
            "text/latex": "A data.frame: 2 × 2\n\\begin{tabular}{ll}\n nome & idade\\\\\n <chr> & <dbl>\\\\\n\\hline\n\t Ana & 14\\\\\n\t NA  & 21\\\\\n\\end{tabular}\n",
            "text/markdown": "\nA data.frame: 2 × 2\n\n| nome &lt;chr&gt; | idade &lt;dbl&gt; |\n|---|---|\n| Ana | 14 |\n| NA  | 21 |\n\n",
            "text/html": [
              "<table class=\"dataframe\">\n",
              "<caption>A data.frame: 2 × 2</caption>\n",
              "<thead>\n",
              "\t<tr><th scope=col>nome</th><th scope=col>idade</th></tr>\n",
              "\t<tr><th scope=col>&lt;chr&gt;</th><th scope=col>&lt;dbl&gt;</th></tr>\n",
              "</thead>\n",
              "<tbody>\n",
              "\t<tr><td>Ana</td><td>14</td></tr>\n",
              "\t<tr><td>NA </td><td>21</td></tr>\n",
              "</tbody>\n",
              "</table>\n"
            ]
          },
          "metadata": {}
        }
      ]
    },
    {
      "cell_type": "markdown",
      "metadata": {
        "id": "XD9GJwKdf9BS"
      },
      "source": [
        "**coalesce** realiza a substituição de NA por um valor especifico."
      ]
    },
    {
      "cell_type": "code",
      "metadata": {
        "colab": {
          "base_uri": "https://localhost:8080/",
          "height": 161
        },
        "id": "3D3pz6OBgDDV",
        "outputId": "1a579263-2188-4001-b93a-98a4ce863afd"
      },
      "source": [
        "dataset1 <- data.frame(nome = c('Ana', NA), idade = c(14,21))\n",
        "dataset1$nome <- coalesce(dataset1$nome, 'Desconhecido')\n",
        "\n",
        "dataset1"
      ],
      "execution_count": null,
      "outputs": [
        {
          "output_type": "display_data",
          "data": {
            "text/plain": [
              "  nome         idade\n",
              "1 Ana          14   \n",
              "2 Desconhecido 21   "
            ],
            "text/latex": "A data.frame: 2 × 2\n\\begin{tabular}{ll}\n nome & idade\\\\\n <chr> & <dbl>\\\\\n\\hline\n\t Ana          & 14\\\\\n\t Desconhecido & 21\\\\\n\\end{tabular}\n",
            "text/markdown": "\nA data.frame: 2 × 2\n\n| nome &lt;chr&gt; | idade &lt;dbl&gt; |\n|---|---|\n| Ana          | 14 |\n| Desconhecido | 21 |\n\n",
            "text/html": [
              "<table class=\"dataframe\">\n",
              "<caption>A data.frame: 2 × 2</caption>\n",
              "<thead>\n",
              "\t<tr><th scope=col>nome</th><th scope=col>idade</th></tr>\n",
              "\t<tr><th scope=col>&lt;chr&gt;</th><th scope=col>&lt;dbl&gt;</th></tr>\n",
              "</thead>\n",
              "<tbody>\n",
              "\t<tr><td>Ana         </td><td>14</td></tr>\n",
              "\t<tr><td>Desconhecido</td><td>21</td></tr>\n",
              "</tbody>\n",
              "</table>\n"
            ]
          },
          "metadata": {}
        }
      ]
    },
    {
      "cell_type": "markdown",
      "metadata": {
        "id": "lyUErPpVgP9p"
      },
      "source": [
        "**str_detect** realiza uma comparação de strings no padrão apresentado."
      ]
    },
    {
      "cell_type": "code",
      "metadata": {
        "colab": {
          "base_uri": "https://localhost:8080/",
          "height": 34
        },
        "id": "D0gGnW3lhzDZ",
        "outputId": "61388f9a-d247-4820-e7cf-6a4ef9cb2f99"
      },
      "source": [
        "vetor1 <- c('ana', 'maria', 'joão', 'antonio')\n",
        "str_detect(vetor1, '^a') # <-- verifica nomes que começam com a letra 'a'"
      ],
      "execution_count": null,
      "outputs": [
        {
          "output_type": "display_data",
          "data": {
            "text/plain": [
              "[1]  TRUE FALSE FALSE  TRUE"
            ],
            "text/latex": "\\begin{enumerate*}\n\\item TRUE\n\\item FALSE\n\\item FALSE\n\\item TRUE\n\\end{enumerate*}\n",
            "text/markdown": "1. TRUE\n2. FALSE\n3. FALSE\n4. TRUE\n\n\n",
            "text/html": [
              "<style>\n",
              ".list-inline {list-style: none; margin:0; padding: 0}\n",
              ".list-inline>li {display: inline-block}\n",
              ".list-inline>li:not(:last-child)::after {content: \"\\00b7\"; padding: 0 .5ex}\n",
              "</style>\n",
              "<ol class=list-inline><li>TRUE</li><li>FALSE</li><li>FALSE</li><li>TRUE</li></ol>\n"
            ]
          },
          "metadata": {}
        }
      ]
    },
    {
      "cell_type": "markdown",
      "metadata": {
        "id": "FS6h0t2YjkY9"
      },
      "source": [
        "**pivot_wider** remodela um dataset para um formato mais amplo."
      ]
    },
    {
      "cell_type": "code",
      "metadata": {
        "colab": {
          "base_uri": "https://localhost:8080/",
          "height": 255
        },
        "id": "tZhllLO0i1rf",
        "outputId": "c26c10d8-1e31-4732-e1dc-3973bd87d1f6"
      },
      "source": [
        "base_wider <- pivot_wider(base_renomeada,id_cols = observacoes, names_from = periodo, values_from = perfil)\n",
        "\n",
        "head(base_wider, n=5)"
      ],
      "execution_count": null,
      "outputs": [
        {
          "output_type": "display_data",
          "data": {
            "text/plain": [
              "  observacoes Manhã    Tarde    \n",
              "1 Gabriela    calmo    NA       \n",
              "2 Dalila      moderado NA       \n",
              "3 Gustavo     moderado NA       \n",
              "4 Letícia     NA       agressivo\n",
              "5 Luiz Ovídio NA       agressivo"
            ],
            "text/latex": "A tibble: 5 × 3\n\\begin{tabular}{lll}\n observacoes & Manhã & Tarde\\\\\n <chr> & <chr> & <chr>\\\\\n\\hline\n\t Gabriela    & calmo    & NA       \\\\\n\t Dalila      & moderado & NA       \\\\\n\t Gustavo     & moderado & NA       \\\\\n\t Letícia     & NA       & agressivo\\\\\n\t Luiz Ovídio & NA       & agressivo\\\\\n\\end{tabular}\n",
            "text/markdown": "\nA tibble: 5 × 3\n\n| observacoes &lt;chr&gt; | Manhã &lt;chr&gt; | Tarde &lt;chr&gt; |\n|---|---|---|\n| Gabriela    | calmo    | NA        |\n| Dalila      | moderado | NA        |\n| Gustavo     | moderado | NA        |\n| Letícia     | NA       | agressivo |\n| Luiz Ovídio | NA       | agressivo |\n\n",
            "text/html": [
              "<table class=\"dataframe\">\n",
              "<caption>A tibble: 5 × 3</caption>\n",
              "<thead>\n",
              "\t<tr><th scope=col>observacoes</th><th scope=col>Manhã</th><th scope=col>Tarde</th></tr>\n",
              "\t<tr><th scope=col>&lt;chr&gt;</th><th scope=col>&lt;chr&gt;</th><th scope=col>&lt;chr&gt;</th></tr>\n",
              "</thead>\n",
              "<tbody>\n",
              "\t<tr><td>Gabriela   </td><td>calmo   </td><td>NA       </td></tr>\n",
              "\t<tr><td>Dalila     </td><td>moderado</td><td>NA       </td></tr>\n",
              "\t<tr><td>Gustavo    </td><td>moderado</td><td>NA       </td></tr>\n",
              "\t<tr><td>Letícia    </td><td>NA      </td><td>agressivo</td></tr>\n",
              "\t<tr><td>Luiz Ovídio</td><td>NA      </td><td>agressivo</td></tr>\n",
              "</tbody>\n",
              "</table>\n"
            ]
          },
          "metadata": {}
        }
      ]
    },
    {
      "cell_type": "markdown",
      "metadata": {
        "id": "Sh4DzEh_lyM8"
      },
      "source": [
        "**pivot_longer** remodela um dataset para um formato mais longo."
      ]
    },
    {
      "cell_type": "code",
      "metadata": {
        "colab": {
          "base_uri": "https://localhost:8080/",
          "height": 255
        },
        "id": "8P7zj5ZWl5xd",
        "outputId": "1d7d4493-c16a-49fa-d512-5e99e11a03c8"
      },
      "source": [
        "base_longer <- pivot_longer(base_wider, !observacoes, names_to = 'periodo', values_to = 'perfil')\n",
        "\n",
        "head(base_longer, n=5)"
      ],
      "execution_count": null,
      "outputs": [
        {
          "output_type": "display_data",
          "data": {
            "text/plain": [
              "  observacoes periodo perfil  \n",
              "1 Gabriela    Manhã   calmo   \n",
              "2 Gabriela    Tarde   NA      \n",
              "3 Dalila      Manhã   moderado\n",
              "4 Dalila      Tarde   NA      \n",
              "5 Gustavo     Manhã   moderado"
            ],
            "text/latex": "A tibble: 5 × 3\n\\begin{tabular}{lll}\n observacoes & periodo & perfil\\\\\n <chr> & <chr> & <chr>\\\\\n\\hline\n\t Gabriela & Manhã & calmo   \\\\\n\t Gabriela & Tarde & NA      \\\\\n\t Dalila   & Manhã & moderado\\\\\n\t Dalila   & Tarde & NA      \\\\\n\t Gustavo  & Manhã & moderado\\\\\n\\end{tabular}\n",
            "text/markdown": "\nA tibble: 5 × 3\n\n| observacoes &lt;chr&gt; | periodo &lt;chr&gt; | perfil &lt;chr&gt; |\n|---|---|---|\n| Gabriela | Manhã | calmo    |\n| Gabriela | Tarde | NA       |\n| Dalila   | Manhã | moderado |\n| Dalila   | Tarde | NA       |\n| Gustavo  | Manhã | moderado |\n\n",
            "text/html": [
              "<table class=\"dataframe\">\n",
              "<caption>A tibble: 5 × 3</caption>\n",
              "<thead>\n",
              "\t<tr><th scope=col>observacoes</th><th scope=col>periodo</th><th scope=col>perfil</th></tr>\n",
              "\t<tr><th scope=col>&lt;chr&gt;</th><th scope=col>&lt;chr&gt;</th><th scope=col>&lt;chr&gt;</th></tr>\n",
              "</thead>\n",
              "<tbody>\n",
              "\t<tr><td>Gabriela</td><td>Manhã</td><td>calmo   </td></tr>\n",
              "\t<tr><td>Gabriela</td><td>Tarde</td><td>NA      </td></tr>\n",
              "\t<tr><td>Dalila  </td><td>Manhã</td><td>moderado</td></tr>\n",
              "\t<tr><td>Dalila  </td><td>Tarde</td><td>NA      </td></tr>\n",
              "\t<tr><td>Gustavo </td><td>Manhã</td><td>moderado</td></tr>\n",
              "</tbody>\n",
              "</table>\n"
            ]
          },
          "metadata": {}
        }
      ]
    },
    {
      "cell_type": "markdown",
      "metadata": {
        "id": "_2xJV3uvz5ma"
      },
      "source": [
        "##Aula IV"
      ]
    },
    {
      "cell_type": "markdown",
      "metadata": {
        "id": "pdQ4Cr5SSvq8"
      },
      "source": [
        "###Funções"
      ]
    },
    {
      "cell_type": "markdown",
      "metadata": {
        "id": "XKclrAV6SUNN"
      },
      "source": [
        "**function** declara uma função personalizada, onde variaveis são declaradas entre parenteses e as operações entre chaves, utilizando o return para definir o retorno da função."
      ]
    },
    {
      "cell_type": "code",
      "metadata": {
        "colab": {
          "base_uri": "https://localhost:8080/",
          "height": 34
        },
        "id": "pTNoRFQHRzkQ",
        "outputId": "eeca0521-22f8-425e-9f75-5627edc6b7e1"
      },
      "source": [
        "exemplo_funcao <- function(variavel) {\n",
        "  return (variavel * 2)\n",
        "}\n",
        "exemplo_funcao(2)"
      ],
      "execution_count": null,
      "outputs": [
        {
          "output_type": "display_data",
          "data": {
            "text/plain": [
              "[1] 4"
            ],
            "text/latex": "4",
            "text/markdown": "4",
            "text/html": [
              "4"
            ]
          },
          "metadata": {}
        }
      ]
    },
    {
      "cell_type": "markdown",
      "metadata": {
        "id": "-3KYnNitTQN5"
      },
      "source": [
        "###Condições"
      ]
    },
    {
      "cell_type": "markdown",
      "metadata": {
        "id": "JEw22wgjTr7f"
      },
      "source": [
        "**if** declara uma condição se, onde a condição verificada é declarada entre parenteses e caso a condição seja verdadeira, o conteudo declarado entre chaves é executado."
      ]
    },
    {
      "cell_type": "code",
      "metadata": {
        "colab": {
          "base_uri": "https://localhost:8080/",
          "height": 34
        },
        "id": "IbAd2CPhTren",
        "outputId": "f8fbea0f-fe2a-43e1-a7db-744ee7536157"
      },
      "source": [
        "if(1 < 100) {\n",
        "  \"Sim, 1 é menor que 100\"\n",
        "}"
      ],
      "execution_count": null,
      "outputs": [
        {
          "output_type": "display_data",
          "data": {
            "text/plain": [
              "[1] \"Sim, 1 é menor que 100\""
            ],
            "text/latex": "'Sim, 1 é menor que 100'",
            "text/markdown": "'Sim, 1 é menor que 100'",
            "text/html": [
              "'Sim, 1 é menor que 100'"
            ]
          },
          "metadata": {}
        }
      ]
    },
    {
      "cell_type": "markdown",
      "metadata": {
        "id": "9EwkP2RZUX3C"
      },
      "source": [
        "**else** complementa o if, onde o else é executado caso a condição do if seja falsa."
      ]
    },
    {
      "cell_type": "code",
      "metadata": {
        "colab": {
          "base_uri": "https://localhost:8080/",
          "height": 34
        },
        "id": "2Vfe2CJ5UlVM",
        "outputId": "5e80f92e-4330-4bf6-fa48-52d5c104879c"
      },
      "source": [
        "if(1000 < 100) {\n",
        "  \"Sim, 1000 é menor que 100\"\n",
        "} else {\n",
        "  \"Não, 1000 não é menor que 100\"\n",
        "}"
      ],
      "execution_count": null,
      "outputs": [
        {
          "output_type": "display_data",
          "data": {
            "text/plain": [
              "[1] \"Não, 1000 não é menor que 100\""
            ],
            "text/latex": "'Não, 1000 não é menor que 100'",
            "text/markdown": "'Não, 1000 não é menor que 100'",
            "text/html": [
              "'Não, 1000 não é menor que 100'"
            ]
          },
          "metadata": {}
        }
      ]
    },
    {
      "cell_type": "markdown",
      "metadata": {
        "id": "oAqLbiSEUxc5"
      },
      "source": [
        "**else if** é uma etapa intermediária entre o if e o else onde desejamos realizar múltiplos testes, onde neste caso a opção executada se torna a primeira condição verdadeira, ou else caso todas as anteriores sejem falsas."
      ]
    },
    {
      "cell_type": "code",
      "metadata": {
        "colab": {
          "base_uri": "https://localhost:8080/",
          "height": 34
        },
        "id": "KdRGJKzfVR2y",
        "outputId": "028cd5b3-15db-4d8d-e314-86001b13b7af"
      },
      "source": [
        "if(1000 < 1000) {\n",
        "  \"Sim, 1000 é menor que 1000\"\n",
        "} else if (1000 == 1000) { \n",
        "  \"Sim, 1000 é igual a 1000\"\n",
        "} else {\n",
        "  \"Não, 1000 não é menor que 1000 e 1000 não é igual a 1000\"\n",
        "}"
      ],
      "execution_count": null,
      "outputs": [
        {
          "output_type": "display_data",
          "data": {
            "text/plain": [
              "[1] \"Sim, 1000 é igual a 1000\""
            ],
            "text/latex": "'Sim, 1000 é igual a 1000'",
            "text/markdown": "'Sim, 1000 é igual a 1000'",
            "text/html": [
              "'Sim, 1000 é igual a 1000'"
            ]
          },
          "metadata": {}
        }
      ]
    },
    {
      "cell_type": "markdown",
      "metadata": {
        "id": "Ep1Xe5d2Ym9X"
      },
      "source": [
        "###Iterações"
      ]
    },
    {
      "cell_type": "markdown",
      "metadata": {
        "id": "Be7dHdb5Yq5i"
      },
      "source": [
        "**map** aplica funções a vetores."
      ]
    },
    {
      "cell_type": "code",
      "metadata": {
        "id": "Mrc-ww0-YqSY"
      },
      "source": [
        ""
      ],
      "execution_count": null,
      "outputs": []
    },
    {
      "cell_type": "markdown",
      "metadata": {
        "id": "fH5V_wNtY90T"
      },
      "source": [
        "map_lgl"
      ]
    },
    {
      "cell_type": "code",
      "metadata": {
        "id": "trOkE1aTZaX-"
      },
      "source": [
        ""
      ],
      "execution_count": null,
      "outputs": []
    },
    {
      "cell_type": "markdown",
      "metadata": {
        "id": "8Z5IJc0fZa1b"
      },
      "source": [
        "map_int"
      ]
    },
    {
      "cell_type": "code",
      "metadata": {
        "id": "LgnyPFJkZdo8"
      },
      "source": [
        ""
      ],
      "execution_count": null,
      "outputs": []
    },
    {
      "cell_type": "markdown",
      "metadata": {
        "id": "WNL3CgKHZd-E"
      },
      "source": [
        "map_dbl"
      ]
    },
    {
      "cell_type": "code",
      "metadata": {
        "id": "Jnjy3j5IZhiT"
      },
      "source": [
        ""
      ],
      "execution_count": null,
      "outputs": []
    },
    {
      "cell_type": "markdown",
      "metadata": {
        "id": "80TPqNq6Zh2H"
      },
      "source": [
        "map_chr"
      ]
    },
    {
      "cell_type": "code",
      "metadata": {
        "id": "-_tCmUSsZlgY"
      },
      "source": [
        ""
      ],
      "execution_count": null,
      "outputs": []
    },
    {
      "cell_type": "markdown",
      "metadata": {
        "id": "f0O9Q8AVZ6_z"
      },
      "source": [
        "map2"
      ]
    },
    {
      "cell_type": "code",
      "metadata": {
        "id": "FFlzumKnZ7sd"
      },
      "source": [
        ""
      ],
      "execution_count": null,
      "outputs": []
    },
    {
      "cell_type": "markdown",
      "metadata": {
        "id": "b8zLzFj6Z23D"
      },
      "source": [
        "pmap"
      ]
    },
    {
      "cell_type": "code",
      "metadata": {
        "id": "u0ZNMLcOZ3YJ"
      },
      "source": [
        ""
      ],
      "execution_count": null,
      "outputs": []
    },
    {
      "cell_type": "markdown",
      "metadata": {
        "id": "0pL8LVEHsjyr"
      },
      "source": [
        "invoke_map"
      ]
    },
    {
      "cell_type": "code",
      "metadata": {
        "id": "I8z9YpbQskFj"
      },
      "source": [
        ""
      ],
      "execution_count": null,
      "outputs": []
    },
    {
      "cell_type": "markdown",
      "metadata": {
        "id": "NBy_fG2DTSNv"
      },
      "source": [
        "###Operadores de Manipulação"
      ]
    },
    {
      "cell_type": "markdown",
      "metadata": {
        "id": "7BDMrWHtW6pI"
      },
      "source": [
        "**list** cria uma ou mais listas. "
      ]
    },
    {
      "cell_type": "code",
      "metadata": {
        "colab": {
          "base_uri": "https://localhost:8080/",
          "height": 80
        },
        "id": "dBl1pqr9XQAt",
        "outputId": "3e8f06a6-0521-4d3c-e707-b980a5b9c4fc"
      },
      "source": [
        "list(1:5,6:10)"
      ],
      "execution_count": null,
      "outputs": [
        {
          "output_type": "display_data",
          "data": {
            "text/plain": [
              "[[1]]\n",
              "[1] 1 2 3 4 5\n",
              "\n",
              "[[2]]\n",
              "[1]  6  7  8  9 10\n"
            ],
            "text/latex": "\\begin{enumerate}\n\\item \\begin{enumerate*}\n\\item 1\n\\item 2\n\\item 3\n\\item 4\n\\item 5\n\\end{enumerate*}\n\n\\item \\begin{enumerate*}\n\\item 6\n\\item 7\n\\item 8\n\\item 9\n\\item 10\n\\end{enumerate*}\n\n\\end{enumerate}\n",
            "text/markdown": "1. 1. 1\n2. 2\n3. 3\n4. 4\n5. 5\n\n\n\n2. 1. 6\n2. 7\n3. 8\n4. 9\n5. 10\n\n\n\n\n\n",
            "text/html": [
              "<ol>\n",
              "\t<li><style>\n",
              ".list-inline {list-style: none; margin:0; padding: 0}\n",
              ".list-inline>li {display: inline-block}\n",
              ".list-inline>li:not(:last-child)::after {content: \"\\00b7\"; padding: 0 .5ex}\n",
              "</style>\n",
              "<ol class=list-inline><li>1</li><li>2</li><li>3</li><li>4</li><li>5</li></ol>\n",
              "</li>\n",
              "\t<li><style>\n",
              ".list-inline {list-style: none; margin:0; padding: 0}\n",
              ".list-inline>li {display: inline-block}\n",
              ".list-inline>li:not(:last-child)::after {content: \"\\00b7\"; padding: 0 .5ex}\n",
              "</style>\n",
              "<ol class=list-inline><li>6</li><li>7</li><li>8</li><li>9</li><li>10</li></ol>\n",
              "</li>\n",
              "</ol>\n"
            ]
          },
          "metadata": {}
        }
      ]
    },
    {
      "cell_type": "markdown",
      "metadata": {
        "id": "pLm9heanpREq"
      },
      "source": [
        "rnorm"
      ]
    },
    {
      "cell_type": "code",
      "metadata": {
        "id": "QjjCaPT5pRbu"
      },
      "source": [
        ""
      ],
      "execution_count": null,
      "outputs": []
    },
    {
      "cell_type": "markdown",
      "metadata": {
        "id": "hsue8UUNsUND"
      },
      "source": [
        "rpois"
      ]
    },
    {
      "cell_type": "code",
      "metadata": {
        "id": "Q_CtZ44NsUkv"
      },
      "source": [
        ""
      ],
      "execution_count": null,
      "outputs": []
    },
    {
      "cell_type": "markdown",
      "metadata": {
        "id": "-xtqEUibliIa"
      },
      "source": [
        "summary"
      ]
    },
    {
      "cell_type": "code",
      "metadata": {
        "id": "k2krWfuAlilp"
      },
      "source": [
        ""
      ],
      "execution_count": null,
      "outputs": []
    }
  ]
}