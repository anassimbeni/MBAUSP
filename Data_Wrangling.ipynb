{
  "nbformat": 4,
  "nbformat_minor": 0,
  "metadata": {
    "colab": {
      "name": "Data Wrangling.ipynb",
      "provenance": [],
      "toc_visible": true,
      "authorship_tag": "ABX9TyPm7kHigi6scdBVOsXup8cS",
      "include_colab_link": true
    },
    "kernelspec": {
      "name": "ir",
      "display_name": "R"
    },
    "language_info": {
      "name": "R"
    }
  },
  "cells": [
    {
      "cell_type": "markdown",
      "metadata": {
        "id": "view-in-github",
        "colab_type": "text"
      },
      "source": [
        "<a href=\"https://colab.research.google.com/github/anassimbeni/MBAUSP/blob/main/Data_Wrangling.ipynb\" target=\"_parent\"><img src=\"https://colab.research.google.com/assets/colab-badge.svg\" alt=\"Open In Colab\"/></a>"
      ]
    },
    {
      "cell_type": "markdown",
      "metadata": {
        "id": "v21FNhOJj__G"
      },
      "source": [
        "# MBA USP - Data Wrangling"
      ]
    },
    {
      "cell_type": "markdown",
      "metadata": {
        "id": "nVeWSqpIkVYp"
      },
      "source": [
        "## Definições Básicas"
      ]
    },
    {
      "cell_type": "markdown",
      "metadata": {
        "id": "DUhNm3J4kltH"
      },
      "source": [
        "Para a execução dos scripts das aulas será necessária a utilização de bibliotecas como dplyr e ggplot2 que estão contidas no pacote tidyverse."
      ]
    },
    {
      "cell_type": "markdown",
      "metadata": {
        "id": "prsQkQVek8Jq"
      },
      "source": [
        "*Obs, na utilização do google colab não é necessária realizar a instalação, somente a declaração, porém em softwares como o RStudio se faz necessária instalação através do comando:\n",
        "\n",
        "install.packages(\"tidyverse\")"
      ]
    },
    {
      "cell_type": "code",
      "metadata": {
        "id": "NW0aQP9YO4ac",
        "colab": {
          "base_uri": "https://localhost:8080/"
        },
        "outputId": "32bcaf45-e504-4307-b96c-c0b6ba0953db"
      },
      "source": [
        "library(tidyverse)"
      ],
      "execution_count": 1,
      "outputs": [
        {
          "output_type": "stream",
          "name": "stderr",
          "text": [
            "Warning message in system(\"timedatectl\", intern = TRUE):\n",
            "“running command 'timedatectl' had status 1”\n",
            "── \u001b[1mAttaching packages\u001b[22m ─────────────────────────────────────── tidyverse 1.3.1 ──\n",
            "\n",
            "\u001b[32m✔\u001b[39m \u001b[34mggplot2\u001b[39m 3.3.5     \u001b[32m✔\u001b[39m \u001b[34mpurrr  \u001b[39m 0.3.4\n",
            "\u001b[32m✔\u001b[39m \u001b[34mtibble \u001b[39m 3.1.6     \u001b[32m✔\u001b[39m \u001b[34mdplyr  \u001b[39m 1.0.7\n",
            "\u001b[32m✔\u001b[39m \u001b[34mtidyr  \u001b[39m 1.1.4     \u001b[32m✔\u001b[39m \u001b[34mstringr\u001b[39m 1.4.0\n",
            "\u001b[32m✔\u001b[39m \u001b[34mreadr  \u001b[39m 2.1.0     \u001b[32m✔\u001b[39m \u001b[34mforcats\u001b[39m 0.5.1\n",
            "\n",
            "── \u001b[1mConflicts\u001b[22m ────────────────────────────────────────── tidyverse_conflicts() ──\n",
            "\u001b[31m✖\u001b[39m \u001b[34mdplyr\u001b[39m::\u001b[32mfilter()\u001b[39m masks \u001b[34mstats\u001b[39m::filter()\n",
            "\u001b[31m✖\u001b[39m \u001b[34mdplyr\u001b[39m::\u001b[32mlag()\u001b[39m    masks \u001b[34mstats\u001b[39m::lag()\n",
            "\n"
          ]
        }
      ]
    },
    {
      "cell_type": "markdown",
      "metadata": {
        "id": "i3aJ25WglrvA"
      },
      "source": [
        "Realizaremos a leitura de arquivos no formato excel para importar os dados a serem trabalhados, portanto é necessário declarar a biblioteca readxl."
      ]
    },
    {
      "cell_type": "code",
      "metadata": {
        "id": "Q9TFgA9nl-bc"
      },
      "source": [
        "library(readxl)"
      ],
      "execution_count": 2,
      "outputs": []
    },
    {
      "cell_type": "markdown",
      "metadata": {
        "id": "kklWTkRDvpX3"
      },
      "source": [
        "### Carregamento de arquivos"
      ]
    },
    {
      "cell_type": "markdown",
      "metadata": {
        "id": "_ypGDrZeuaRf"
      },
      "source": [
        "Para realização das atividades algumas base de dados precisam ser carregadas, estão estão armazenadas no google drive e são localizadas pelo hash \"id\", se ocorrer erros substituir os arquivos."
      ]
    },
    {
      "cell_type": "markdown",
      "metadata": {
        "id": "DV9EuuYAuxM8"
      },
      "source": [
        "**(1.2) Dataset Aula Data Wrangling.xls**"
      ]
    },
    {
      "cell_type": "code",
      "metadata": {
        "id": "CDALVsMFu6YF"
      },
      "source": [
        "system(\"gdown --id 1VAevjCUexLb03jLj10vZsJDvhiue5fsm\")"
      ],
      "execution_count": 9,
      "outputs": []
    },
    {
      "cell_type": "markdown",
      "metadata": {
        "id": "pgIg-FUKu-mB"
      },
      "source": [
        "**(1.3) Dataset Aula Data Wrangling (Join).xls**"
      ]
    },
    {
      "cell_type": "code",
      "metadata": {
        "id": "bts-oBZ9u--3"
      },
      "source": [
        "system(\"gdown --id 1dVoBogi3f6QbBHSylz_jqnCqf7r6016Y\")"
      ],
      "execution_count": 6,
      "outputs": []
    },
    {
      "cell_type": "markdown",
      "metadata": {
        "id": "UvPd29yFu_RK"
      },
      "source": [
        "**(2.2) WHO COVID-19 Global Table.csv**"
      ]
    },
    {
      "cell_type": "code",
      "metadata": {
        "id": "Ifzigub1u_Lj"
      },
      "source": [
        "system(\"gdown --id 1eEGBKktlrOM11rrQlnXT0IkRCYcR1OYH\")"
      ],
      "execution_count": 13,
      "outputs": []
    },
    {
      "cell_type": "markdown",
      "metadata": {
        "id": "ZIQ9QfJtu_F5"
      },
      "source": [
        "**(2.3) WBD PIB per Capita.xls**"
      ]
    },
    {
      "cell_type": "code",
      "metadata": {
        "id": "DL56dWVCu_WW"
      },
      "source": [
        "system(\"gdown --id 18aq9ivWWWGBYLUs5JS1yGuGgQGrwLF_z\")"
      ],
      "execution_count": 7,
      "outputs": []
    },
    {
      "cell_type": "markdown",
      "metadata": {
        "id": "dQb4lSrHu_bf"
      },
      "source": [
        "**(4.2) CVM Resultado Wrangling.xlsx**"
      ]
    },
    {
      "cell_type": "code",
      "metadata": {
        "id": "uKrA-006u_gr"
      },
      "source": [
        "system(\"gdown --id 1OSYjHFjW3yIUIMi1sJ-6GJyBuh4-FYSl\")"
      ],
      "execution_count": 14,
      "outputs": []
    },
    {
      "cell_type": "markdown",
      "metadata": {
        "id": "Llba82Alv5-d"
      },
      "source": [
        "**(4.3) CVM Dados Cadastrais.xlsx**"
      ]
    },
    {
      "cell_type": "code",
      "metadata": {
        "id": "QSmUeyDSv6VR"
      },
      "source": [
        "system(\"gdown --id 1czRw5avAz-G65eEU_z9LXDeY556R0DUl\")"
      ],
      "execution_count": 15,
      "outputs": []
    },
    {
      "cell_type": "markdown",
      "metadata": {
        "id": "k5oGB0LYv6bY"
      },
      "source": [
        "**(5.2) Champions League 2020-2021.csv**"
      ]
    },
    {
      "cell_type": "code",
      "metadata": {
        "id": "1duZNBO-v6gD"
      },
      "source": [
        "system(\"gdown --id 1vkQSzP0Ab_eYOkIlHiMTf--4knUz8Qal\")"
      ],
      "execution_count": 16,
      "outputs": []
    },
    {
      "cell_type": "markdown",
      "metadata": {
        "id": "VyweVLwiv6lK"
      },
      "source": [
        "**(6.2) Filmes Streaming.csv**"
      ]
    },
    {
      "cell_type": "code",
      "metadata": {
        "id": "eBW6HKEhv6pT"
      },
      "source": [
        "system(\"gdown --id 1F4AzGq7qyGGcp30hFcNxsMuWhEs8ixw4\")"
      ],
      "execution_count": 17,
      "outputs": []
    },
    {
      "cell_type": "markdown",
      "metadata": {
        "id": "_7QLSE9SwGul"
      },
      "source": [
        "**(6.3) Séries Streaming.csv**"
      ]
    },
    {
      "cell_type": "code",
      "metadata": {
        "id": "viX0lcd8wG07"
      },
      "source": [
        "system(\"gdown --id 1mvlIzlMhEFAs-axYjLMmnuxPFgAFd6jK\")"
      ],
      "execution_count": 18,
      "outputs": []
    },
    {
      "cell_type": "markdown",
      "metadata": {
        "id": "LEFM0JzomFR8"
      },
      "source": [
        "## Aula I"
      ]
    },
    {
      "cell_type": "markdown",
      "metadata": {
        "id": "JPuy5NNH8GXF"
      },
      "source": [
        "###Lendo arquivos"
      ]
    },
    {
      "cell_type": "markdown",
      "metadata": {
        "id": "HHcHkOj614Cs"
      },
      "source": [
        "**read_excel** realiza a leitura de arquivos excel."
      ]
    },
    {
      "cell_type": "code",
      "metadata": {
        "id": "VrYnQa7Un_k1"
      },
      "source": [
        "dataset_inicial <- read_excel(\"(1.2) Dataset Aula Data Wrangling.xls\")"
      ],
      "execution_count": 10,
      "outputs": []
    },
    {
      "cell_type": "markdown",
      "metadata": {
        "id": "6UNGuVOr2DeP"
      },
      "source": [
        "**reas.csv** realiza a leitura de arquivos em csv.\n",
        "\n"
      ]
    },
    {
      "cell_type": "code",
      "metadata": {
        "id": "h92MB7ht2Dj7"
      },
      "source": [
        "dataset_csv <- read.csv(\"(2.2) WHO COVID-19 Global Table.csv\", #<-- Arquivo\n",
        "                        header = TRUE, #<-- O CSV possui cabeçalho\n",
        "                        sep = \",\", #<-- Separador de informações do CSV\n",
        "                        dec = \".\")  #<-- Ponto de separação decimal 10.00"
      ],
      "execution_count": 65,
      "outputs": []
    },
    {
      "cell_type": "markdown",
      "metadata": {
        "id": "JIpupGee8Sk_"
      },
      "source": [
        "###Visualizando Dataset"
      ]
    },
    {
      "cell_type": "markdown",
      "metadata": {
        "id": "QAll28K12djY"
      },
      "source": [
        "**View** realiza a visualização do arquivo no formato de tabela para matrizes."
      ]
    },
    {
      "cell_type": "code",
      "metadata": {
        "colab": {
          "base_uri": "https://localhost:8080/",
          "height": 412
        },
        "id": "f_N9M2nU23kl",
        "outputId": "c4e88ab6-44a1-4cfc-9862-8ef29fd949ad"
      },
      "source": [
        "View(dataset_inicial)"
      ],
      "execution_count": 21,
      "outputs": [
        {
          "output_type": "display_data",
          "data": {
            "text/markdown": "\nA tibble: 10 × 6\n\n| Estudante &lt;chr&gt; | Tempo para chegar à escola (minutos) &lt;dbl&gt; | Distância percorrida até a escola (quilômetros) &lt;dbl&gt; | Quantidade de semáforos &lt;dbl&gt; | Período do dia &lt;chr&gt; | Perfil ao volante &lt;chr&gt; |\n|---|---|---|---|---|---|\n| Gabriela    | 15 |  8 | 0 | Manhã | calmo     |\n| Dalila      | 20 |  6 | 1 | Manhã | moderado  |\n| Gustavo     | 20 | 15 | 0 | Manhã | moderado  |\n| Letícia     | 40 | 20 | 1 | Tarde | agressivo |\n| Luiz Ovídio | 50 | 25 | 2 | Tarde | agressivo |\n| Leonor      | 25 | 11 | 1 | Manhã | moderado  |\n| Ana         | 10 |  5 | 0 | Manhã | calmo     |\n| Antônio     | 55 | 32 | 3 | Tarde | calmo     |\n| Júlia       | 35 | 28 | 1 | Manhã | moderado  |\n| Mariana     | 30 | 20 | 1 | Manhã | moderado  |\n\n",
            "text/latex": "A tibble: 10 × 6\n\\begin{tabular}{llllll}\n Estudante & Tempo para chegar à escola (minutos) & Distância percorrida até a escola (quilômetros) & Quantidade de semáforos & Período do dia & Perfil ao volante\\\\\n <chr> & <dbl> & <dbl> & <dbl> & <chr> & <chr>\\\\\n\\hline\n\t Gabriela    & 15 &  8 & 0 & Manhã & calmo    \\\\\n\t Dalila      & 20 &  6 & 1 & Manhã & moderado \\\\\n\t Gustavo     & 20 & 15 & 0 & Manhã & moderado \\\\\n\t Letícia     & 40 & 20 & 1 & Tarde & agressivo\\\\\n\t Luiz Ovídio & 50 & 25 & 2 & Tarde & agressivo\\\\\n\t Leonor      & 25 & 11 & 1 & Manhã & moderado \\\\\n\t Ana         & 10 &  5 & 0 & Manhã & calmo    \\\\\n\t Antônio     & 55 & 32 & 3 & Tarde & calmo    \\\\\n\t Júlia       & 35 & 28 & 1 & Manhã & moderado \\\\\n\t Mariana     & 30 & 20 & 1 & Manhã & moderado \\\\\n\\end{tabular}\n",
            "text/html": [
              "<table class=\"dataframe\">\n",
              "<caption>A tibble: 10 × 6</caption>\n",
              "<thead>\n",
              "\t<tr><th scope=col>Estudante</th><th scope=col>Tempo para chegar à escola (minutos)</th><th scope=col>Distância percorrida até a escola (quilômetros)</th><th scope=col>Quantidade de semáforos</th><th scope=col>Período do dia</th><th scope=col>Perfil ao volante</th></tr>\n",
              "\t<tr><th scope=col>&lt;chr&gt;</th><th scope=col>&lt;dbl&gt;</th><th scope=col>&lt;dbl&gt;</th><th scope=col>&lt;dbl&gt;</th><th scope=col>&lt;chr&gt;</th><th scope=col>&lt;chr&gt;</th></tr>\n",
              "</thead>\n",
              "<tbody>\n",
              "\t<tr><td>Gabriela   </td><td>15</td><td> 8</td><td>0</td><td>Manhã</td><td>calmo    </td></tr>\n",
              "\t<tr><td>Dalila     </td><td>20</td><td> 6</td><td>1</td><td>Manhã</td><td>moderado </td></tr>\n",
              "\t<tr><td>Gustavo    </td><td>20</td><td>15</td><td>0</td><td>Manhã</td><td>moderado </td></tr>\n",
              "\t<tr><td>Letícia    </td><td>40</td><td>20</td><td>1</td><td>Tarde</td><td>agressivo</td></tr>\n",
              "\t<tr><td>Luiz Ovídio</td><td>50</td><td>25</td><td>2</td><td>Tarde</td><td>agressivo</td></tr>\n",
              "\t<tr><td>Leonor     </td><td>25</td><td>11</td><td>1</td><td>Manhã</td><td>moderado </td></tr>\n",
              "\t<tr><td>Ana        </td><td>10</td><td> 5</td><td>0</td><td>Manhã</td><td>calmo    </td></tr>\n",
              "\t<tr><td>Antônio    </td><td>55</td><td>32</td><td>3</td><td>Tarde</td><td>calmo    </td></tr>\n",
              "\t<tr><td>Júlia      </td><td>35</td><td>28</td><td>1</td><td>Manhã</td><td>moderado </td></tr>\n",
              "\t<tr><td>Mariana    </td><td>30</td><td>20</td><td>1</td><td>Manhã</td><td>moderado </td></tr>\n",
              "</tbody>\n",
              "</table>\n"
            ],
            "text/plain": [
              "   Estudante   Tempo para chegar à escola (minutos)\n",
              "1  Gabriela    15                                  \n",
              "2  Dalila      20                                  \n",
              "3  Gustavo     20                                  \n",
              "4  Letícia     40                                  \n",
              "5  Luiz Ovídio 50                                  \n",
              "6  Leonor      25                                  \n",
              "7  Ana         10                                  \n",
              "8  Antônio     55                                  \n",
              "9  Júlia       35                                  \n",
              "10 Mariana     30                                  \n",
              "   Distância percorrida até a escola (quilômetros) Quantidade de semáforos\n",
              "1   8                                              0                      \n",
              "2   6                                              1                      \n",
              "3  15                                              0                      \n",
              "4  20                                              1                      \n",
              "5  25                                              2                      \n",
              "6  11                                              1                      \n",
              "7   5                                              0                      \n",
              "8  32                                              3                      \n",
              "9  28                                              1                      \n",
              "10 20                                              1                      \n",
              "   Período do dia Perfil ao volante\n",
              "1  Manhã          calmo            \n",
              "2  Manhã          moderado         \n",
              "3  Manhã          moderado         \n",
              "4  Tarde          agressivo        \n",
              "5  Tarde          agressivo        \n",
              "6  Manhã          moderado         \n",
              "7  Manhã          calmo            \n",
              "8  Tarde          calmo            \n",
              "9  Manhã          moderado         \n",
              "10 Manhã          moderado         "
            ]
          },
          "metadata": {}
        }
      ]
    },
    {
      "cell_type": "markdown",
      "metadata": {
        "id": "R0NGMW2W28u9"
      },
      "source": [
        "**head** mostra somente as primeiras linhas sendo estas limitadas ao parâmetro n."
      ]
    },
    {
      "cell_type": "code",
      "metadata": {
        "colab": {
          "base_uri": "https://localhost:8080/",
          "height": 255
        },
        "id": "Xn3Woe2o3Tor",
        "outputId": "b77ea9c9-2c2b-4e76-802f-eeb69bc51674"
      },
      "source": [
        "head(dataset_inicial, n=5)"
      ],
      "execution_count": 22,
      "outputs": [
        {
          "output_type": "display_data",
          "data": {
            "text/plain": [
              "  Estudante   Tempo para chegar à escola (minutos)\n",
              "1 Gabriela    15                                  \n",
              "2 Dalila      20                                  \n",
              "3 Gustavo     20                                  \n",
              "4 Letícia     40                                  \n",
              "5 Luiz Ovídio 50                                  \n",
              "  Distância percorrida até a escola (quilômetros) Quantidade de semáforos\n",
              "1  8                                              0                      \n",
              "2  6                                              1                      \n",
              "3 15                                              0                      \n",
              "4 20                                              1                      \n",
              "5 25                                              2                      \n",
              "  Período do dia Perfil ao volante\n",
              "1 Manhã          calmo            \n",
              "2 Manhã          moderado         \n",
              "3 Manhã          moderado         \n",
              "4 Tarde          agressivo        \n",
              "5 Tarde          agressivo        "
            ],
            "text/latex": "A tibble: 5 × 6\n\\begin{tabular}{llllll}\n Estudante & Tempo para chegar à escola (minutos) & Distância percorrida até a escola (quilômetros) & Quantidade de semáforos & Período do dia & Perfil ao volante\\\\\n <chr> & <dbl> & <dbl> & <dbl> & <chr> & <chr>\\\\\n\\hline\n\t Gabriela    & 15 &  8 & 0 & Manhã & calmo    \\\\\n\t Dalila      & 20 &  6 & 1 & Manhã & moderado \\\\\n\t Gustavo     & 20 & 15 & 0 & Manhã & moderado \\\\\n\t Letícia     & 40 & 20 & 1 & Tarde & agressivo\\\\\n\t Luiz Ovídio & 50 & 25 & 2 & Tarde & agressivo\\\\\n\\end{tabular}\n",
            "text/markdown": "\nA tibble: 5 × 6\n\n| Estudante &lt;chr&gt; | Tempo para chegar à escola (minutos) &lt;dbl&gt; | Distância percorrida até a escola (quilômetros) &lt;dbl&gt; | Quantidade de semáforos &lt;dbl&gt; | Período do dia &lt;chr&gt; | Perfil ao volante &lt;chr&gt; |\n|---|---|---|---|---|---|\n| Gabriela    | 15 |  8 | 0 | Manhã | calmo     |\n| Dalila      | 20 |  6 | 1 | Manhã | moderado  |\n| Gustavo     | 20 | 15 | 0 | Manhã | moderado  |\n| Letícia     | 40 | 20 | 1 | Tarde | agressivo |\n| Luiz Ovídio | 50 | 25 | 2 | Tarde | agressivo |\n\n",
            "text/html": [
              "<table class=\"dataframe\">\n",
              "<caption>A tibble: 5 × 6</caption>\n",
              "<thead>\n",
              "\t<tr><th scope=col>Estudante</th><th scope=col>Tempo para chegar à escola (minutos)</th><th scope=col>Distância percorrida até a escola (quilômetros)</th><th scope=col>Quantidade de semáforos</th><th scope=col>Período do dia</th><th scope=col>Perfil ao volante</th></tr>\n",
              "\t<tr><th scope=col>&lt;chr&gt;</th><th scope=col>&lt;dbl&gt;</th><th scope=col>&lt;dbl&gt;</th><th scope=col>&lt;dbl&gt;</th><th scope=col>&lt;chr&gt;</th><th scope=col>&lt;chr&gt;</th></tr>\n",
              "</thead>\n",
              "<tbody>\n",
              "\t<tr><td>Gabriela   </td><td>15</td><td> 8</td><td>0</td><td>Manhã</td><td>calmo    </td></tr>\n",
              "\t<tr><td>Dalila     </td><td>20</td><td> 6</td><td>1</td><td>Manhã</td><td>moderado </td></tr>\n",
              "\t<tr><td>Gustavo    </td><td>20</td><td>15</td><td>0</td><td>Manhã</td><td>moderado </td></tr>\n",
              "\t<tr><td>Letícia    </td><td>40</td><td>20</td><td>1</td><td>Tarde</td><td>agressivo</td></tr>\n",
              "\t<tr><td>Luiz Ovídio</td><td>50</td><td>25</td><td>2</td><td>Tarde</td><td>agressivo</td></tr>\n",
              "</tbody>\n",
              "</table>\n"
            ]
          },
          "metadata": {}
        }
      ]
    },
    {
      "cell_type": "markdown",
      "metadata": {
        "id": "sD-B3vee3ZId"
      },
      "source": [
        "**tail** semelhante ao head, porém mostra as ultimas linhas limitadas ao parâmetro n."
      ]
    },
    {
      "cell_type": "code",
      "metadata": {
        "colab": {
          "base_uri": "https://localhost:8080/",
          "height": 255
        },
        "id": "LcH9zGYu3rhd",
        "outputId": "f53db289-729f-4a87-d369-37cfbb6452fe"
      },
      "source": [
        "tail(dataset_inicial, n=5)"
      ],
      "execution_count": 23,
      "outputs": [
        {
          "output_type": "display_data",
          "data": {
            "text/plain": [
              "  Estudante Tempo para chegar à escola (minutos)\n",
              "1 Leonor    25                                  \n",
              "2 Ana       10                                  \n",
              "3 Antônio   55                                  \n",
              "4 Júlia     35                                  \n",
              "5 Mariana   30                                  \n",
              "  Distância percorrida até a escola (quilômetros) Quantidade de semáforos\n",
              "1 11                                              1                      \n",
              "2  5                                              0                      \n",
              "3 32                                              3                      \n",
              "4 28                                              1                      \n",
              "5 20                                              1                      \n",
              "  Período do dia Perfil ao volante\n",
              "1 Manhã          moderado         \n",
              "2 Manhã          calmo            \n",
              "3 Tarde          calmo            \n",
              "4 Manhã          moderado         \n",
              "5 Manhã          moderado         "
            ],
            "text/latex": "A tibble: 5 × 6\n\\begin{tabular}{llllll}\n Estudante & Tempo para chegar à escola (minutos) & Distância percorrida até a escola (quilômetros) & Quantidade de semáforos & Período do dia & Perfil ao volante\\\\\n <chr> & <dbl> & <dbl> & <dbl> & <chr> & <chr>\\\\\n\\hline\n\t Leonor  & 25 & 11 & 1 & Manhã & moderado\\\\\n\t Ana     & 10 &  5 & 0 & Manhã & calmo   \\\\\n\t Antônio & 55 & 32 & 3 & Tarde & calmo   \\\\\n\t Júlia   & 35 & 28 & 1 & Manhã & moderado\\\\\n\t Mariana & 30 & 20 & 1 & Manhã & moderado\\\\\n\\end{tabular}\n",
            "text/markdown": "\nA tibble: 5 × 6\n\n| Estudante &lt;chr&gt; | Tempo para chegar à escola (minutos) &lt;dbl&gt; | Distância percorrida até a escola (quilômetros) &lt;dbl&gt; | Quantidade de semáforos &lt;dbl&gt; | Período do dia &lt;chr&gt; | Perfil ao volante &lt;chr&gt; |\n|---|---|---|---|---|---|\n| Leonor  | 25 | 11 | 1 | Manhã | moderado |\n| Ana     | 10 |  5 | 0 | Manhã | calmo    |\n| Antônio | 55 | 32 | 3 | Tarde | calmo    |\n| Júlia   | 35 | 28 | 1 | Manhã | moderado |\n| Mariana | 30 | 20 | 1 | Manhã | moderado |\n\n",
            "text/html": [
              "<table class=\"dataframe\">\n",
              "<caption>A tibble: 5 × 6</caption>\n",
              "<thead>\n",
              "\t<tr><th scope=col>Estudante</th><th scope=col>Tempo para chegar à escola (minutos)</th><th scope=col>Distância percorrida até a escola (quilômetros)</th><th scope=col>Quantidade de semáforos</th><th scope=col>Período do dia</th><th scope=col>Perfil ao volante</th></tr>\n",
              "\t<tr><th scope=col>&lt;chr&gt;</th><th scope=col>&lt;dbl&gt;</th><th scope=col>&lt;dbl&gt;</th><th scope=col>&lt;dbl&gt;</th><th scope=col>&lt;chr&gt;</th><th scope=col>&lt;chr&gt;</th></tr>\n",
              "</thead>\n",
              "<tbody>\n",
              "\t<tr><td>Leonor </td><td>25</td><td>11</td><td>1</td><td>Manhã</td><td>moderado</td></tr>\n",
              "\t<tr><td>Ana    </td><td>10</td><td> 5</td><td>0</td><td>Manhã</td><td>calmo   </td></tr>\n",
              "\t<tr><td>Antônio</td><td>55</td><td>32</td><td>3</td><td>Tarde</td><td>calmo   </td></tr>\n",
              "\t<tr><td>Júlia  </td><td>35</td><td>28</td><td>1</td><td>Manhã</td><td>moderado</td></tr>\n",
              "\t<tr><td>Mariana</td><td>30</td><td>20</td><td>1</td><td>Manhã</td><td>moderado</td></tr>\n",
              "</tbody>\n",
              "</table>\n"
            ]
          },
          "metadata": {}
        }
      ]
    },
    {
      "cell_type": "markdown",
      "metadata": {
        "id": "J8OrC_Vz3wSp"
      },
      "source": [
        "**str** mostra a estrutura do dataset."
      ]
    },
    {
      "cell_type": "code",
      "metadata": {
        "colab": {
          "base_uri": "https://localhost:8080/"
        },
        "id": "SJtiIIQv4Bm1",
        "outputId": "af51c8ed-5e4f-4742-85eb-4717cf45be5b"
      },
      "source": [
        "str(dataset_inicial)"
      ],
      "execution_count": 24,
      "outputs": [
        {
          "output_type": "stream",
          "name": "stdout",
          "text": [
            "tibble [10 × 6] (S3: tbl_df/tbl/data.frame)\n",
            " $ Estudante                                      : chr [1:10] \"Gabriela\" \"Dalila\" \"Gustavo\" \"Letícia\" ...\n",
            " $ Tempo para chegar à escola (minutos)           : num [1:10] 15 20 20 40 50 25 10 55 35 30\n",
            " $ Distância percorrida até a escola (quilômetros): num [1:10] 8 6 15 20 25 11 5 32 28 20\n",
            " $ Quantidade de semáforos                        : num [1:10] 0 1 0 1 2 1 0 3 1 1\n",
            " $ Período do dia                                 : chr [1:10] \"Manhã\" \"Manhã\" \"Manhã\" \"Tarde\" ...\n",
            " $ Perfil ao volante                              : chr [1:10] \"calmo\" \"moderado\" \"moderado\" \"agressivo\" ...\n"
          ]
        }
      ]
    },
    {
      "cell_type": "markdown",
      "metadata": {
        "id": "nEoPzSk64lm7"
      },
      "source": [
        "**glimpse** semelhante ao str porém a visualização é mais organizada."
      ]
    },
    {
      "cell_type": "code",
      "metadata": {
        "colab": {
          "base_uri": "https://localhost:8080/"
        },
        "id": "27nH_p-R4lxf",
        "outputId": "d3fe8df4-66eb-4883-ece2-7264d1a0705e"
      },
      "source": [
        "glimpse(dataset_inicial)"
      ],
      "execution_count": 25,
      "outputs": [
        {
          "output_type": "stream",
          "name": "stdout",
          "text": [
            "Rows: 10\n",
            "Columns: 6\n",
            "$ Estudante                                         \u001b[3m\u001b[90m<chr>\u001b[39m\u001b[23m \"Gabriela\", \"Dalila\"…\n",
            "$ `Tempo para chegar à escola (minutos)`            \u001b[3m\u001b[90m<dbl>\u001b[39m\u001b[23m 15, 20, 20, 40, 50, …\n",
            "$ `Distância percorrida até a escola (quilômetros)` \u001b[3m\u001b[90m<dbl>\u001b[39m\u001b[23m 8, 6, 15, 20, 25, 11…\n",
            "$ `Quantidade de semáforos`                         \u001b[3m\u001b[90m<dbl>\u001b[39m\u001b[23m 0, 1, 0, 1, 2, 1, 0,…\n",
            "$ `Período do dia`                                  \u001b[3m\u001b[90m<chr>\u001b[39m\u001b[23m \"Manhã\", \"Manhã\", \"M…\n",
            "$ `Perfil ao volante`                               \u001b[3m\u001b[90m<chr>\u001b[39m\u001b[23m \"calmo\", \"moderado\",…\n"
          ]
        }
      ]
    },
    {
      "cell_type": "markdown",
      "metadata": {
        "id": "F851WH2K5NC_"
      },
      "source": [
        "**print** apresenta o dateset no console, porém é resumido se conter muitos dados."
      ]
    },
    {
      "cell_type": "code",
      "metadata": {
        "colab": {
          "base_uri": "https://localhost:8080/"
        },
        "id": "tr3NUvH65NMH",
        "outputId": "2b9b7c99-7e0a-45d8-ebab-9cc54d5f8deb"
      },
      "source": [
        "print(dataset_inicial)"
      ],
      "execution_count": 26,
      "outputs": [
        {
          "output_type": "stream",
          "name": "stdout",
          "text": [
            "\u001b[90m# A tibble: 10 × 6\u001b[39m\n",
            "   Estudante `Tempo para che… `Distância perc… `Quantidade de … `Período do dia`\n",
            "   \u001b[3m\u001b[90m<chr>\u001b[39m\u001b[23m                \u001b[3m\u001b[90m<dbl>\u001b[39m\u001b[23m            \u001b[3m\u001b[90m<dbl>\u001b[39m\u001b[23m            \u001b[3m\u001b[90m<dbl>\u001b[39m\u001b[23m \u001b[3m\u001b[90m<chr>\u001b[39m\u001b[23m           \n",
            "\u001b[90m 1\u001b[39m Gabriela                15                8                0 Manhã           \n",
            "\u001b[90m 2\u001b[39m Dalila                  20                6                1 Manhã           \n",
            "\u001b[90m 3\u001b[39m Gustavo                 20               15                0 Manhã           \n",
            "\u001b[90m 4\u001b[39m Letícia                 40               20                1 Tarde           \n",
            "\u001b[90m 5\u001b[39m Luiz Oví…               50               25                2 Tarde           \n",
            "\u001b[90m 6\u001b[39m Leonor                  25               11                1 Manhã           \n",
            "\u001b[90m 7\u001b[39m Ana                     10                5                0 Manhã           \n",
            "\u001b[90m 8\u001b[39m Antônio                 55               32                3 Tarde           \n",
            "\u001b[90m 9\u001b[39m Júlia                   35               28                1 Manhã           \n",
            "\u001b[90m10\u001b[39m Mariana                 30               20                1 Manhã           \n",
            "\u001b[90m# … with 1 more variable: Perfil ao volante <chr>\u001b[39m\n"
          ]
        }
      ]
    },
    {
      "cell_type": "markdown",
      "metadata": {
        "id": "V75YjxT55olT"
      },
      "source": [
        "**dim** informa a dimenção do dataset (linhas, colunas)."
      ]
    },
    {
      "cell_type": "code",
      "metadata": {
        "colab": {
          "base_uri": "https://localhost:8080/",
          "height": 34
        },
        "id": "Wilw37k05ods",
        "outputId": "ab7c40eb-bfde-40b9-c1e6-2ed8f36c0037"
      },
      "source": [
        "dim(dataset_inicial)"
      ],
      "execution_count": 27,
      "outputs": [
        {
          "output_type": "display_data",
          "data": {
            "text/plain": [
              "[1] 10  6"
            ],
            "text/latex": "\\begin{enumerate*}\n\\item 10\n\\item 6\n\\end{enumerate*}\n",
            "text/markdown": "1. 10\n2. 6\n\n\n",
            "text/html": [
              "<style>\n",
              ".list-inline {list-style: none; margin:0; padding: 0}\n",
              ".list-inline>li {display: inline-block}\n",
              ".list-inline>li:not(:last-child)::after {content: \"\\00b7\"; padding: 0 .5ex}\n",
              "</style>\n",
              "<ol class=list-inline><li>10</li><li>6</li></ol>\n"
            ]
          },
          "metadata": {}
        }
      ]
    },
    {
      "cell_type": "markdown",
      "metadata": {
        "id": "anMp0R3B6CBP"
      },
      "source": [
        "**names** informa o títulos das colunas (chamadas de variáveis em um dataset)."
      ]
    },
    {
      "cell_type": "code",
      "metadata": {
        "colab": {
          "base_uri": "https://localhost:8080/",
          "height": 34
        },
        "id": "wqFOg9E953B_",
        "outputId": "e86f7a4a-2f45-4808-a2bb-ac37630946f7"
      },
      "source": [
        "names(dataset_inicial)"
      ],
      "execution_count": 28,
      "outputs": [
        {
          "output_type": "display_data",
          "data": {
            "text/plain": [
              "[1] \"Estudante\"                                      \n",
              "[2] \"Tempo para chegar à escola (minutos)\"           \n",
              "[3] \"Distância percorrida até a escola (quilômetros)\"\n",
              "[4] \"Quantidade de semáforos\"                        \n",
              "[5] \"Período do dia\"                                 \n",
              "[6] \"Perfil ao volante\"                              "
            ],
            "text/latex": "\\begin{enumerate*}\n\\item 'Estudante'\n\\item 'Tempo para chegar à escola (minutos)'\n\\item 'Distância percorrida até a escola (quilômetros)'\n\\item 'Quantidade de semáforos'\n\\item 'Período do dia'\n\\item 'Perfil ao volante'\n\\end{enumerate*}\n",
            "text/markdown": "1. 'Estudante'\n2. 'Tempo para chegar à escola (minutos)'\n3. 'Distância percorrida até a escola (quilômetros)'\n4. 'Quantidade de semáforos'\n5. 'Período do dia'\n6. 'Perfil ao volante'\n\n\n",
            "text/html": [
              "<style>\n",
              ".list-inline {list-style: none; margin:0; padding: 0}\n",
              ".list-inline>li {display: inline-block}\n",
              ".list-inline>li:not(:last-child)::after {content: \"\\00b7\"; padding: 0 .5ex}\n",
              "</style>\n",
              "<ol class=list-inline><li>'Estudante'</li><li>'Tempo para chegar à escola (minutos)'</li><li>'Distância percorrida até a escola (quilômetros)'</li><li>'Quantidade de semáforos'</li><li>'Período do dia'</li><li>'Perfil ao volante'</li></ol>\n"
            ]
          },
          "metadata": {}
        }
      ]
    },
    {
      "cell_type": "markdown",
      "metadata": {
        "id": "5UFmSU4C6O8V"
      },
      "source": [
        "**$** Para especificar uma variável do dataset o utilizamos como separador."
      ]
    },
    {
      "cell_type": "code",
      "metadata": {
        "colab": {
          "base_uri": "https://localhost:8080/",
          "height": 34
        },
        "id": "-FOdXAhb6OdJ",
        "outputId": "fdbbcff1-c096-472e-efe9-a761b2d99091"
      },
      "source": [
        "dataset_inicial$Estudante"
      ],
      "execution_count": 29,
      "outputs": [
        {
          "output_type": "display_data",
          "data": {
            "text/plain": [
              " [1] \"Gabriela\"    \"Dalila\"      \"Gustavo\"     \"Letícia\"     \"Luiz Ovídio\"\n",
              " [6] \"Leonor\"      \"Ana\"         \"Antônio\"     \"Júlia\"       \"Mariana\"    "
            ],
            "text/latex": "\\begin{enumerate*}\n\\item 'Gabriela'\n\\item 'Dalila'\n\\item 'Gustavo'\n\\item 'Letícia'\n\\item 'Luiz Ovídio'\n\\item 'Leonor'\n\\item 'Ana'\n\\item 'Antônio'\n\\item 'Júlia'\n\\item 'Mariana'\n\\end{enumerate*}\n",
            "text/markdown": "1. 'Gabriela'\n2. 'Dalila'\n3. 'Gustavo'\n4. 'Letícia'\n5. 'Luiz Ovídio'\n6. 'Leonor'\n7. 'Ana'\n8. 'Antônio'\n9. 'Júlia'\n10. 'Mariana'\n\n\n",
            "text/html": [
              "<style>\n",
              ".list-inline {list-style: none; margin:0; padding: 0}\n",
              ".list-inline>li {display: inline-block}\n",
              ".list-inline>li:not(:last-child)::after {content: \"\\00b7\"; padding: 0 .5ex}\n",
              "</style>\n",
              "<ol class=list-inline><li>'Gabriela'</li><li>'Dalila'</li><li>'Gustavo'</li><li>'Letícia'</li><li>'Luiz Ovídio'</li><li>'Leonor'</li><li>'Ana'</li><li>'Antônio'</li><li>'Júlia'</li><li>'Mariana'</li></ol>\n"
            ]
          },
          "metadata": {}
        }
      ]
    },
    {
      "cell_type": "markdown",
      "metadata": {
        "id": "cXxb8UrL7JDR"
      },
      "source": [
        "**c** é utilizado para declarar um vetor."
      ]
    },
    {
      "cell_type": "code",
      "metadata": {
        "colab": {
          "base_uri": "https://localhost:8080/",
          "height": 34
        },
        "id": "YzDG1YZS7JZ7",
        "outputId": "e896a23b-5d77-4f21-fed5-34f379498953"
      },
      "source": [
        "vetor <- c(\"a\", \"b\", \"c\")\n",
        "vetor"
      ],
      "execution_count": 33,
      "outputs": [
        {
          "output_type": "display_data",
          "data": {
            "text/plain": [
              "[1] \"a\" \"b\" \"c\""
            ],
            "text/latex": "\\begin{enumerate*}\n\\item 'a'\n\\item 'b'\n\\item 'c'\n\\end{enumerate*}\n",
            "text/markdown": "1. 'a'\n2. 'b'\n3. 'c'\n\n\n",
            "text/html": [
              "<style>\n",
              ".list-inline {list-style: none; margin:0; padding: 0}\n",
              ".list-inline>li {display: inline-block}\n",
              ".list-inline>li:not(:last-child)::after {content: \"\\00b7\"; padding: 0 .5ex}\n",
              "</style>\n",
              "<ol class=list-inline><li>'a'</li><li>'b'</li><li>'c'</li></ol>\n"
            ]
          },
          "metadata": {}
        }
      ]
    },
    {
      "cell_type": "markdown",
      "metadata": {
        "id": "W3qGAfbg8bcd"
      },
      "source": [
        "###Alterando Variáveis"
      ]
    },
    {
      "cell_type": "markdown",
      "metadata": {
        "id": "pEeRsI2u7r9Q"
      },
      "source": [
        "**atribuição de vetor + names** ao atribuir um vetor de strings a um vetor names do dataset, as variaveis serão renomeadas. "
      ]
    },
    {
      "cell_type": "code",
      "metadata": {
        "colab": {
          "base_uri": "https://localhost:8080/",
          "height": 192
        },
        "id": "sNFIyLSk7sgY",
        "outputId": "b974f53d-70e1-4182-d093-95ee5f61c726"
      },
      "source": [
        "novos_nomes <- c(\"observacoes\",\n",
        "                 \"tempo\",\n",
        "                 \"distancia\",\n",
        "                 \"semaforos\",\n",
        "                 \"periodo\",\n",
        "                 \"perfil\")\n",
        "\n",
        "base_renomeada <- dataset_inicial\n",
        "\n",
        "names(base_renomeada) <- novos_nomes\n",
        "\n",
        "head(base_renomeada, n=3)"
      ],
      "execution_count": 42,
      "outputs": [
        {
          "output_type": "display_data",
          "data": {
            "text/plain": [
              "  observacoes tempo distancia semaforos periodo perfil  \n",
              "1 Gabriela    15     8        0         Manhã   calmo   \n",
              "2 Dalila      20     6        1         Manhã   moderado\n",
              "3 Gustavo     20    15        0         Manhã   moderado"
            ],
            "text/latex": "A tibble: 3 × 6\n\\begin{tabular}{llllll}\n observacoes & tempo & distancia & semaforos & periodo & perfil\\\\\n <chr> & <dbl> & <dbl> & <dbl> & <chr> & <chr>\\\\\n\\hline\n\t Gabriela & 15 &  8 & 0 & Manhã & calmo   \\\\\n\t Dalila   & 20 &  6 & 1 & Manhã & moderado\\\\\n\t Gustavo  & 20 & 15 & 0 & Manhã & moderado\\\\\n\\end{tabular}\n",
            "text/markdown": "\nA tibble: 3 × 6\n\n| observacoes &lt;chr&gt; | tempo &lt;dbl&gt; | distancia &lt;dbl&gt; | semaforos &lt;dbl&gt; | periodo &lt;chr&gt; | perfil &lt;chr&gt; |\n|---|---|---|---|---|---|\n| Gabriela | 15 |  8 | 0 | Manhã | calmo    |\n| Dalila   | 20 |  6 | 1 | Manhã | moderado |\n| Gustavo  | 20 | 15 | 0 | Manhã | moderado |\n\n",
            "text/html": [
              "<table class=\"dataframe\">\n",
              "<caption>A tibble: 3 × 6</caption>\n",
              "<thead>\n",
              "\t<tr><th scope=col>observacoes</th><th scope=col>tempo</th><th scope=col>distancia</th><th scope=col>semaforos</th><th scope=col>periodo</th><th scope=col>perfil</th></tr>\n",
              "\t<tr><th scope=col>&lt;chr&gt;</th><th scope=col>&lt;dbl&gt;</th><th scope=col>&lt;dbl&gt;</th><th scope=col>&lt;dbl&gt;</th><th scope=col>&lt;chr&gt;</th><th scope=col>&lt;chr&gt;</th></tr>\n",
              "</thead>\n",
              "<tbody>\n",
              "\t<tr><td>Gabriela</td><td>15</td><td> 8</td><td>0</td><td>Manhã</td><td>calmo   </td></tr>\n",
              "\t<tr><td>Dalila  </td><td>20</td><td> 6</td><td>1</td><td>Manhã</td><td>moderado</td></tr>\n",
              "\t<tr><td>Gustavo </td><td>20</td><td>15</td><td>0</td><td>Manhã</td><td>moderado</td></tr>\n",
              "</tbody>\n",
              "</table>\n"
            ]
          },
          "metadata": {}
        }
      ]
    },
    {
      "cell_type": "markdown",
      "metadata": {
        "id": "97nNKX9V99XC"
      },
      "source": [
        "**rename** é utilizada para renomear as variáveis, sendo que nos parâmetros a esquerda da igualdade temos os novos nomes e a direita os antigos ou a posição no dataset."
      ]
    },
    {
      "cell_type": "code",
      "metadata": {
        "colab": {
          "base_uri": "https://localhost:8080/",
          "height": 192
        },
        "id": "yrWRkhAC99mp",
        "outputId": "dfaded46-291c-4cad-f914-97a914822bae"
      },
      "source": [
        "base_renomeada <- dataset_inicial\n",
        "\n",
        "base_renomeada <- rename(dataset_inicial, \n",
        "                    observacoes = \"Estudante\",\n",
        "                    tempo = \"Tempo para chegar à escola (minutos)\",\n",
        "                    distancia = \"Distância percorrida até a escola (quilômetros)\",\n",
        "                    semaforos = \"Quantidade de semáforos\",\n",
        "                    periodo = \"Período do dia\",\n",
        "                    perfil = \"Perfil ao volante\")\n",
        "\n",
        "head(base_renomeada, n=3)"
      ],
      "execution_count": 41,
      "outputs": [
        {
          "output_type": "display_data",
          "data": {
            "text/plain": [
              "  observacoes tempo distancia semaforos periodo perfil  \n",
              "1 Gabriela    15     8        0         Manhã   calmo   \n",
              "2 Dalila      20     6        1         Manhã   moderado\n",
              "3 Gustavo     20    15        0         Manhã   moderado"
            ],
            "text/latex": "A tibble: 3 × 6\n\\begin{tabular}{llllll}\n observacoes & tempo & distancia & semaforos & periodo & perfil\\\\\n <chr> & <dbl> & <dbl> & <dbl> & <chr> & <chr>\\\\\n\\hline\n\t Gabriela & 15 &  8 & 0 & Manhã & calmo   \\\\\n\t Dalila   & 20 &  6 & 1 & Manhã & moderado\\\\\n\t Gustavo  & 20 & 15 & 0 & Manhã & moderado\\\\\n\\end{tabular}\n",
            "text/markdown": "\nA tibble: 3 × 6\n\n| observacoes &lt;chr&gt; | tempo &lt;dbl&gt; | distancia &lt;dbl&gt; | semaforos &lt;dbl&gt; | periodo &lt;chr&gt; | perfil &lt;chr&gt; |\n|---|---|---|---|---|---|\n| Gabriela | 15 |  8 | 0 | Manhã | calmo    |\n| Dalila   | 20 |  6 | 1 | Manhã | moderado |\n| Gustavo  | 20 | 15 | 0 | Manhã | moderado |\n\n",
            "text/html": [
              "<table class=\"dataframe\">\n",
              "<caption>A tibble: 3 × 6</caption>\n",
              "<thead>\n",
              "\t<tr><th scope=col>observacoes</th><th scope=col>tempo</th><th scope=col>distancia</th><th scope=col>semaforos</th><th scope=col>periodo</th><th scope=col>perfil</th></tr>\n",
              "\t<tr><th scope=col>&lt;chr&gt;</th><th scope=col>&lt;dbl&gt;</th><th scope=col>&lt;dbl&gt;</th><th scope=col>&lt;dbl&gt;</th><th scope=col>&lt;chr&gt;</th><th scope=col>&lt;chr&gt;</th></tr>\n",
              "</thead>\n",
              "<tbody>\n",
              "\t<tr><td>Gabriela</td><td>15</td><td> 8</td><td>0</td><td>Manhã</td><td>calmo   </td></tr>\n",
              "\t<tr><td>Dalila  </td><td>20</td><td> 6</td><td>1</td><td>Manhã</td><td>moderado</td></tr>\n",
              "\t<tr><td>Gustavo </td><td>20</td><td>15</td><td>0</td><td>Manhã</td><td>moderado</td></tr>\n",
              "</tbody>\n",
              "</table>\n"
            ]
          },
          "metadata": {}
        }
      ]
    },
    {
      "cell_type": "code",
      "metadata": {
        "colab": {
          "base_uri": "https://localhost:8080/",
          "height": 192
        },
        "id": "SuIa_8uC_Jwg",
        "outputId": "ebc276a9-9af5-40f6-c082-057894ccdffe"
      },
      "source": [
        "base_renomeada <- dataset_inicial\n",
        "\n",
        "base_renomeada <- rename(dataset_inicial, \n",
        "                    observacoes = 1,\n",
        "                    tempo = 2,\n",
        "                    distancia = 3,\n",
        "                    semaforos = 4,\n",
        "                    periodo = 5,\n",
        "                    perfil = 6)\n",
        "\n",
        "head(base_renomeada, n=3)"
      ],
      "execution_count": 43,
      "outputs": [
        {
          "output_type": "display_data",
          "data": {
            "text/plain": [
              "  observacoes tempo distancia semaforos periodo perfil  \n",
              "1 Gabriela    15     8        0         Manhã   calmo   \n",
              "2 Dalila      20     6        1         Manhã   moderado\n",
              "3 Gustavo     20    15        0         Manhã   moderado"
            ],
            "text/latex": "A tibble: 3 × 6\n\\begin{tabular}{llllll}\n observacoes & tempo & distancia & semaforos & periodo & perfil\\\\\n <chr> & <dbl> & <dbl> & <dbl> & <chr> & <chr>\\\\\n\\hline\n\t Gabriela & 15 &  8 & 0 & Manhã & calmo   \\\\\n\t Dalila   & 20 &  6 & 1 & Manhã & moderado\\\\\n\t Gustavo  & 20 & 15 & 0 & Manhã & moderado\\\\\n\\end{tabular}\n",
            "text/markdown": "\nA tibble: 3 × 6\n\n| observacoes &lt;chr&gt; | tempo &lt;dbl&gt; | distancia &lt;dbl&gt; | semaforos &lt;dbl&gt; | periodo &lt;chr&gt; | perfil &lt;chr&gt; |\n|---|---|---|---|---|---|\n| Gabriela | 15 |  8 | 0 | Manhã | calmo    |\n| Dalila   | 20 |  6 | 1 | Manhã | moderado |\n| Gustavo  | 20 | 15 | 0 | Manhã | moderado |\n\n",
            "text/html": [
              "<table class=\"dataframe\">\n",
              "<caption>A tibble: 3 × 6</caption>\n",
              "<thead>\n",
              "\t<tr><th scope=col>observacoes</th><th scope=col>tempo</th><th scope=col>distancia</th><th scope=col>semaforos</th><th scope=col>periodo</th><th scope=col>perfil</th></tr>\n",
              "\t<tr><th scope=col>&lt;chr&gt;</th><th scope=col>&lt;dbl&gt;</th><th scope=col>&lt;dbl&gt;</th><th scope=col>&lt;dbl&gt;</th><th scope=col>&lt;chr&gt;</th><th scope=col>&lt;chr&gt;</th></tr>\n",
              "</thead>\n",
              "<tbody>\n",
              "\t<tr><td>Gabriela</td><td>15</td><td> 8</td><td>0</td><td>Manhã</td><td>calmo   </td></tr>\n",
              "\t<tr><td>Dalila  </td><td>20</td><td> 6</td><td>1</td><td>Manhã</td><td>moderado</td></tr>\n",
              "\t<tr><td>Gustavo </td><td>20</td><td>15</td><td>0</td><td>Manhã</td><td>moderado</td></tr>\n",
              "</tbody>\n",
              "</table>\n"
            ]
          },
          "metadata": {}
        }
      ]
    },
    {
      "cell_type": "markdown",
      "metadata": {
        "id": "VwOW4Git_zy4"
      },
      "source": [
        "**%>%** Pipe é utilizado de diversas formas, como atribuição de variáveis de forma dinâmica e concatenar funções."
      ]
    },
    {
      "cell_type": "markdown",
      "metadata": {
        "id": "qMNTn4uXBI5w"
      },
      "source": [
        "*Obs: no caso da utilização do pipe o primeiro parâmetro da função é retirado para fora da mesma."
      ]
    },
    {
      "cell_type": "code",
      "metadata": {
        "colab": {
          "base_uri": "https://localhost:8080/",
          "height": 192
        },
        "id": "3kgg1jiFANre",
        "outputId": "c78c555f-3176-4f9f-d651-f63fc9013368"
      },
      "source": [
        "base_renomeada <- dataset_inicial\n",
        "\n",
        "base_renomeada <- base_renomeada %>% rename(\n",
        "                    observacoes = 1,\n",
        "                    tempo = 2,\n",
        "                    distancia = 3,\n",
        "                    semaforos = 4,\n",
        "                    periodo = 5,\n",
        "                    perfil = 6)\n",
        "\n",
        "head(base_renomeada, n=3)"
      ],
      "execution_count": 57,
      "outputs": [
        {
          "output_type": "display_data",
          "data": {
            "text/plain": [
              "  observacoes tempo distancia semaforos periodo perfil  \n",
              "1 Gabriela    15     8        0         Manhã   calmo   \n",
              "2 Dalila      20     6        1         Manhã   moderado\n",
              "3 Gustavo     20    15        0         Manhã   moderado"
            ],
            "text/latex": "A tibble: 3 × 6\n\\begin{tabular}{llllll}\n observacoes & tempo & distancia & semaforos & periodo & perfil\\\\\n <chr> & <dbl> & <dbl> & <dbl> & <chr> & <chr>\\\\\n\\hline\n\t Gabriela & 15 &  8 & 0 & Manhã & calmo   \\\\\n\t Dalila   & 20 &  6 & 1 & Manhã & moderado\\\\\n\t Gustavo  & 20 & 15 & 0 & Manhã & moderado\\\\\n\\end{tabular}\n",
            "text/markdown": "\nA tibble: 3 × 6\n\n| observacoes &lt;chr&gt; | tempo &lt;dbl&gt; | distancia &lt;dbl&gt; | semaforos &lt;dbl&gt; | periodo &lt;chr&gt; | perfil &lt;chr&gt; |\n|---|---|---|---|---|---|\n| Gabriela | 15 |  8 | 0 | Manhã | calmo    |\n| Dalila   | 20 |  6 | 1 | Manhã | moderado |\n| Gustavo  | 20 | 15 | 0 | Manhã | moderado |\n\n",
            "text/html": [
              "<table class=\"dataframe\">\n",
              "<caption>A tibble: 3 × 6</caption>\n",
              "<thead>\n",
              "\t<tr><th scope=col>observacoes</th><th scope=col>tempo</th><th scope=col>distancia</th><th scope=col>semaforos</th><th scope=col>periodo</th><th scope=col>perfil</th></tr>\n",
              "\t<tr><th scope=col>&lt;chr&gt;</th><th scope=col>&lt;dbl&gt;</th><th scope=col>&lt;dbl&gt;</th><th scope=col>&lt;dbl&gt;</th><th scope=col>&lt;chr&gt;</th><th scope=col>&lt;chr&gt;</th></tr>\n",
              "</thead>\n",
              "<tbody>\n",
              "\t<tr><td>Gabriela</td><td>15</td><td> 8</td><td>0</td><td>Manhã</td><td>calmo   </td></tr>\n",
              "\t<tr><td>Dalila  </td><td>20</td><td> 6</td><td>1</td><td>Manhã</td><td>moderado</td></tr>\n",
              "\t<tr><td>Gustavo </td><td>20</td><td>15</td><td>0</td><td>Manhã</td><td>moderado</td></tr>\n",
              "</tbody>\n",
              "</table>\n"
            ]
          },
          "metadata": {}
        }
      ]
    },
    {
      "cell_type": "markdown",
      "metadata": {
        "id": "hqAGyHMxBX-M"
      },
      "source": [
        "**mutate** possui duas funcionalidades principais:\n",
        "\n",
        "1.   Incluir variáveis no dataset;\n",
        "2.   Transformar o conteudo das variáveis;\n",
        "\n"
      ]
    },
    {
      "cell_type": "code",
      "metadata": {
        "colab": {
          "base_uri": "https://localhost:8080/",
          "height": 286
        },
        "id": "Aa2WwGVdBYlK",
        "outputId": "37606df5-df1e-4f59-90aa-650b5aa8681e"
      },
      "source": [
        "nova_variavel = c(1,2,3,4,5,6,7,8,9,10)\n",
        "\n",
        "base_renomeada_adicionada <- mutate(base_renomeada,\n",
        "                                    nova_variavel, #<--Adicionando variável\n",
        "                                    tempo_double = tempo*2) #<--Adicionando coluna à partir da modificação de outra coluna\n",
        "\n",
        "head(base_renomeada_adicionada)\n",
        " "
      ],
      "execution_count": 61,
      "outputs": [
        {
          "output_type": "display_data",
          "data": {
            "text/plain": [
              "  observacoes tempo distancia semaforos periodo perfil    nova_variavel\n",
              "1 Gabriela    15     8        0         Manhã   calmo     1            \n",
              "2 Dalila      20     6        1         Manhã   moderado  2            \n",
              "3 Gustavo     20    15        0         Manhã   moderado  3            \n",
              "4 Letícia     40    20        1         Tarde   agressivo 4            \n",
              "5 Luiz Ovídio 50    25        2         Tarde   agressivo 5            \n",
              "6 Leonor      25    11        1         Manhã   moderado  6            \n",
              "  tempo_double\n",
              "1  30         \n",
              "2  40         \n",
              "3  40         \n",
              "4  80         \n",
              "5 100         \n",
              "6  50         "
            ],
            "text/latex": "A tibble: 6 × 8\n\\begin{tabular}{llllllll}\n observacoes & tempo & distancia & semaforos & periodo & perfil & nova\\_variavel & tempo\\_double\\\\\n <chr> & <dbl> & <dbl> & <dbl> & <chr> & <chr> & <dbl> & <dbl>\\\\\n\\hline\n\t Gabriela    & 15 &  8 & 0 & Manhã & calmo     & 1 &  30\\\\\n\t Dalila      & 20 &  6 & 1 & Manhã & moderado  & 2 &  40\\\\\n\t Gustavo     & 20 & 15 & 0 & Manhã & moderado  & 3 &  40\\\\\n\t Letícia     & 40 & 20 & 1 & Tarde & agressivo & 4 &  80\\\\\n\t Luiz Ovídio & 50 & 25 & 2 & Tarde & agressivo & 5 & 100\\\\\n\t Leonor      & 25 & 11 & 1 & Manhã & moderado  & 6 &  50\\\\\n\\end{tabular}\n",
            "text/markdown": "\nA tibble: 6 × 8\n\n| observacoes &lt;chr&gt; | tempo &lt;dbl&gt; | distancia &lt;dbl&gt; | semaforos &lt;dbl&gt; | periodo &lt;chr&gt; | perfil &lt;chr&gt; | nova_variavel &lt;dbl&gt; | tempo_double &lt;dbl&gt; |\n|---|---|---|---|---|---|---|---|\n| Gabriela    | 15 |  8 | 0 | Manhã | calmo     | 1 |  30 |\n| Dalila      | 20 |  6 | 1 | Manhã | moderado  | 2 |  40 |\n| Gustavo     | 20 | 15 | 0 | Manhã | moderado  | 3 |  40 |\n| Letícia     | 40 | 20 | 1 | Tarde | agressivo | 4 |  80 |\n| Luiz Ovídio | 50 | 25 | 2 | Tarde | agressivo | 5 | 100 |\n| Leonor      | 25 | 11 | 1 | Manhã | moderado  | 6 |  50 |\n\n",
            "text/html": [
              "<table class=\"dataframe\">\n",
              "<caption>A tibble: 6 × 8</caption>\n",
              "<thead>\n",
              "\t<tr><th scope=col>observacoes</th><th scope=col>tempo</th><th scope=col>distancia</th><th scope=col>semaforos</th><th scope=col>periodo</th><th scope=col>perfil</th><th scope=col>nova_variavel</th><th scope=col>tempo_double</th></tr>\n",
              "\t<tr><th scope=col>&lt;chr&gt;</th><th scope=col>&lt;dbl&gt;</th><th scope=col>&lt;dbl&gt;</th><th scope=col>&lt;dbl&gt;</th><th scope=col>&lt;chr&gt;</th><th scope=col>&lt;chr&gt;</th><th scope=col>&lt;dbl&gt;</th><th scope=col>&lt;dbl&gt;</th></tr>\n",
              "</thead>\n",
              "<tbody>\n",
              "\t<tr><td>Gabriela   </td><td>15</td><td> 8</td><td>0</td><td>Manhã</td><td>calmo    </td><td>1</td><td> 30</td></tr>\n",
              "\t<tr><td>Dalila     </td><td>20</td><td> 6</td><td>1</td><td>Manhã</td><td>moderado </td><td>2</td><td> 40</td></tr>\n",
              "\t<tr><td>Gustavo    </td><td>20</td><td>15</td><td>0</td><td>Manhã</td><td>moderado </td><td>3</td><td> 40</td></tr>\n",
              "\t<tr><td>Letícia    </td><td>40</td><td>20</td><td>1</td><td>Tarde</td><td>agressivo</td><td>4</td><td> 80</td></tr>\n",
              "\t<tr><td>Luiz Ovídio</td><td>50</td><td>25</td><td>2</td><td>Tarde</td><td>agressivo</td><td>5</td><td>100</td></tr>\n",
              "\t<tr><td>Leonor     </td><td>25</td><td>11</td><td>1</td><td>Manhã</td><td>moderado </td><td>6</td><td> 50</td></tr>\n",
              "</tbody>\n",
              "</table>\n"
            ]
          },
          "metadata": {}
        }
      ]
    },
    {
      "cell_type": "markdown",
      "metadata": {
        "id": "dR8fKU-rD4Jb"
      },
      "source": [
        "**rename** e **mutate** combinados por **pipe**"
      ]
    },
    {
      "cell_type": "code",
      "metadata": {
        "colab": {
          "base_uri": "https://localhost:8080/",
          "height": 286
        },
        "id": "zwSlXw1UEGXi",
        "outputId": "0cc1a0fa-fa4b-4e6a-9e3d-7c1bedd56673"
      },
      "source": [
        "nova_variavel = c(1,2,3,4,5,6,7,8,9,10)\n",
        "\n",
        "base_renomeada_modificada <- base_renomeada %>% rename(obs = observacoes,\n",
        "                     temp = tempo,\n",
        "                     dist = distancia,\n",
        "                     sem = semaforos,\n",
        "                     per = periodo,\n",
        "                     perf = perfil) %>% \n",
        "              mutate(nova_variavel,\n",
        "                     temp_double = temp*2) \n",
        "\n",
        "head(base_renomeada_modificada)"
      ],
      "execution_count": 63,
      "outputs": [
        {
          "output_type": "display_data",
          "data": {
            "text/plain": [
              "  obs         temp dist sem per   perf      nova_variavel temp_double\n",
              "1 Gabriela    15    8   0   Manhã calmo     1              30        \n",
              "2 Dalila      20    6   1   Manhã moderado  2              40        \n",
              "3 Gustavo     20   15   0   Manhã moderado  3              40        \n",
              "4 Letícia     40   20   1   Tarde agressivo 4              80        \n",
              "5 Luiz Ovídio 50   25   2   Tarde agressivo 5             100        \n",
              "6 Leonor      25   11   1   Manhã moderado  6              50        "
            ],
            "text/latex": "A tibble: 6 × 8\n\\begin{tabular}{llllllll}\n obs & temp & dist & sem & per & perf & nova\\_variavel & temp\\_double\\\\\n <chr> & <dbl> & <dbl> & <dbl> & <chr> & <chr> & <dbl> & <dbl>\\\\\n\\hline\n\t Gabriela    & 15 &  8 & 0 & Manhã & calmo     & 1 &  30\\\\\n\t Dalila      & 20 &  6 & 1 & Manhã & moderado  & 2 &  40\\\\\n\t Gustavo     & 20 & 15 & 0 & Manhã & moderado  & 3 &  40\\\\\n\t Letícia     & 40 & 20 & 1 & Tarde & agressivo & 4 &  80\\\\\n\t Luiz Ovídio & 50 & 25 & 2 & Tarde & agressivo & 5 & 100\\\\\n\t Leonor      & 25 & 11 & 1 & Manhã & moderado  & 6 &  50\\\\\n\\end{tabular}\n",
            "text/markdown": "\nA tibble: 6 × 8\n\n| obs &lt;chr&gt; | temp &lt;dbl&gt; | dist &lt;dbl&gt; | sem &lt;dbl&gt; | per &lt;chr&gt; | perf &lt;chr&gt; | nova_variavel &lt;dbl&gt; | temp_double &lt;dbl&gt; |\n|---|---|---|---|---|---|---|---|\n| Gabriela    | 15 |  8 | 0 | Manhã | calmo     | 1 |  30 |\n| Dalila      | 20 |  6 | 1 | Manhã | moderado  | 2 |  40 |\n| Gustavo     | 20 | 15 | 0 | Manhã | moderado  | 3 |  40 |\n| Letícia     | 40 | 20 | 1 | Tarde | agressivo | 4 |  80 |\n| Luiz Ovídio | 50 | 25 | 2 | Tarde | agressivo | 5 | 100 |\n| Leonor      | 25 | 11 | 1 | Manhã | moderado  | 6 |  50 |\n\n",
            "text/html": [
              "<table class=\"dataframe\">\n",
              "<caption>A tibble: 6 × 8</caption>\n",
              "<thead>\n",
              "\t<tr><th scope=col>obs</th><th scope=col>temp</th><th scope=col>dist</th><th scope=col>sem</th><th scope=col>per</th><th scope=col>perf</th><th scope=col>nova_variavel</th><th scope=col>temp_double</th></tr>\n",
              "\t<tr><th scope=col>&lt;chr&gt;</th><th scope=col>&lt;dbl&gt;</th><th scope=col>&lt;dbl&gt;</th><th scope=col>&lt;dbl&gt;</th><th scope=col>&lt;chr&gt;</th><th scope=col>&lt;chr&gt;</th><th scope=col>&lt;dbl&gt;</th><th scope=col>&lt;dbl&gt;</th></tr>\n",
              "</thead>\n",
              "<tbody>\n",
              "\t<tr><td>Gabriela   </td><td>15</td><td> 8</td><td>0</td><td>Manhã</td><td>calmo    </td><td>1</td><td> 30</td></tr>\n",
              "\t<tr><td>Dalila     </td><td>20</td><td> 6</td><td>1</td><td>Manhã</td><td>moderado </td><td>2</td><td> 40</td></tr>\n",
              "\t<tr><td>Gustavo    </td><td>20</td><td>15</td><td>0</td><td>Manhã</td><td>moderado </td><td>3</td><td> 40</td></tr>\n",
              "\t<tr><td>Letícia    </td><td>40</td><td>20</td><td>1</td><td>Tarde</td><td>agressivo</td><td>4</td><td> 80</td></tr>\n",
              "\t<tr><td>Luiz Ovídio</td><td>50</td><td>25</td><td>2</td><td>Tarde</td><td>agressivo</td><td>5</td><td>100</td></tr>\n",
              "\t<tr><td>Leonor     </td><td>25</td><td>11</td><td>1</td><td>Manhã</td><td>moderado </td><td>6</td><td> 50</td></tr>\n",
              "</tbody>\n",
              "</table>\n"
            ]
          },
          "metadata": {}
        }
      ]
    },
    {
      "cell_type": "markdown",
      "metadata": {
        "id": "rUYd45MKJgf1"
      },
      "source": [
        "**[ ]** seleção para remover variáveis do dataset"
      ]
    },
    {
      "cell_type": "code",
      "metadata": {
        "colab": {
          "base_uri": "https://localhost:8080/",
          "height": 192
        },
        "id": "1beRGNxgJgqr",
        "outputId": "77f27af0-1cd9-404d-94de-4b9f64c91922"
      },
      "source": [
        "base_renomeada_excluida <- base_renomeada[,-c(1)] #<-- Exclui a variável pela ordem\n",
        "head(base_renomeada_excluida, n=3)"
      ],
      "execution_count": 83,
      "outputs": [
        {
          "output_type": "display_data",
          "data": {
            "text/plain": [
              "  tempo distancia semaforos periodo perfil  \n",
              "1 15     8        0         Manhã   calmo   \n",
              "2 20     6        1         Manhã   moderado\n",
              "3 20    15        0         Manhã   moderado"
            ],
            "text/latex": "A tibble: 3 × 5\n\\begin{tabular}{lllll}\n tempo & distancia & semaforos & periodo & perfil\\\\\n <dbl> & <dbl> & <dbl> & <chr> & <chr>\\\\\n\\hline\n\t 15 &  8 & 0 & Manhã & calmo   \\\\\n\t 20 &  6 & 1 & Manhã & moderado\\\\\n\t 20 & 15 & 0 & Manhã & moderado\\\\\n\\end{tabular}\n",
            "text/markdown": "\nA tibble: 3 × 5\n\n| tempo &lt;dbl&gt; | distancia &lt;dbl&gt; | semaforos &lt;dbl&gt; | periodo &lt;chr&gt; | perfil &lt;chr&gt; |\n|---|---|---|---|---|\n| 15 |  8 | 0 | Manhã | calmo    |\n| 20 |  6 | 1 | Manhã | moderado |\n| 20 | 15 | 0 | Manhã | moderado |\n\n",
            "text/html": [
              "<table class=\"dataframe\">\n",
              "<caption>A tibble: 3 × 5</caption>\n",
              "<thead>\n",
              "\t<tr><th scope=col>tempo</th><th scope=col>distancia</th><th scope=col>semaforos</th><th scope=col>periodo</th><th scope=col>perfil</th></tr>\n",
              "\t<tr><th scope=col>&lt;dbl&gt;</th><th scope=col>&lt;dbl&gt;</th><th scope=col>&lt;dbl&gt;</th><th scope=col>&lt;chr&gt;</th><th scope=col>&lt;chr&gt;</th></tr>\n",
              "</thead>\n",
              "<tbody>\n",
              "\t<tr><td>15</td><td> 8</td><td>0</td><td>Manhã</td><td>calmo   </td></tr>\n",
              "\t<tr><td>20</td><td> 6</td><td>1</td><td>Manhã</td><td>moderado</td></tr>\n",
              "\t<tr><td>20</td><td>15</td><td>0</td><td>Manhã</td><td>moderado</td></tr>\n",
              "</tbody>\n",
              "</table>\n"
            ]
          },
          "metadata": {}
        }
      ]
    },
    {
      "cell_type": "code",
      "metadata": {
        "colab": {
          "base_uri": "https://localhost:8080/",
          "height": 255
        },
        "id": "BTo2N7mTX0eC",
        "outputId": "a592d0eb-91d6-440a-8e63-24713c5f631c"
      },
      "source": [
        "base_renomeada_extraida <- base_renomeada[3:7, 1:2] #<-- Extraida linha 3 a 7 das colunas 1 a 2\n",
        "base_renomeada_extraida"
      ],
      "execution_count": 130,
      "outputs": [
        {
          "output_type": "display_data",
          "data": {
            "text/plain": [
              "  observacoes tempo\n",
              "1 Gustavo     20   \n",
              "2 Letícia     40   \n",
              "3 Luiz Ovídio 50   \n",
              "4 Leonor      25   \n",
              "5 Ana         10   "
            ],
            "text/latex": "A tibble: 5 × 2\n\\begin{tabular}{ll}\n observacoes & tempo\\\\\n <chr> & <dbl>\\\\\n\\hline\n\t Gustavo     & 20\\\\\n\t Letícia     & 40\\\\\n\t Luiz Ovídio & 50\\\\\n\t Leonor      & 25\\\\\n\t Ana         & 10\\\\\n\\end{tabular}\n",
            "text/markdown": "\nA tibble: 5 × 2\n\n| observacoes &lt;chr&gt; | tempo &lt;dbl&gt; |\n|---|---|\n| Gustavo     | 20 |\n| Letícia     | 40 |\n| Luiz Ovídio | 50 |\n| Leonor      | 25 |\n| Ana         | 10 |\n\n",
            "text/html": [
              "<table class=\"dataframe\">\n",
              "<caption>A tibble: 5 × 2</caption>\n",
              "<thead>\n",
              "\t<tr><th scope=col>observacoes</th><th scope=col>tempo</th></tr>\n",
              "\t<tr><th scope=col>&lt;chr&gt;</th><th scope=col>&lt;dbl&gt;</th></tr>\n",
              "</thead>\n",
              "<tbody>\n",
              "\t<tr><td>Gustavo    </td><td>20</td></tr>\n",
              "\t<tr><td>Letícia    </td><td>40</td></tr>\n",
              "\t<tr><td>Luiz Ovídio</td><td>50</td></tr>\n",
              "\t<tr><td>Leonor     </td><td>25</td></tr>\n",
              "\t<tr><td>Ana        </td><td>10</td></tr>\n",
              "</tbody>\n",
              "</table>\n"
            ]
          },
          "metadata": {}
        }
      ]
    },
    {
      "cell_type": "markdown",
      "metadata": {
        "id": "W4W5-IopX0Qq"
      },
      "source": [
        ""
      ]
    },
    {
      "cell_type": "markdown",
      "metadata": {
        "id": "mchVUBVzFkb_"
      },
      "source": [
        "###Visualização Dataset Detalhada"
      ]
    },
    {
      "cell_type": "code",
      "metadata": {
        "id": "H2-cMMwXGxAf"
      },
      "source": [
        "base_covid <- dataset_csv %>% rename(nome = 1,\n",
        "                                    regiao = 2,\n",
        "                                    casos_total = 3,\n",
        "                                    casos_relativo = 4,\n",
        "                                    casos_semana = 5,\n",
        "                                    casos_semana_relativo = 6,\n",
        "                                    casos_dia = 7,\n",
        "                                    mortes_total = 8,\n",
        "                                    mortes_relativo = 9,\n",
        "                                    mortes_semana = 10,\n",
        "                                    mortes_semana_relativo = 11,\n",
        "                                    mortes_dia = 12,\n",
        "                                    tipo_transmissao = 13)"
      ],
      "execution_count": 69,
      "outputs": []
    },
    {
      "cell_type": "markdown",
      "metadata": {
        "id": "G5gTd6PWGJQX"
      },
      "source": [
        "**table** Define uma vizualização e contabilização em formato de tabela, podendo realizar alterções através de parâmetros da função."
      ]
    },
    {
      "cell_type": "code",
      "metadata": {
        "colab": {
          "base_uri": "https://localhost:8080/",
          "height": 139
        },
        "id": "GxoVkSIqGpm0",
        "outputId": "c83eeb04-744f-4ee2-8c2d-08ac82125551"
      },
      "source": [
        "table(base_covid$tipo_transmissao)"
      ],
      "execution_count": 70,
      "outputs": [
        {
          "output_type": "display_data",
          "data": {
            "text/plain": [
              "\n",
              "                            Clusters of cases Community transmission \n",
              "                     1                     39                    151 \n",
              "              No cases         Not applicable                Pending \n",
              "                    23                      1                      3 \n",
              "        Sporadic cases \n",
              "                    20 "
            ]
          },
          "metadata": {}
        }
      ]
    },
    {
      "cell_type": "markdown",
      "metadata": {
        "id": "wbtMxbs8Hlkh"
      },
      "source": [
        "**unique** Informa os casos únicos da variável selecionada, sem a contagem como vista na função table."
      ]
    },
    {
      "cell_type": "code",
      "metadata": {
        "colab": {
          "base_uri": "https://localhost:8080/",
          "height": 34
        },
        "id": "C_sq2EFkI0Lf",
        "outputId": "0dfd3969-3e5e-4f76-e676-3b48641569ff"
      },
      "source": [
        "unique(base_covid$tipo_transmissao)"
      ],
      "execution_count": 71,
      "outputs": [
        {
          "output_type": "display_data",
          "data": {
            "text/plain": [
              "[1] \"\"                       \"Community transmission\" \"Clusters of cases\"     \n",
              "[4] \"Sporadic cases\"         \"Pending\"                \"No cases\"              \n",
              "[7] \"Not applicable\"        "
            ],
            "text/latex": "\\begin{enumerate*}\n\\item ''\n\\item 'Community transmission'\n\\item 'Clusters of cases'\n\\item 'Sporadic cases'\n\\item 'Pending'\n\\item 'No cases'\n\\item 'Not applicable'\n\\end{enumerate*}\n",
            "text/markdown": "1. ''\n2. 'Community transmission'\n3. 'Clusters of cases'\n4. 'Sporadic cases'\n5. 'Pending'\n6. 'No cases'\n7. 'Not applicable'\n\n\n",
            "text/html": [
              "<style>\n",
              ".list-inline {list-style: none; margin:0; padding: 0}\n",
              ".list-inline>li {display: inline-block}\n",
              ".list-inline>li:not(:last-child)::after {content: \"\\00b7\"; padding: 0 .5ex}\n",
              "</style>\n",
              "<ol class=list-inline><li>''</li><li>'Community transmission'</li><li>'Clusters of cases'</li><li>'Sporadic cases'</li><li>'Pending'</li><li>'No cases'</li><li>'Not applicable'</li></ol>\n"
            ]
          },
          "metadata": {}
        }
      ]
    },
    {
      "cell_type": "markdown",
      "metadata": {
        "id": "Y24-ew49Tntf"
      },
      "source": [
        "**recode** com o mutate é utilizado para modificações das variáveis podendo trocar detalhes dos valores."
      ]
    },
    {
      "cell_type": "code",
      "metadata": {
        "colab": {
          "base_uri": "https://localhost:8080/",
          "height": 255
        },
        "id": "b737uFGXUXXA",
        "outputId": "4f36448a-fbdf-4ef3-8ce5-8adfc475161d"
      },
      "source": [
        "base_renomeada_recode <- mutate(base_renomeada, perfil_en = recode(base_renomeada$perfil,\n",
        "                                \"calmo\" = \"easy\",\n",
        "                                \"moderado\" = \"medium\",\n",
        "                                \"agressivo\" = \"hard\"))\n",
        "head(base_renomeada_recode, n=5)"
      ],
      "execution_count": 125,
      "outputs": [
        {
          "output_type": "display_data",
          "data": {
            "text/plain": [
              "  observacoes tempo distancia semaforos periodo perfil    perfil_en\n",
              "1 Gabriela    15     8        0         Manhã   calmo     easy     \n",
              "2 Dalila      20     6        1         Manhã   moderado  medium   \n",
              "3 Gustavo     20    15        0         Manhã   moderado  medium   \n",
              "4 Letícia     40    20        1         Tarde   agressivo hard     \n",
              "5 Luiz Ovídio 50    25        2         Tarde   agressivo hard     "
            ],
            "text/latex": "A tibble: 5 × 7\n\\begin{tabular}{lllllll}\n observacoes & tempo & distancia & semaforos & periodo & perfil & perfil\\_en\\\\\n <chr> & <dbl> & <dbl> & <dbl> & <chr> & <chr> & <chr>\\\\\n\\hline\n\t Gabriela    & 15 &  8 & 0 & Manhã & calmo     & easy  \\\\\n\t Dalila      & 20 &  6 & 1 & Manhã & moderado  & medium\\\\\n\t Gustavo     & 20 & 15 & 0 & Manhã & moderado  & medium\\\\\n\t Letícia     & 40 & 20 & 1 & Tarde & agressivo & hard  \\\\\n\t Luiz Ovídio & 50 & 25 & 2 & Tarde & agressivo & hard  \\\\\n\\end{tabular}\n",
            "text/markdown": "\nA tibble: 5 × 7\n\n| observacoes &lt;chr&gt; | tempo &lt;dbl&gt; | distancia &lt;dbl&gt; | semaforos &lt;dbl&gt; | periodo &lt;chr&gt; | perfil &lt;chr&gt; | perfil_en &lt;chr&gt; |\n|---|---|---|---|---|---|---|\n| Gabriela    | 15 |  8 | 0 | Manhã | calmo     | easy   |\n| Dalila      | 20 |  6 | 1 | Manhã | moderado  | medium |\n| Gustavo     | 20 | 15 | 0 | Manhã | moderado  | medium |\n| Letícia     | 40 | 20 | 1 | Tarde | agressivo | hard   |\n| Luiz Ovídio | 50 | 25 | 2 | Tarde | agressivo | hard   |\n\n",
            "text/html": [
              "<table class=\"dataframe\">\n",
              "<caption>A tibble: 5 × 7</caption>\n",
              "<thead>\n",
              "\t<tr><th scope=col>observacoes</th><th scope=col>tempo</th><th scope=col>distancia</th><th scope=col>semaforos</th><th scope=col>periodo</th><th scope=col>perfil</th><th scope=col>perfil_en</th></tr>\n",
              "\t<tr><th scope=col>&lt;chr&gt;</th><th scope=col>&lt;dbl&gt;</th><th scope=col>&lt;dbl&gt;</th><th scope=col>&lt;dbl&gt;</th><th scope=col>&lt;chr&gt;</th><th scope=col>&lt;chr&gt;</th><th scope=col>&lt;chr&gt;</th></tr>\n",
              "</thead>\n",
              "<tbody>\n",
              "\t<tr><td>Gabriela   </td><td>15</td><td> 8</td><td>0</td><td>Manhã</td><td>calmo    </td><td>easy  </td></tr>\n",
              "\t<tr><td>Dalila     </td><td>20</td><td> 6</td><td>1</td><td>Manhã</td><td>moderado </td><td>medium</td></tr>\n",
              "\t<tr><td>Gustavo    </td><td>20</td><td>15</td><td>0</td><td>Manhã</td><td>moderado </td><td>medium</td></tr>\n",
              "\t<tr><td>Letícia    </td><td>40</td><td>20</td><td>1</td><td>Tarde</td><td>agressivo</td><td>hard  </td></tr>\n",
              "\t<tr><td>Luiz Ovídio</td><td>50</td><td>25</td><td>2</td><td>Tarde</td><td>agressivo</td><td>hard  </td></tr>\n",
              "</tbody>\n",
              "</table>\n"
            ]
          },
          "metadata": {}
        }
      ]
    },
    {
      "cell_type": "markdown",
      "metadata": {
        "id": "az0HJFCMV5H6"
      },
      "source": [
        "**transmute** inclui variáveis no dataset, excluindo as existentes, é necessário informar quais variáveis devem permanecer"
      ]
    },
    {
      "cell_type": "code",
      "metadata": {
        "colab": {
          "base_uri": "https://localhost:8080/",
          "height": 192
        },
        "id": "kRG29AdyV0a2",
        "outputId": "f287a12b-040b-4421-b95a-66ee926c72b5"
      },
      "source": [
        "base_transmute <- transmute(base_renomeada, observacoes, tempo)\n",
        "\n",
        "head(base_transmute, n=3)"
      ],
      "execution_count": 127,
      "outputs": [
        {
          "output_type": "display_data",
          "data": {
            "text/plain": [
              "  observacoes tempo\n",
              "1 Gabriela    15   \n",
              "2 Dalila      20   \n",
              "3 Gustavo     20   "
            ],
            "text/latex": "A tibble: 3 × 2\n\\begin{tabular}{ll}\n observacoes & tempo\\\\\n <chr> & <dbl>\\\\\n\\hline\n\t Gabriela & 15\\\\\n\t Dalila   & 20\\\\\n\t Gustavo  & 20\\\\\n\\end{tabular}\n",
            "text/markdown": "\nA tibble: 3 × 2\n\n| observacoes &lt;chr&gt; | tempo &lt;dbl&gt; |\n|---|---|\n| Gabriela | 15 |\n| Dalila   | 20 |\n| Gustavo  | 20 |\n\n",
            "text/html": [
              "<table class=\"dataframe\">\n",
              "<caption>A tibble: 3 × 2</caption>\n",
              "<thead>\n",
              "\t<tr><th scope=col>observacoes</th><th scope=col>tempo</th></tr>\n",
              "\t<tr><th scope=col>&lt;chr&gt;</th><th scope=col>&lt;dbl&gt;</th></tr>\n",
              "</thead>\n",
              "<tbody>\n",
              "\t<tr><td>Gabriela</td><td>15</td></tr>\n",
              "\t<tr><td>Dalila  </td><td>20</td></tr>\n",
              "\t<tr><td>Gustavo </td><td>20</td></tr>\n",
              "</tbody>\n",
              "</table>\n"
            ]
          },
          "metadata": {}
        }
      ]
    },
    {
      "cell_type": "markdown",
      "metadata": {
        "id": "drBBfwzVXrv1"
      },
      "source": [
        "**select** seleciona parte do Dataset."
      ]
    },
    {
      "cell_type": "code",
      "metadata": {
        "colab": {
          "base_uri": "https://localhost:8080/",
          "height": 192
        },
        "id": "_IgS_at0XsXs",
        "outputId": "1953ebe9-ba00-4045-8129-2b78183cf0d7"
      },
      "source": [
        "base_select <- select(base_renomeada, observacoes, tempo)\n",
        "head(base_select, n=3)"
      ],
      "execution_count": 131,
      "outputs": [
        {
          "output_type": "display_data",
          "data": {
            "text/plain": [
              "  observacoes tempo\n",
              "1 Gabriela    15   \n",
              "2 Dalila      20   \n",
              "3 Gustavo     20   "
            ],
            "text/latex": "A tibble: 3 × 2\n\\begin{tabular}{ll}\n observacoes & tempo\\\\\n <chr> & <dbl>\\\\\n\\hline\n\t Gabriela & 15\\\\\n\t Dalila   & 20\\\\\n\t Gustavo  & 20\\\\\n\\end{tabular}\n",
            "text/markdown": "\nA tibble: 3 × 2\n\n| observacoes &lt;chr&gt; | tempo &lt;dbl&gt; |\n|---|---|\n| Gabriela | 15 |\n| Dalila   | 20 |\n| Gustavo  | 20 |\n\n",
            "text/html": [
              "<table class=\"dataframe\">\n",
              "<caption>A tibble: 3 × 2</caption>\n",
              "<thead>\n",
              "\t<tr><th scope=col>observacoes</th><th scope=col>tempo</th></tr>\n",
              "\t<tr><th scope=col>&lt;chr&gt;</th><th scope=col>&lt;dbl&gt;</th></tr>\n",
              "</thead>\n",
              "<tbody>\n",
              "\t<tr><td>Gabriela</td><td>15</td></tr>\n",
              "\t<tr><td>Dalila  </td><td>20</td></tr>\n",
              "\t<tr><td>Gustavo </td><td>20</td></tr>\n",
              "</tbody>\n",
              "</table>\n"
            ]
          },
          "metadata": {}
        }
      ]
    },
    {
      "cell_type": "code",
      "metadata": {
        "colab": {
          "base_uri": "https://localhost:8080/",
          "height": 192
        },
        "id": "lvwTNc7vYokB",
        "outputId": "852f74ef-b610-49f5-983a-c3ab448289c7"
      },
      "source": [
        "base_select <- select(base_renomeada,  everything(), -perfil, -tempo)\n",
        "head(base_select, n=3)"
      ],
      "execution_count": 133,
      "outputs": [
        {
          "output_type": "display_data",
          "data": {
            "text/plain": [
              "  observacoes distancia semaforos periodo\n",
              "1 Gabriela     8        0         Manhã  \n",
              "2 Dalila       6        1         Manhã  \n",
              "3 Gustavo     15        0         Manhã  "
            ],
            "text/latex": "A tibble: 3 × 4\n\\begin{tabular}{llll}\n observacoes & distancia & semaforos & periodo\\\\\n <chr> & <dbl> & <dbl> & <chr>\\\\\n\\hline\n\t Gabriela &  8 & 0 & Manhã\\\\\n\t Dalila   &  6 & 1 & Manhã\\\\\n\t Gustavo  & 15 & 0 & Manhã\\\\\n\\end{tabular}\n",
            "text/markdown": "\nA tibble: 3 × 4\n\n| observacoes &lt;chr&gt; | distancia &lt;dbl&gt; | semaforos &lt;dbl&gt; | periodo &lt;chr&gt; |\n|---|---|---|---|\n| Gabriela |  8 | 0 | Manhã |\n| Dalila   |  6 | 1 | Manhã |\n| Gustavo  | 15 | 0 | Manhã |\n\n",
            "text/html": [
              "<table class=\"dataframe\">\n",
              "<caption>A tibble: 3 × 4</caption>\n",
              "<thead>\n",
              "\t<tr><th scope=col>observacoes</th><th scope=col>distancia</th><th scope=col>semaforos</th><th scope=col>periodo</th></tr>\n",
              "\t<tr><th scope=col>&lt;chr&gt;</th><th scope=col>&lt;dbl&gt;</th><th scope=col>&lt;dbl&gt;</th><th scope=col>&lt;chr&gt;</th></tr>\n",
              "</thead>\n",
              "<tbody>\n",
              "\t<tr><td>Gabriela</td><td> 8</td><td>0</td><td>Manhã</td></tr>\n",
              "\t<tr><td>Dalila  </td><td> 6</td><td>1</td><td>Manhã</td></tr>\n",
              "\t<tr><td>Gustavo </td><td>15</td><td>0</td><td>Manhã</td></tr>\n",
              "</tbody>\n",
              "</table>\n"
            ]
          },
          "metadata": {}
        }
      ]
    },
    {
      "cell_type": "code",
      "metadata": {
        "colab": {
          "base_uri": "https://localhost:8080/",
          "height": 192
        },
        "id": "2bWX5-rsY4uy",
        "outputId": "44907c6f-82b2-4c88-8174-8bec2454eb2c"
      },
      "source": [
        "base_select <- select(base_renomeada, observacoes:distancia)\n",
        "head(base_select, n=3)"
      ],
      "execution_count": 134,
      "outputs": [
        {
          "output_type": "display_data",
          "data": {
            "text/plain": [
              "  observacoes tempo distancia\n",
              "1 Gabriela    15     8       \n",
              "2 Dalila      20     6       \n",
              "3 Gustavo     20    15       "
            ],
            "text/latex": "A tibble: 3 × 3\n\\begin{tabular}{lll}\n observacoes & tempo & distancia\\\\\n <chr> & <dbl> & <dbl>\\\\\n\\hline\n\t Gabriela & 15 &  8\\\\\n\t Dalila   & 20 &  6\\\\\n\t Gustavo  & 20 & 15\\\\\n\\end{tabular}\n",
            "text/markdown": "\nA tibble: 3 × 3\n\n| observacoes &lt;chr&gt; | tempo &lt;dbl&gt; | distancia &lt;dbl&gt; |\n|---|---|---|\n| Gabriela | 15 |  8 |\n| Dalila   | 20 |  6 |\n| Gustavo  | 20 | 15 |\n\n",
            "text/html": [
              "<table class=\"dataframe\">\n",
              "<caption>A tibble: 3 × 3</caption>\n",
              "<thead>\n",
              "\t<tr><th scope=col>observacoes</th><th scope=col>tempo</th><th scope=col>distancia</th></tr>\n",
              "\t<tr><th scope=col>&lt;chr&gt;</th><th scope=col>&lt;dbl&gt;</th><th scope=col>&lt;dbl&gt;</th></tr>\n",
              "</thead>\n",
              "<tbody>\n",
              "\t<tr><td>Gabriela</td><td>15</td><td> 8</td></tr>\n",
              "\t<tr><td>Dalila  </td><td>20</td><td> 6</td></tr>\n",
              "\t<tr><td>Gustavo </td><td>20</td><td>15</td></tr>\n",
              "</tbody>\n",
              "</table>\n"
            ]
          },
          "metadata": {}
        }
      ]
    },
    {
      "cell_type": "code",
      "metadata": {
        "colab": {
          "base_uri": "https://localhost:8080/",
          "height": 192
        },
        "id": "9g8fOfgXY5xn",
        "outputId": "02e9c998-c149-47a1-9ebb-8a6eb1f0714c"
      },
      "source": [
        "base_select <- select(base_renomeada, starts_with(\"p\"))\n",
        "head(base_select, n=3)"
      ],
      "execution_count": 135,
      "outputs": [
        {
          "output_type": "display_data",
          "data": {
            "text/plain": [
              "  periodo perfil  \n",
              "1 Manhã   calmo   \n",
              "2 Manhã   moderado\n",
              "3 Manhã   moderado"
            ],
            "text/latex": "A tibble: 3 × 2\n\\begin{tabular}{ll}\n periodo & perfil\\\\\n <chr> & <chr>\\\\\n\\hline\n\t Manhã & calmo   \\\\\n\t Manhã & moderado\\\\\n\t Manhã & moderado\\\\\n\\end{tabular}\n",
            "text/markdown": "\nA tibble: 3 × 2\n\n| periodo &lt;chr&gt; | perfil &lt;chr&gt; |\n|---|---|\n| Manhã | calmo    |\n| Manhã | moderado |\n| Manhã | moderado |\n\n",
            "text/html": [
              "<table class=\"dataframe\">\n",
              "<caption>A tibble: 3 × 2</caption>\n",
              "<thead>\n",
              "\t<tr><th scope=col>periodo</th><th scope=col>perfil</th></tr>\n",
              "\t<tr><th scope=col>&lt;chr&gt;</th><th scope=col>&lt;chr&gt;</th></tr>\n",
              "</thead>\n",
              "<tbody>\n",
              "\t<tr><td>Manhã</td><td>calmo   </td></tr>\n",
              "\t<tr><td>Manhã</td><td>moderado</td></tr>\n",
              "\t<tr><td>Manhã</td><td>moderado</td></tr>\n",
              "</tbody>\n",
              "</table>\n"
            ]
          },
          "metadata": {}
        }
      ]
    },
    {
      "cell_type": "markdown",
      "metadata": {
        "id": "kHhKeB2iZHpt"
      },
      "source": [
        "**relocate** reordena as variáveis."
      ]
    },
    {
      "cell_type": "code",
      "metadata": {
        "colab": {
          "base_uri": "https://localhost:8080/",
          "height": 192
        },
        "id": "7V4-VMGYZG6c",
        "outputId": "1d293e4d-10dc-4e77-bba1-79bb7f000c1c"
      },
      "source": [
        "base_relocate <- relocate(base_renomeada, perfil, .after = observacoes)\n",
        "head(base_relocate, n=3)"
      ],
      "execution_count": 140,
      "outputs": [
        {
          "output_type": "display_data",
          "data": {
            "text/plain": [
              "  observacoes perfil   tempo distancia semaforos periodo\n",
              "1 Gabriela    calmo    15     8        0         Manhã  \n",
              "2 Dalila      moderado 20     6        1         Manhã  \n",
              "3 Gustavo     moderado 20    15        0         Manhã  "
            ],
            "text/latex": "A tibble: 3 × 6\n\\begin{tabular}{llllll}\n observacoes & perfil & tempo & distancia & semaforos & periodo\\\\\n <chr> & <chr> & <dbl> & <dbl> & <dbl> & <chr>\\\\\n\\hline\n\t Gabriela & calmo    & 15 &  8 & 0 & Manhã\\\\\n\t Dalila   & moderado & 20 &  6 & 1 & Manhã\\\\\n\t Gustavo  & moderado & 20 & 15 & 0 & Manhã\\\\\n\\end{tabular}\n",
            "text/markdown": "\nA tibble: 3 × 6\n\n| observacoes &lt;chr&gt; | perfil &lt;chr&gt; | tempo &lt;dbl&gt; | distancia &lt;dbl&gt; | semaforos &lt;dbl&gt; | periodo &lt;chr&gt; |\n|---|---|---|---|---|---|\n| Gabriela | calmo    | 15 |  8 | 0 | Manhã |\n| Dalila   | moderado | 20 |  6 | 1 | Manhã |\n| Gustavo  | moderado | 20 | 15 | 0 | Manhã |\n\n",
            "text/html": [
              "<table class=\"dataframe\">\n",
              "<caption>A tibble: 3 × 6</caption>\n",
              "<thead>\n",
              "\t<tr><th scope=col>observacoes</th><th scope=col>perfil</th><th scope=col>tempo</th><th scope=col>distancia</th><th scope=col>semaforos</th><th scope=col>periodo</th></tr>\n",
              "\t<tr><th scope=col>&lt;chr&gt;</th><th scope=col>&lt;chr&gt;</th><th scope=col>&lt;dbl&gt;</th><th scope=col>&lt;dbl&gt;</th><th scope=col>&lt;dbl&gt;</th><th scope=col>&lt;chr&gt;</th></tr>\n",
              "</thead>\n",
              "<tbody>\n",
              "\t<tr><td>Gabriela</td><td>calmo   </td><td>15</td><td> 8</td><td>0</td><td>Manhã</td></tr>\n",
              "\t<tr><td>Dalila  </td><td>moderado</td><td>20</td><td> 6</td><td>1</td><td>Manhã</td></tr>\n",
              "\t<tr><td>Gustavo </td><td>moderado</td><td>20</td><td>15</td><td>0</td><td>Manhã</td></tr>\n",
              "</tbody>\n",
              "</table>\n"
            ]
          },
          "metadata": {}
        }
      ]
    },
    {
      "cell_type": "code",
      "metadata": {
        "colab": {
          "base_uri": "https://localhost:8080/",
          "height": 192
        },
        "id": "VTjG1kdSZ3TZ",
        "outputId": "8c218528-2314-4a92-bd99-99b3a32a4626"
      },
      "source": [
        "base_relocate <- relocate(base_renomeada, perfil, .before = observacoes)\n",
        "head(base_relocate, n=3)"
      ],
      "execution_count": 142,
      "outputs": [
        {
          "output_type": "display_data",
          "data": {
            "text/plain": [
              "  perfil   observacoes tempo distancia semaforos periodo\n",
              "1 calmo    Gabriela    15     8        0         Manhã  \n",
              "2 moderado Dalila      20     6        1         Manhã  \n",
              "3 moderado Gustavo     20    15        0         Manhã  "
            ],
            "text/latex": "A tibble: 3 × 6\n\\begin{tabular}{llllll}\n perfil & observacoes & tempo & distancia & semaforos & periodo\\\\\n <chr> & <chr> & <dbl> & <dbl> & <dbl> & <chr>\\\\\n\\hline\n\t calmo    & Gabriela & 15 &  8 & 0 & Manhã\\\\\n\t moderado & Dalila   & 20 &  6 & 1 & Manhã\\\\\n\t moderado & Gustavo  & 20 & 15 & 0 & Manhã\\\\\n\\end{tabular}\n",
            "text/markdown": "\nA tibble: 3 × 6\n\n| perfil &lt;chr&gt; | observacoes &lt;chr&gt; | tempo &lt;dbl&gt; | distancia &lt;dbl&gt; | semaforos &lt;dbl&gt; | periodo &lt;chr&gt; |\n|---|---|---|---|---|---|\n| calmo    | Gabriela | 15 |  8 | 0 | Manhã |\n| moderado | Dalila   | 20 |  6 | 1 | Manhã |\n| moderado | Gustavo  | 20 | 15 | 0 | Manhã |\n\n",
            "text/html": [
              "<table class=\"dataframe\">\n",
              "<caption>A tibble: 3 × 6</caption>\n",
              "<thead>\n",
              "\t<tr><th scope=col>perfil</th><th scope=col>observacoes</th><th scope=col>tempo</th><th scope=col>distancia</th><th scope=col>semaforos</th><th scope=col>periodo</th></tr>\n",
              "\t<tr><th scope=col>&lt;chr&gt;</th><th scope=col>&lt;chr&gt;</th><th scope=col>&lt;dbl&gt;</th><th scope=col>&lt;dbl&gt;</th><th scope=col>&lt;dbl&gt;</th><th scope=col>&lt;chr&gt;</th></tr>\n",
              "</thead>\n",
              "<tbody>\n",
              "\t<tr><td>calmo   </td><td>Gabriela</td><td>15</td><td> 8</td><td>0</td><td>Manhã</td></tr>\n",
              "\t<tr><td>moderado</td><td>Dalila  </td><td>20</td><td> 6</td><td>1</td><td>Manhã</td></tr>\n",
              "\t<tr><td>moderado</td><td>Gustavo </td><td>20</td><td>15</td><td>0</td><td>Manhã</td></tr>\n",
              "</tbody>\n",
              "</table>\n"
            ]
          },
          "metadata": {}
        }
      ]
    },
    {
      "cell_type": "markdown",
      "metadata": {
        "id": "bHfPOKr9aQ1d"
      },
      "source": [
        "**pull** seleciona parte do Dataset gerando um vetor."
      ]
    },
    {
      "cell_type": "code",
      "metadata": {
        "colab": {
          "base_uri": "https://localhost:8080/",
          "height": 34
        },
        "id": "8O2bbHg6aXso",
        "outputId": "f5b64308-7f28-4ba2-e104-c2d8eb6707d3"
      },
      "source": [
        "base_pull <- pull(base_renomeada, var=1)\n",
        "head(base_pull, n=3) #<-- variável observacoes"
      ],
      "execution_count": 146,
      "outputs": [
        {
          "output_type": "display_data",
          "data": {
            "text/plain": [
              "[1] \"Gabriela\" \"Dalila\"   \"Gustavo\" "
            ],
            "text/latex": "\\begin{enumerate*}\n\\item 'Gabriela'\n\\item 'Dalila'\n\\item 'Gustavo'\n\\end{enumerate*}\n",
            "text/markdown": "1. 'Gabriela'\n2. 'Dalila'\n3. 'Gustavo'\n\n\n",
            "text/html": [
              "<style>\n",
              ".list-inline {list-style: none; margin:0; padding: 0}\n",
              ".list-inline>li {display: inline-block}\n",
              ".list-inline>li:not(:last-child)::after {content: \"\\00b7\"; padding: 0 .5ex}\n",
              "</style>\n",
              "<ol class=list-inline><li>'Gabriela'</li><li>'Dalila'</li><li>'Gustavo'</li></ol>\n"
            ]
          },
          "metadata": {}
        }
      ]
    },
    {
      "cell_type": "markdown",
      "metadata": {
        "id": "0Sb7VxWYWwXY"
      },
      "source": [
        "###Operadores de Manipulação"
      ]
    },
    {
      "cell_type": "markdown",
      "metadata": {
        "id": "XEBc6OmHJKBV"
      },
      "source": [
        "**cut** divide o dataset em intervalos.\n",
        "cut(x, breaks, labels = NULL, include.lowest = FALSE, right = TRUE)\n",
        "\n",
        "\n",
        "x =  o vetor numérico que deve ser transformado;\n",
        "\n",
        "breaks = numero de intervalos;\n",
        "\n",
        "labels = rótulos lógicos anexados ao resultado;"
      ]
    },
    {
      "cell_type": "code",
      "metadata": {
        "colab": {
          "base_uri": "https://localhost:8080/",
          "height": 52
        },
        "id": "Udo5bLbhJJlk",
        "outputId": "33f25a61-daa1-4d7b-b043-7971ed00b766"
      },
      "source": [
        "to_cut <- c(0,1,2,3,4)\n",
        "cut(to_cut, c(-Inf, 1,3, Inf), c(\"Group1\", \"Group2\", \"Group3\")) #<-- -infinito até 1 = Group1, >1 até 3 = Group2, >3 até +Infinito = Group3"
      ],
      "execution_count": 102,
      "outputs": [
        {
          "output_type": "display_data",
          "data": {
            "text/plain": [
              "[1] Group1 Group1 Group2 Group2 Group3\n",
              "Levels: Group1 Group2 Group3"
            ],
            "text/latex": "\\begin{enumerate*}\n\\item Group1\n\\item Group1\n\\item Group2\n\\item Group2\n\\item Group3\n\\end{enumerate*}\n\n\\emph{Levels}: \\begin{enumerate*}\n\\item 'Group1'\n\\item 'Group2'\n\\item 'Group3'\n\\end{enumerate*}\n",
            "text/markdown": "1. Group1\n2. Group1\n3. Group2\n4. Group2\n5. Group3\n\n\n\n**Levels**: 1. 'Group1'\n2. 'Group2'\n3. 'Group3'\n\n\n",
            "text/html": [
              "<style>\n",
              ".list-inline {list-style: none; margin:0; padding: 0}\n",
              ".list-inline>li {display: inline-block}\n",
              ".list-inline>li:not(:last-child)::after {content: \"\\00b7\"; padding: 0 .5ex}\n",
              "</style>\n",
              "<ol class=list-inline><li>Group1</li><li>Group1</li><li>Group2</li><li>Group2</li><li>Group3</li></ol>\n",
              "\n",
              "<details>\n",
              "\t<summary style=display:list-item;cursor:pointer>\n",
              "\t\t<strong>Levels</strong>:\n",
              "\t</summary>\n",
              "\t<style>\n",
              "\t.list-inline {list-style: none; margin:0; padding: 0}\n",
              "\t.list-inline>li {display: inline-block}\n",
              "\t.list-inline>li:not(:last-child)::after {content: \"\\00b7\"; padding: 0 .5ex}\n",
              "\t</style>\n",
              "\t<ol class=list-inline><li>'Group1'</li><li>'Group2'</li><li>'Group3'</li></ol>\n",
              "</details>"
            ]
          },
          "metadata": {}
        }
      ]
    },
    {
      "cell_type": "markdown",
      "metadata": {
        "id": "qKS7tw2_QWw2"
      },
      "source": [
        "**quantile** obtem os divisores percentis de um dataset."
      ]
    },
    {
      "cell_type": "code",
      "metadata": {
        "colab": {
          "base_uri": "https://localhost:8080/",
          "height": 34
        },
        "id": "cjlpucSiQtCs",
        "outputId": "68a57b01-58f7-40e4-d6cc-1bf8feb9d4c8"
      },
      "source": [
        "to_quantile <- c(0,1,2,3,4,5,6,7,8,9,10,11,12,13,14,15,16,17,18,19,20)\n",
        "quantile(to_quantile,\n",
        "          type = 5,\n",
        "          probs = c(0.25, 0.50, 0.75)) #<-- divisores (0-25%) 1º (25%-50%), 2º (50%-75%), 3º (75%-100%)"
      ],
      "execution_count": 119,
      "outputs": [
        {
          "output_type": "display_data",
          "data": {
            "text/plain": [
              "  25%   50%   75% \n",
              " 4.75 10.00 15.25 "
            ],
            "text/latex": "\\begin{description*}\n\\item[25\\textbackslash{}\\%] 4.75\n\\item[50\\textbackslash{}\\%] 10\n\\item[75\\textbackslash{}\\%] 15.25\n\\end{description*}\n",
            "text/markdown": "25%\n:   4.7550%\n:   1075%\n:   15.25\n\n",
            "text/html": [
              "<style>\n",
              ".dl-inline {width: auto; margin:0; padding: 0}\n",
              ".dl-inline>dt, .dl-inline>dd {float: none; width: auto; display: inline-block}\n",
              ".dl-inline>dt::after {content: \":\\0020\"; padding-right: .5ex}\n",
              ".dl-inline>dt:not(:first-of-type) {padding-left: .5ex}\n",
              "</style><dl class=dl-inline><dt>25%</dt><dd>4.75</dd><dt>50%</dt><dd>10</dd><dt>75%</dt><dd>15.25</dd></dl>\n"
            ]
          },
          "metadata": {}
        }
      ]
    },
    {
      "cell_type": "markdown",
      "metadata": {
        "id": "yodbVQApW4pb"
      },
      "source": [
        "**median** realiza a média."
      ]
    },
    {
      "cell_type": "code",
      "metadata": {
        "colab": {
          "base_uri": "https://localhost:8080/",
          "height": 34
        },
        "id": "Zj0eQiYnXTPu",
        "outputId": "9da2458d-d1d2-46e9-a794-78fc23ee3c27"
      },
      "source": [
        "to_median <- c(0,110)\n",
        "median(to_median)"
      ],
      "execution_count": 128,
      "outputs": [
        {
          "output_type": "display_data",
          "data": {
            "text/plain": [
              "[1] 55"
            ],
            "text/latex": "55",
            "text/markdown": "55",
            "text/html": [
              "55"
            ]
          },
          "metadata": {}
        }
      ]
    },
    {
      "cell_type": "markdown",
      "metadata": {
        "id": "XM4hkN7_b5ab"
      },
      "source": [
        "case_when"
      ]
    },
    {
      "cell_type": "code",
      "metadata": {
        "colab": {
          "base_uri": "https://localhost:8080/",
          "height": 34
        },
        "id": "m_OS3i-Ab57v",
        "outputId": "74b2a2f1-05d9-49d3-9481-da716e6e38b6"
      },
      "source": [
        "to_case_when <- c(1,2,3,4,5,6)\n",
        "case_when(to_case_when < 3 ~ \"menor\",to_case_when == 3 ~ \"igual\", to_case_when > 3 ~ \"maior\") #<-- comparação se o numero é menor, igual ou maior a 3"
      ],
      "execution_count": 155,
      "outputs": [
        {
          "output_type": "display_data",
          "data": {
            "text/plain": [
              "[1] \"menor\" \"menor\" \"igual\" \"maior\" \"maior\" \"maior\""
            ],
            "text/latex": "\\begin{enumerate*}\n\\item 'menor'\n\\item 'menor'\n\\item 'igual'\n\\item 'maior'\n\\item 'maior'\n\\item 'maior'\n\\end{enumerate*}\n",
            "text/markdown": "1. 'menor'\n2. 'menor'\n3. 'igual'\n4. 'maior'\n5. 'maior'\n6. 'maior'\n\n\n",
            "text/html": [
              "<style>\n",
              ".list-inline {list-style: none; margin:0; padding: 0}\n",
              ".list-inline>li {display: inline-block}\n",
              ".list-inline>li:not(:last-child)::after {content: \"\\00b7\"; padding: 0 .5ex}\n",
              "</style>\n",
              "<ol class=list-inline><li>'menor'</li><li>'menor'</li><li>'igual'</li><li>'maior'</li><li>'maior'</li><li>'maior'</li></ol>\n"
            ]
          },
          "metadata": {}
        }
      ]
    },
    {
      "cell_type": "markdown",
      "metadata": {
        "id": "DGcw24PHhb6q"
      },
      "source": [
        "## Aula II"
      ]
    }
  ]
}